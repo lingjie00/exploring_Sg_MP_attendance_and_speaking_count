{
 "cells": [
  {
   "cell_type": "markdown",
   "metadata": {
    "toc": true
   },
   "source": [
    "<h1>Table of Contents<span class=\"tocSkip\"></span></h1>\n",
    "<div class=\"toc\"><ul class=\"toc-item\"><li><span><a href=\"#Background-context\" data-toc-modified-id=\"Background-context-1\"><span class=\"toc-item-num\">1&nbsp;&nbsp;</span>Background context</a></span></li><li><span><a href=\"#Library\" data-toc-modified-id=\"Library-2\"><span class=\"toc-item-num\">2&nbsp;&nbsp;</span>Library</a></span></li><li><span><a href=\"#Data-cleaning\" data-toc-modified-id=\"Data-cleaning-3\"><span class=\"toc-item-num\">3&nbsp;&nbsp;</span>Data cleaning</a></span><ul class=\"toc-item\"><li><span><a href=\"#Load-data\" data-toc-modified-id=\"Load-data-3.1\"><span class=\"toc-item-num\">3.1&nbsp;&nbsp;</span>Load data</a></span></li><li><span><a href=\"#First-look-at-data\" data-toc-modified-id=\"First-look-at-data-3.2\"><span class=\"toc-item-num\">3.2&nbsp;&nbsp;</span>First look at data</a></span><ul class=\"toc-item\"><li><ul class=\"toc-item\"><li><span><a href=\"#Let's-check-if-the-entries-at-wiki-page-are-correct\" data-toc-modified-id=\"Let's-check-if-the-entries-at-wiki-page-are-correct-3.2.0.1\"><span class=\"toc-item-num\">3.2.0.1&nbsp;&nbsp;</span>Let's check if the entries at wiki page are correct</a></span></li><li><span><a href=\"#Let's-check-if-the-entries-at-Kopi-are-correct\" data-toc-modified-id=\"Let's-check-if-the-entries-at-Kopi-are-correct-3.2.0.2\"><span class=\"toc-item-num\">3.2.0.2&nbsp;&nbsp;</span>Let's check if the entries at Kopi are correct</a></span></li></ul></li></ul></li><li><span><a href=\"#Clean-up-names\" data-toc-modified-id=\"Clean-up-names-3.3\"><span class=\"toc-item-num\">3.3&nbsp;&nbsp;</span>Clean up names</a></span></li><li><span><a href=\"#Verify-data-accuracy\" data-toc-modified-id=\"Verify-data-accuracy-3.4\"><span class=\"toc-item-num\">3.4&nbsp;&nbsp;</span>Verify data accuracy</a></span></li><li><span><a href=\"#Converting-to-percentage\" data-toc-modified-id=\"Converting-to-percentage-3.5\"><span class=\"toc-item-num\">3.5&nbsp;&nbsp;</span>Converting to percentage</a></span></li></ul></li><li><span><a href=\"#Data-visualisation\" data-toc-modified-id=\"Data-visualisation-4\"><span class=\"toc-item-num\">4&nbsp;&nbsp;</span>Data visualisation</a></span><ul class=\"toc-item\"><li><span><a href=\"#Attendance\" data-toc-modified-id=\"Attendance-4.1\"><span class=\"toc-item-num\">4.1&nbsp;&nbsp;</span>Attendance</a></span><ul class=\"toc-item\"><li><span><a href=\"#Attendance-by-Party\" data-toc-modified-id=\"Attendance-by-Party-4.1.1\"><span class=\"toc-item-num\">4.1.1&nbsp;&nbsp;</span>Attendance by Party</a></span></li><li><span><a href=\"#Attendance-by-Constituency\" data-toc-modified-id=\"Attendance-by-Constituency-4.1.2\"><span class=\"toc-item-num\">4.1.2&nbsp;&nbsp;</span>Attendance by Constituency</a></span></li><li><span><a href=\"#Individual-attendance\" data-toc-modified-id=\"Individual-attendance-4.1.3\"><span class=\"toc-item-num\">4.1.3&nbsp;&nbsp;</span>Individual attendance</a></span></li></ul></li><li><span><a href=\"#Speaking\" data-toc-modified-id=\"Speaking-4.2\"><span class=\"toc-item-num\">4.2&nbsp;&nbsp;</span>Speaking</a></span><ul class=\"toc-item\"><li><span><a href=\"#Speaking-by-Party\" data-toc-modified-id=\"Speaking-by-Party-4.2.1\"><span class=\"toc-item-num\">4.2.1&nbsp;&nbsp;</span>Speaking by Party</a></span></li><li><span><a href=\"#Speaking-by-Constituency\" data-toc-modified-id=\"Speaking-by-Constituency-4.2.2\"><span class=\"toc-item-num\">4.2.2&nbsp;&nbsp;</span>Speaking by Constituency</a></span></li><li><span><a href=\"#Individial-number-of-sittings-spoken\" data-toc-modified-id=\"Individial-number-of-sittings-spoken-4.2.3\"><span class=\"toc-item-num\">4.2.3&nbsp;&nbsp;</span>Individial number of sittings spoken</a></span></li></ul></li><li><span><a href=\"#Spoke-while-attending-meeting\" data-toc-modified-id=\"Spoke-while-attending-meeting-4.3\"><span class=\"toc-item-num\">4.3&nbsp;&nbsp;</span>Spoke while attending meeting</a></span><ul class=\"toc-item\"><li><span><a href=\"#Spoke-while-attending-meeting-by-Party\" data-toc-modified-id=\"Spoke-while-attending-meeting-by-Party-4.3.1\"><span class=\"toc-item-num\">4.3.1&nbsp;&nbsp;</span>Spoke while attending meeting by Party</a></span></li><li><span><a href=\"#Spoke-while-attending-by-Constituency\" data-toc-modified-id=\"Spoke-while-attending-by-Constituency-4.3.2\"><span class=\"toc-item-num\">4.3.2&nbsp;&nbsp;</span>Spoke while attending by Constituency</a></span></li><li><span><a href=\"#Spoke-while-attending-sittings-by-individual\" data-toc-modified-id=\"Spoke-while-attending-sittings-by-individual-4.3.3\"><span class=\"toc-item-num\">4.3.3&nbsp;&nbsp;</span>Spoke while attending sittings by individual</a></span></li></ul></li></ul></li><li><span><a href=\"#Overall\" data-toc-modified-id=\"Overall-5\"><span class=\"toc-item-num\">5&nbsp;&nbsp;</span>Overall</a></span><ul class=\"toc-item\"><li><span><a href=\"#Party-performance\" data-toc-modified-id=\"Party-performance-5.1\"><span class=\"toc-item-num\">5.1&nbsp;&nbsp;</span>Party performance</a></span></li><li><span><a href=\"#Constituency-performance\" data-toc-modified-id=\"Constituency-performance-5.2\"><span class=\"toc-item-num\">5.2&nbsp;&nbsp;</span>Constituency performance</a></span></li><li><span><a href=\"#Individual-performance\" data-toc-modified-id=\"Individual-performance-5.3\"><span class=\"toc-item-num\">5.3&nbsp;&nbsp;</span>Individual performance</a></span></li><li><span><a href=\"#Dashboard\" data-toc-modified-id=\"Dashboard-5.4\"><span class=\"toc-item-num\">5.4&nbsp;&nbsp;</span>Dashboard</a></span></li></ul></li><li><span><a href=\"#Remarks\" data-toc-modified-id=\"Remarks-6\"><span class=\"toc-item-num\">6&nbsp;&nbsp;</span>Remarks</a></span></li></ul></div>"
   ]
  },
  {
   "cell_type": "markdown",
   "metadata": {},
   "source": [
    "# Background context"
   ]
  },
  {
   "cell_type": "markdown",
   "metadata": {},
   "source": [
    "This is a report inspired by the Kopi.co (https://thekopi.co/about/)'s report on Singapore's Members of Parliament, titled \"How Active Are Your MPs in Parliament? Exploring MPs’ Attendance and Speaking Count\". Kopi's report included two tables containing the count of attendance and speaking during parliament sitting for all MPs.\n",
    "\n",
    "However, the original table presented by the Kopi is a bit hard to comprehend. Therefore, I have done some exploration based on the data provided by the Kopi.\n",
    "\n",
    "I have not verified if the attendance and speaking counts are correct. I did however, found that one of the MPs profile was wrongly recorded.\n",
    "Assuming all counts are accurate, we might still underestimate the average performance of PAP here. The current cabinet members (including PM Lee) did not record any speaking counts. But I'm unsure of the reasons.\n",
    "\n",
    "The dashboard here reflects the key findings in my report. For more detail breakdown, including the full table reports, please refer to section: Overall"
   ]
  },
  {
   "cell_type": "markdown",
   "metadata": {},
   "source": [
    "Original report and data source: https://thekopi.co/2020/06/23/singapore-parliament-performance/"
   ]
  },
  {
   "cell_type": "markdown",
   "metadata": {},
   "source": [
    "![Dashboard.png](output/dashboard.png)"
   ]
  },
  {
   "cell_type": "markdown",
   "metadata": {},
   "source": [
    "# Library"
   ]
  },
  {
   "cell_type": "code",
   "execution_count": 1,
   "metadata": {
    "ExecuteTime": {
     "end_time": "2020-06-24T13:25:23.231033Z",
     "start_time": "2020-06-24T13:25:22.489395Z"
    }
   },
   "outputs": [],
   "source": [
    "import requests\n",
    "import pandas as pd\n",
    "import numpy as np\n",
    "import matplotlib.pyplot as plt\n",
    "plt.style.use('fivethirtyeight')"
   ]
  },
  {
   "cell_type": "markdown",
   "metadata": {},
   "source": [
    "# Data cleaning"
   ]
  },
  {
   "cell_type": "markdown",
   "metadata": {},
   "source": [
    "The present Thirteenth Parliament has 100 MPs, consisting of 88 elected MPs, 3 Non-Constituency MPs (NCMPs) and 9 Nominated MPs (NMPs)\\\n",
    "\n",
    "There are a total of 82 PAP, 9 WP and 9 NMP\n",
    "\n",
    "https://www.parliament.gov.sg/about-us/structure/members-of-parliament \\\n",
    "https://en.wikipedia.org/wiki/Parliament_of_Singapore"
   ]
  },
  {
   "cell_type": "markdown",
   "metadata": {},
   "source": [
    "We will compare the entries in the Kopi with wikipedia page to determine if the entries in the Kopi is correct. "
   ]
  },
  {
   "cell_type": "markdown",
   "metadata": {},
   "source": [
    "## Load data"
   ]
  },
  {
   "cell_type": "markdown",
   "metadata": {},
   "source": [
    "Loading data from the Kopi: https://thekopi.co/2020/06/23/singapore-parliament-performance/ \\\n",
    "and wikipedia page: https://en.wikipedia.org/wiki/List_of_members_of_the_13th_Parliament_of_Singapore"
   ]
  },
  {
   "cell_type": "code",
   "execution_count": 2,
   "metadata": {
    "ExecuteTime": {
     "end_time": "2020-06-24T13:25:25.050913Z",
     "start_time": "2020-06-24T13:25:24.355567Z"
    }
   },
   "outputs": [],
   "source": [
    "url = \"https://thekopi.co/2020/06/23/singapore-parliament-performance/\"\n",
    "page = requests.get(url)\n",
    "content = pd.read_html(page.content)\n",
    "attendance = content[0]\n",
    "speaking = content[1]\n",
    "attendance = attendance[[\n",
    "    'Party', 'Constituency', 'Name', 'Number of Sittings Attended (Out of 132)'\n",
    "]]"
   ]
  },
  {
   "cell_type": "code",
   "execution_count": 3,
   "metadata": {
    "ExecuteTime": {
     "end_time": "2020-06-24T13:25:25.244726Z",
     "start_time": "2020-06-24T13:25:25.053026Z"
    }
   },
   "outputs": [],
   "source": [
    "mp_wiki = \"https://en.wikipedia.org/wiki/List_of_members_of_the_13th_Parliament_of_Singapore\"\n",
    "mp_page = requests.get(mp_wiki)\n",
    "mp_contet = pd.read_html(mp_page.content)\n",
    "mp_names = mp_contet[1]\n",
    "non_constituency_mp = mp_contet[2]\n",
    "nmp_names = mp_contet[3]"
   ]
  },
  {
   "cell_type": "markdown",
   "metadata": {},
   "source": [
    "## First look at data"
   ]
  },
  {
   "cell_type": "markdown",
   "metadata": {},
   "source": [
    "#### Let's check if the entries at wiki page are correct"
   ]
  },
  {
   "cell_type": "code",
   "execution_count": 4,
   "metadata": {
    "ExecuteTime": {
     "end_time": "2020-06-24T13:25:25.259990Z",
     "start_time": "2020-06-24T13:25:25.247204Z"
    }
   },
   "outputs": [
    {
     "data": {
      "text/html": [
       "<div>\n",
       "<style scoped>\n",
       "    .dataframe tbody tr th:only-of-type {\n",
       "        vertical-align: middle;\n",
       "    }\n",
       "\n",
       "    .dataframe tbody tr th {\n",
       "        vertical-align: top;\n",
       "    }\n",
       "\n",
       "    .dataframe thead th {\n",
       "        text-align: right;\n",
       "    }\n",
       "</style>\n",
       "<table border=\"1\" class=\"dataframe\">\n",
       "  <thead>\n",
       "    <tr style=\"text-align: right;\">\n",
       "      <th></th>\n",
       "      <th>Constituency</th>\n",
       "      <th>Party</th>\n",
       "      <th>Party.1</th>\n",
       "      <th>Name</th>\n",
       "      <th>Portrait</th>\n",
       "      <th>Date of birth(Age)</th>\n",
       "      <th>Ref</th>\n",
       "    </tr>\n",
       "  </thead>\n",
       "  <tbody>\n",
       "    <tr>\n",
       "      <th>0</th>\n",
       "      <td>AljuniedGRC</td>\n",
       "      <td>NaN</td>\n",
       "      <td>WP</td>\n",
       "      <td>Chen Show Mao</td>\n",
       "      <td>NaN</td>\n",
       "      <td>(59 years, 138 days)</td>\n",
       "      <td>[8]</td>\n",
       "    </tr>\n",
       "    <tr>\n",
       "      <th>1</th>\n",
       "      <td>AljuniedGRC</td>\n",
       "      <td>NaN</td>\n",
       "      <td>WP</td>\n",
       "      <td>Sylvia Lim</td>\n",
       "      <td>NaN</td>\n",
       "      <td>(55 years, 87 days)</td>\n",
       "      <td>[9]</td>\n",
       "    </tr>\n",
       "    <tr>\n",
       "      <th>2</th>\n",
       "      <td>AljuniedGRC</td>\n",
       "      <td>NaN</td>\n",
       "      <td>WP</td>\n",
       "      <td>Low Thia Khiang</td>\n",
       "      <td>NaN</td>\n",
       "      <td>(63 years, 292 days)</td>\n",
       "      <td>[10][11]</td>\n",
       "    </tr>\n",
       "    <tr>\n",
       "      <th>3</th>\n",
       "      <td>AljuniedGRC</td>\n",
       "      <td>NaN</td>\n",
       "      <td>WP</td>\n",
       "      <td>Muhamad Faisal bin Abdul Manap</td>\n",
       "      <td>–</td>\n",
       "      <td>(45 years, 17 days)</td>\n",
       "      <td>[12]</td>\n",
       "    </tr>\n",
       "    <tr>\n",
       "      <th>4</th>\n",
       "      <td>AljuniedGRC</td>\n",
       "      <td>NaN</td>\n",
       "      <td>WP</td>\n",
       "      <td>Pritam Singh</td>\n",
       "      <td>NaN</td>\n",
       "      <td>(43 years, 326 days)</td>\n",
       "      <td>[13]</td>\n",
       "    </tr>\n",
       "  </tbody>\n",
       "</table>\n",
       "</div>"
      ],
      "text/plain": [
       "  Constituency  Party Party.1                            Name Portrait  \\\n",
       "0  AljuniedGRC    NaN      WP                   Chen Show Mao      NaN   \n",
       "1  AljuniedGRC    NaN      WP                      Sylvia Lim      NaN   \n",
       "2  AljuniedGRC    NaN      WP                 Low Thia Khiang      NaN   \n",
       "3  AljuniedGRC    NaN      WP  Muhamad Faisal bin Abdul Manap        –   \n",
       "4  AljuniedGRC    NaN      WP                    Pritam Singh      NaN   \n",
       "\n",
       "     Date of birth(Age)       Ref  \n",
       "0  (59 years, 138 days)       [8]  \n",
       "1   (55 years, 87 days)       [9]  \n",
       "2  (63 years, 292 days)  [10][11]  \n",
       "3   (45 years, 17 days)      [12]  \n",
       "4  (43 years, 326 days)      [13]  "
      ]
     },
     "execution_count": 4,
     "metadata": {},
     "output_type": "execute_result"
    }
   ],
   "source": [
    "mp_names.head()"
   ]
  },
  {
   "cell_type": "code",
   "execution_count": 5,
   "metadata": {
    "ExecuteTime": {
     "end_time": "2020-06-24T13:25:25.269782Z",
     "start_time": "2020-06-24T13:25:25.261827Z"
    }
   },
   "outputs": [
    {
     "data": {
      "text/html": [
       "<div>\n",
       "<style scoped>\n",
       "    .dataframe tbody tr th:only-of-type {\n",
       "        vertical-align: middle;\n",
       "    }\n",
       "\n",
       "    .dataframe tbody tr th {\n",
       "        vertical-align: top;\n",
       "    }\n",
       "\n",
       "    .dataframe thead th {\n",
       "        text-align: right;\n",
       "    }\n",
       "</style>\n",
       "<table border=\"1\" class=\"dataframe\">\n",
       "  <thead>\n",
       "    <tr style=\"text-align: right;\">\n",
       "      <th></th>\n",
       "      <th>Name</th>\n",
       "      <th>Portrait</th>\n",
       "      <th>Date of birth(Age)</th>\n",
       "      <th>Party</th>\n",
       "      <th>Party.1</th>\n",
       "      <th>Ref</th>\n",
       "    </tr>\n",
       "  </thead>\n",
       "  <tbody>\n",
       "    <tr>\n",
       "      <th>0</th>\n",
       "      <td>Daniel Goh Pei Siong A</td>\n",
       "      <td>–</td>\n",
       "      <td>1973(46–47 years)</td>\n",
       "      <td>NaN</td>\n",
       "      <td>Workers' Party</td>\n",
       "      <td>[125]</td>\n",
       "    </tr>\n",
       "    <tr>\n",
       "      <th>1</th>\n",
       "      <td>Leon Perera</td>\n",
       "      <td>–</td>\n",
       "      <td>1970(49–50 years)</td>\n",
       "      <td>NaN</td>\n",
       "      <td>Workers' Party</td>\n",
       "      <td>[126]</td>\n",
       "    </tr>\n",
       "    <tr>\n",
       "      <th>2</th>\n",
       "      <td>Dennis Tan Lip Fong</td>\n",
       "      <td>–</td>\n",
       "      <td>1970(49–50 years)</td>\n",
       "      <td>NaN</td>\n",
       "      <td>Workers' Party</td>\n",
       "      <td>[127]</td>\n",
       "    </tr>\n",
       "  </tbody>\n",
       "</table>\n",
       "</div>"
      ],
      "text/plain": [
       "                     Name Portrait Date of birth(Age)  Party         Party.1  \\\n",
       "0  Daniel Goh Pei Siong A        –  1973(46–47 years)    NaN  Workers' Party   \n",
       "1             Leon Perera        –  1970(49–50 years)    NaN  Workers' Party   \n",
       "2     Dennis Tan Lip Fong        –  1970(49–50 years)    NaN  Workers' Party   \n",
       "\n",
       "     Ref  \n",
       "0  [125]  \n",
       "1  [126]  \n",
       "2  [127]  "
      ]
     },
     "execution_count": 5,
     "metadata": {},
     "output_type": "execute_result"
    }
   ],
   "source": [
    "non_constituency_mp.head()"
   ]
  },
  {
   "cell_type": "code",
   "execution_count": 6,
   "metadata": {
    "ExecuteTime": {
     "end_time": "2020-06-24T13:25:25.277770Z",
     "start_time": "2020-06-24T13:25:25.271188Z"
    }
   },
   "outputs": [
    {
     "data": {
      "text/html": [
       "<div>\n",
       "<style scoped>\n",
       "    .dataframe tbody tr th:only-of-type {\n",
       "        vertical-align: middle;\n",
       "    }\n",
       "\n",
       "    .dataframe tbody tr th {\n",
       "        vertical-align: top;\n",
       "    }\n",
       "\n",
       "    .dataframe thead th {\n",
       "        text-align: right;\n",
       "    }\n",
       "</style>\n",
       "<table border=\"1\" class=\"dataframe\">\n",
       "  <thead>\n",
       "    <tr style=\"text-align: right;\">\n",
       "      <th></th>\n",
       "      <th>Name</th>\n",
       "      <th>Date of birth(Age)</th>\n",
       "      <th>Ref</th>\n",
       "    </tr>\n",
       "  </thead>\n",
       "  <tbody>\n",
       "    <tr>\n",
       "      <th>0</th>\n",
       "      <td>Azmoon Ahmad</td>\n",
       "      <td>1962(57–58 years)</td>\n",
       "      <td>[130]</td>\n",
       "    </tr>\n",
       "    <tr>\n",
       "      <th>1</th>\n",
       "      <td>Chia Yong Yong</td>\n",
       "      <td>10 October 1962(57 years, 257 days)</td>\n",
       "      <td>[131]</td>\n",
       "    </tr>\n",
       "    <tr>\n",
       "      <th>2</th>\n",
       "      <td>Thomas Chua Kee Seng</td>\n",
       "      <td>1 November 1954(65 years, 235 days)</td>\n",
       "      <td>[132]</td>\n",
       "    </tr>\n",
       "    <tr>\n",
       "      <th>3</th>\n",
       "      <td>Ganesh Rajaram</td>\n",
       "      <td>1967(52–53 years)</td>\n",
       "      <td>[133]</td>\n",
       "    </tr>\n",
       "    <tr>\n",
       "      <th>4</th>\n",
       "      <td>Kok Heng Leun</td>\n",
       "      <td>1966(53–54 years)</td>\n",
       "      <td>[134]</td>\n",
       "    </tr>\n",
       "  </tbody>\n",
       "</table>\n",
       "</div>"
      ],
      "text/plain": [
       "                   Name                   Date of birth(Age)    Ref\n",
       "0          Azmoon Ahmad                    1962(57–58 years)  [130]\n",
       "1        Chia Yong Yong  10 October 1962(57 years, 257 days)  [131]\n",
       "2  Thomas Chua Kee Seng  1 November 1954(65 years, 235 days)  [132]\n",
       "3        Ganesh Rajaram                    1967(52–53 years)  [133]\n",
       "4         Kok Heng Leun                    1966(53–54 years)  [134]"
      ]
     },
     "execution_count": 6,
     "metadata": {},
     "output_type": "execute_result"
    }
   ],
   "source": [
    "nmp_names.head()"
   ]
  },
  {
   "cell_type": "markdown",
   "metadata": {},
   "source": [
    "Let's standardise the Non constituency MP by changing their party name into WP (the naming used in mp_names)"
   ]
  },
  {
   "cell_type": "code",
   "execution_count": 7,
   "metadata": {
    "ExecuteTime": {
     "end_time": "2020-06-24T13:25:25.571712Z",
     "start_time": "2020-06-24T13:25:25.569326Z"
    }
   },
   "outputs": [],
   "source": [
    "non_constituency_mp['Party.1'] = \"WP\""
   ]
  },
  {
   "cell_type": "markdown",
   "metadata": {},
   "source": [
    "Let's standardise the NMPs by including a party name"
   ]
  },
  {
   "cell_type": "code",
   "execution_count": 8,
   "metadata": {
    "ExecuteTime": {
     "end_time": "2020-06-24T13:25:25.937216Z",
     "start_time": "2020-06-24T13:25:25.934404Z"
    }
   },
   "outputs": [],
   "source": [
    "nmp_names['Party.1'] = \"Nominated MP\""
   ]
  },
  {
   "cell_type": "markdown",
   "metadata": {},
   "source": [
    "Let's inspect the data"
   ]
  },
  {
   "cell_type": "code",
   "execution_count": 9,
   "metadata": {
    "ExecuteTime": {
     "end_time": "2020-06-24T13:25:26.302777Z",
     "start_time": "2020-06-24T13:25:26.298644Z"
    },
    "scrolled": true
   },
   "outputs": [
    {
     "name": "stdout",
     "output_type": "stream",
     "text": [
      "Number of\n",
      "MP: 89\n",
      "Non costituency MP: 3\n",
      "NMP: 9\n"
     ]
    }
   ],
   "source": [
    "print('Number of')\n",
    "print('MP: {}\\nNon costituency MP: {}\\nNMP: {}'\\\n",
    "        .format(mp_names.shape[0], non_constituency_mp.shape[0], nmp_names.shape[0]))"
   ]
  },
  {
   "cell_type": "code",
   "execution_count": 10,
   "metadata": {
    "ExecuteTime": {
     "end_time": "2020-06-24T13:25:26.309316Z",
     "start_time": "2020-06-24T13:25:26.304773Z"
    },
    "scrolled": true
   },
   "outputs": [
    {
     "data": {
      "text/plain": [
       "1"
      ]
     },
     "execution_count": 10,
     "metadata": {},
     "output_type": "execute_result"
    }
   ],
   "source": [
    "(mp_names['Name'] == 'Seat Vacant').sum()"
   ]
  },
  {
   "cell_type": "markdown",
   "metadata": {},
   "source": [
    "There is one empty seat as Halimah Yacob step down as MP\\\n",
    "https://www.straitstimes.com/politics/halimah-yacob-steps-down-as-speaker-and-mp-resigns-from-pap-to-run-for-president"
   ]
  },
  {
   "cell_type": "code",
   "execution_count": 11,
   "metadata": {
    "ExecuteTime": {
     "end_time": "2020-06-24T13:25:26.667966Z",
     "start_time": "2020-06-24T13:25:26.664653Z"
    }
   },
   "outputs": [],
   "source": [
    "#let's drop the row with vacant seats\n",
    "mp_names = mp_names[~(mp_names['Name'] == 'Seat Vacant')]"
   ]
  },
  {
   "cell_type": "code",
   "execution_count": 12,
   "metadata": {
    "ExecuteTime": {
     "end_time": "2020-06-24T13:25:26.672970Z",
     "start_time": "2020-06-24T13:25:26.670011Z"
    }
   },
   "outputs": [
    {
     "name": "stdout",
     "output_type": "stream",
     "text": [
      "Number of\n",
      "MP: 88\n",
      "Non costituency MP: 3\n",
      "NMP: 9\n"
     ]
    }
   ],
   "source": [
    "print('Number of')\n",
    "print('MP: {}\\nNon costituency MP: {}\\nNMP: {}'\\\n",
    "        .format(mp_names.shape[0], non_constituency_mp.shape[0], nmp_names.shape[0]))"
   ]
  },
  {
   "cell_type": "markdown",
   "metadata": {},
   "source": [
    "Now we have the expected numbers, let's combine the records"
   ]
  },
  {
   "cell_type": "code",
   "execution_count": 13,
   "metadata": {
    "ExecuteTime": {
     "end_time": "2020-06-24T13:25:27.048681Z",
     "start_time": "2020-06-24T13:25:27.041128Z"
    }
   },
   "outputs": [],
   "source": [
    "sg_parliament = pd.concat([mp_names, non_constituency_mp, nmp_names], axis=0).drop(['Party','Portrait','Ref'], axis=1)"
   ]
  },
  {
   "cell_type": "code",
   "execution_count": 14,
   "metadata": {
    "ExecuteTime": {
     "end_time": "2020-06-24T13:25:27.057960Z",
     "start_time": "2020-06-24T13:25:27.050568Z"
    }
   },
   "outputs": [
    {
     "data": {
      "text/html": [
       "<div>\n",
       "<style scoped>\n",
       "    .dataframe tbody tr th:only-of-type {\n",
       "        vertical-align: middle;\n",
       "    }\n",
       "\n",
       "    .dataframe tbody tr th {\n",
       "        vertical-align: top;\n",
       "    }\n",
       "\n",
       "    .dataframe thead th {\n",
       "        text-align: right;\n",
       "    }\n",
       "</style>\n",
       "<table border=\"1\" class=\"dataframe\">\n",
       "  <thead>\n",
       "    <tr style=\"text-align: right;\">\n",
       "      <th></th>\n",
       "      <th>Constituency</th>\n",
       "      <th>Party.1</th>\n",
       "      <th>Name</th>\n",
       "      <th>Date of birth(Age)</th>\n",
       "    </tr>\n",
       "  </thead>\n",
       "  <tbody>\n",
       "    <tr>\n",
       "      <th>0</th>\n",
       "      <td>AljuniedGRC</td>\n",
       "      <td>WP</td>\n",
       "      <td>Chen Show Mao</td>\n",
       "      <td>(59 years, 138 days)</td>\n",
       "    </tr>\n",
       "    <tr>\n",
       "      <th>1</th>\n",
       "      <td>AljuniedGRC</td>\n",
       "      <td>WP</td>\n",
       "      <td>Sylvia Lim</td>\n",
       "      <td>(55 years, 87 days)</td>\n",
       "    </tr>\n",
       "    <tr>\n",
       "      <th>2</th>\n",
       "      <td>AljuniedGRC</td>\n",
       "      <td>WP</td>\n",
       "      <td>Low Thia Khiang</td>\n",
       "      <td>(63 years, 292 days)</td>\n",
       "    </tr>\n",
       "    <tr>\n",
       "      <th>3</th>\n",
       "      <td>AljuniedGRC</td>\n",
       "      <td>WP</td>\n",
       "      <td>Muhamad Faisal bin Abdul Manap</td>\n",
       "      <td>(45 years, 17 days)</td>\n",
       "    </tr>\n",
       "    <tr>\n",
       "      <th>4</th>\n",
       "      <td>AljuniedGRC</td>\n",
       "      <td>WP</td>\n",
       "      <td>Pritam Singh</td>\n",
       "      <td>(43 years, 326 days)</td>\n",
       "    </tr>\n",
       "  </tbody>\n",
       "</table>\n",
       "</div>"
      ],
      "text/plain": [
       "  Constituency Party.1                            Name    Date of birth(Age)\n",
       "0  AljuniedGRC      WP                   Chen Show Mao  (59 years, 138 days)\n",
       "1  AljuniedGRC      WP                      Sylvia Lim   (55 years, 87 days)\n",
       "2  AljuniedGRC      WP                 Low Thia Khiang  (63 years, 292 days)\n",
       "3  AljuniedGRC      WP  Muhamad Faisal bin Abdul Manap   (45 years, 17 days)\n",
       "4  AljuniedGRC      WP                    Pritam Singh  (43 years, 326 days)"
      ]
     },
     "execution_count": 14,
     "metadata": {},
     "output_type": "execute_result"
    }
   ],
   "source": [
    "sg_parliament.head()"
   ]
  },
  {
   "cell_type": "markdown",
   "metadata": {},
   "source": [
    "#### Let's check if the entries at Kopi are correct"
   ]
  },
  {
   "cell_type": "markdown",
   "metadata": {},
   "source": [
    "## Clean up names"
   ]
  },
  {
   "cell_type": "markdown",
   "metadata": {},
   "source": [
    "Let's clean up the names first"
   ]
  },
  {
   "cell_type": "code",
   "execution_count": 15,
   "metadata": {
    "ExecuteTime": {
     "end_time": "2020-06-24T13:25:28.222233Z",
     "start_time": "2020-06-24T13:25:28.213517Z"
    }
   },
   "outputs": [
    {
     "name": "stderr",
     "output_type": "stream",
     "text": [
      "/Users/lingjie/opt/anaconda3/lib/python3.7/site-packages/ipykernel_launcher.py:4: SettingWithCopyWarning: \n",
      "A value is trying to be set on a copy of a slice from a DataFrame.\n",
      "Try using .loc[row_indexer,col_indexer] = value instead\n",
      "\n",
      "See the caveats in the documentation: https://pandas.pydata.org/pandas-docs/stable/user_guide/indexing.html#returning-a-view-versus-a-copy\n",
      "  after removing the cwd from sys.path.\n"
     ]
    }
   ],
   "source": [
    "speaking['Name'] = speaking['Name'].str.replace('^([A-Z]\\w+) ','',regex=True).\\\n",
    "                    str.replace('^([A-Z][a-z]+) ','',regex=True).str.title().str.strip()\n",
    "attendance['Name'] = attendance['Name'].str.replace('^([A-Z]\\w+) ','',regex=True).\\\n",
    "                    str.replace('^([A-Z][a-z]+) ','',regex=True).str.title().str.strip()"
   ]
  },
  {
   "cell_type": "code",
   "execution_count": 16,
   "metadata": {
    "ExecuteTime": {
     "end_time": "2020-06-24T13:25:28.232270Z",
     "start_time": "2020-06-24T13:25:28.224323Z"
    }
   },
   "outputs": [
    {
     "data": {
      "text/html": [
       "<div>\n",
       "<style scoped>\n",
       "    .dataframe tbody tr th:only-of-type {\n",
       "        vertical-align: middle;\n",
       "    }\n",
       "\n",
       "    .dataframe tbody tr th {\n",
       "        vertical-align: top;\n",
       "    }\n",
       "\n",
       "    .dataframe thead th {\n",
       "        text-align: right;\n",
       "    }\n",
       "</style>\n",
       "<table border=\"1\" class=\"dataframe\">\n",
       "  <thead>\n",
       "    <tr style=\"text-align: right;\">\n",
       "      <th></th>\n",
       "      <th>Party</th>\n",
       "      <th>Constituency</th>\n",
       "      <th>Name</th>\n",
       "      <th>Number of Sittings Attended (Out of 132)</th>\n",
       "    </tr>\n",
       "  </thead>\n",
       "  <tbody>\n",
       "    <tr>\n",
       "      <th>0</th>\n",
       "      <td>Workers' Party</td>\n",
       "      <td>Aljunied GRC</td>\n",
       "      <td>Low Thia Khiang</td>\n",
       "      <td>127</td>\n",
       "    </tr>\n",
       "    <tr>\n",
       "      <th>1</th>\n",
       "      <td>Workers' Party</td>\n",
       "      <td>Aljunied GRC</td>\n",
       "      <td>Pritam Singh</td>\n",
       "      <td>129</td>\n",
       "    </tr>\n",
       "    <tr>\n",
       "      <th>2</th>\n",
       "      <td>People's Action Party</td>\n",
       "      <td>Holland-Bukit Timah GRC</td>\n",
       "      <td>Christopher De Souza</td>\n",
       "      <td>132</td>\n",
       "    </tr>\n",
       "    <tr>\n",
       "      <th>3</th>\n",
       "      <td>People's Action Party</td>\n",
       "      <td>Jalan Besar GRC</td>\n",
       "      <td>Denise Phua Lay Peng</td>\n",
       "      <td>132</td>\n",
       "    </tr>\n",
       "    <tr>\n",
       "      <th>4</th>\n",
       "      <td>People's Action Party</td>\n",
       "      <td>Nee Soon GRC</td>\n",
       "      <td>Louis Ng Kok Kwang</td>\n",
       "      <td>132</td>\n",
       "    </tr>\n",
       "  </tbody>\n",
       "</table>\n",
       "</div>"
      ],
      "text/plain": [
       "                   Party             Constituency                  Name  \\\n",
       "0         Workers' Party             Aljunied GRC       Low Thia Khiang   \n",
       "1         Workers' Party             Aljunied GRC          Pritam Singh   \n",
       "2  People's Action Party  Holland-Bukit Timah GRC  Christopher De Souza   \n",
       "3  People's Action Party          Jalan Besar GRC  Denise Phua Lay Peng   \n",
       "4  People's Action Party             Nee Soon GRC    Louis Ng Kok Kwang   \n",
       "\n",
       "   Number of Sittings Attended (Out of 132)  \n",
       "0                                       127  \n",
       "1                                       129  \n",
       "2                                       132  \n",
       "3                                       132  \n",
       "4                                       132  "
      ]
     },
     "execution_count": 16,
     "metadata": {},
     "output_type": "execute_result"
    }
   ],
   "source": [
    "attendance.head()"
   ]
  },
  {
   "cell_type": "code",
   "execution_count": 17,
   "metadata": {
    "ExecuteTime": {
     "end_time": "2020-06-24T13:25:28.241381Z",
     "start_time": "2020-06-24T13:25:28.234436Z"
    }
   },
   "outputs": [
    {
     "data": {
      "text/html": [
       "<div>\n",
       "<style scoped>\n",
       "    .dataframe tbody tr th:only-of-type {\n",
       "        vertical-align: middle;\n",
       "    }\n",
       "\n",
       "    .dataframe tbody tr th {\n",
       "        vertical-align: top;\n",
       "    }\n",
       "\n",
       "    .dataframe thead th {\n",
       "        text-align: right;\n",
       "    }\n",
       "</style>\n",
       "<table border=\"1\" class=\"dataframe\">\n",
       "  <thead>\n",
       "    <tr style=\"text-align: right;\">\n",
       "      <th></th>\n",
       "      <th>Party</th>\n",
       "      <th>Constituency</th>\n",
       "      <th>Name</th>\n",
       "      <th>Number of Sittings Spoken (Out of 131)</th>\n",
       "    </tr>\n",
       "  </thead>\n",
       "  <tbody>\n",
       "    <tr>\n",
       "      <th>0</th>\n",
       "      <td>People's Action Party</td>\n",
       "      <td>Nee Soon GRC</td>\n",
       "      <td>Louis Ng Kok Kwang</td>\n",
       "      <td>114</td>\n",
       "    </tr>\n",
       "    <tr>\n",
       "      <th>1</th>\n",
       "      <td>Workers' Party</td>\n",
       "      <td>Non-Constituency MPs</td>\n",
       "      <td>Leon Perera</td>\n",
       "      <td>99</td>\n",
       "    </tr>\n",
       "    <tr>\n",
       "      <th>2</th>\n",
       "      <td>Workers' Party</td>\n",
       "      <td>Non-Constituency MPs</td>\n",
       "      <td>Dennis Tan Lip Fong</td>\n",
       "      <td>96</td>\n",
       "    </tr>\n",
       "    <tr>\n",
       "      <th>3</th>\n",
       "      <td>Workers' Party</td>\n",
       "      <td>Aljunied GRC</td>\n",
       "      <td>Pritam Singh</td>\n",
       "      <td>94</td>\n",
       "    </tr>\n",
       "    <tr>\n",
       "      <th>4</th>\n",
       "      <td>People's Action Party</td>\n",
       "      <td>Nee Soon GRC</td>\n",
       "      <td>Lee Bee Wah</td>\n",
       "      <td>92</td>\n",
       "    </tr>\n",
       "  </tbody>\n",
       "</table>\n",
       "</div>"
      ],
      "text/plain": [
       "                   Party          Constituency                 Name  \\\n",
       "0  People's Action Party          Nee Soon GRC   Louis Ng Kok Kwang   \n",
       "1         Workers' Party  Non-Constituency MPs          Leon Perera   \n",
       "2         Workers' Party  Non-Constituency MPs  Dennis Tan Lip Fong   \n",
       "3         Workers' Party          Aljunied GRC         Pritam Singh   \n",
       "4  People's Action Party          Nee Soon GRC          Lee Bee Wah   \n",
       "\n",
       "   Number of Sittings Spoken (Out of 131)  \n",
       "0                                     114  \n",
       "1                                      99  \n",
       "2                                      96  \n",
       "3                                      94  \n",
       "4                                      92  "
      ]
     },
     "execution_count": 17,
     "metadata": {},
     "output_type": "execute_result"
    }
   ],
   "source": [
    "speaking.head()"
   ]
  },
  {
   "cell_type": "markdown",
   "metadata": {},
   "source": [
    "## Verify data accuracy"
   ]
  },
  {
   "cell_type": "markdown",
   "metadata": {},
   "source": [
    "From the Kopi:"
   ]
  },
  {
   "cell_type": "code",
   "execution_count": 18,
   "metadata": {
    "ExecuteTime": {
     "end_time": "2020-06-24T13:25:29.027405Z",
     "start_time": "2020-06-24T13:25:29.019243Z"
    }
   },
   "outputs": [
    {
     "data": {
      "text/html": [
       "<div>\n",
       "<style scoped>\n",
       "    .dataframe tbody tr th:only-of-type {\n",
       "        vertical-align: middle;\n",
       "    }\n",
       "\n",
       "    .dataframe tbody tr th {\n",
       "        vertical-align: top;\n",
       "    }\n",
       "\n",
       "    .dataframe thead th {\n",
       "        text-align: right;\n",
       "    }\n",
       "</style>\n",
       "<table border=\"1\" class=\"dataframe\">\n",
       "  <thead>\n",
       "    <tr style=\"text-align: right;\">\n",
       "      <th></th>\n",
       "      <th>Constituency</th>\n",
       "      <th>Name</th>\n",
       "      <th>Number of Sittings Attended (Out of 132)</th>\n",
       "    </tr>\n",
       "    <tr>\n",
       "      <th>Party</th>\n",
       "      <th></th>\n",
       "      <th></th>\n",
       "      <th></th>\n",
       "    </tr>\n",
       "  </thead>\n",
       "  <tbody>\n",
       "    <tr>\n",
       "      <th>Nominated MPs</th>\n",
       "      <td>9</td>\n",
       "      <td>9</td>\n",
       "      <td>9</td>\n",
       "    </tr>\n",
       "    <tr>\n",
       "      <th>People's Action Party</th>\n",
       "      <td>82</td>\n",
       "      <td>82</td>\n",
       "      <td>82</td>\n",
       "    </tr>\n",
       "    <tr>\n",
       "      <th>Workers' Party</th>\n",
       "      <td>9</td>\n",
       "      <td>9</td>\n",
       "      <td>9</td>\n",
       "    </tr>\n",
       "  </tbody>\n",
       "</table>\n",
       "</div>"
      ],
      "text/plain": [
       "                       Constituency  Name  \\\n",
       "Party                                       \n",
       "Nominated MPs                     9     9   \n",
       "People's Action Party            82    82   \n",
       "Workers' Party                    9     9   \n",
       "\n",
       "                       Number of Sittings Attended (Out of 132)  \n",
       "Party                                                            \n",
       "Nominated MPs                                                 9  \n",
       "People's Action Party                                        82  \n",
       "Workers' Party                                                9  "
      ]
     },
     "execution_count": 18,
     "metadata": {},
     "output_type": "execute_result"
    }
   ],
   "source": [
    "attendance.groupby('Party').count()"
   ]
  },
  {
   "cell_type": "code",
   "execution_count": 19,
   "metadata": {
    "ExecuteTime": {
     "end_time": "2020-06-24T13:25:29.037425Z",
     "start_time": "2020-06-24T13:25:29.029571Z"
    }
   },
   "outputs": [
    {
     "data": {
      "text/html": [
       "<div>\n",
       "<style scoped>\n",
       "    .dataframe tbody tr th:only-of-type {\n",
       "        vertical-align: middle;\n",
       "    }\n",
       "\n",
       "    .dataframe tbody tr th {\n",
       "        vertical-align: top;\n",
       "    }\n",
       "\n",
       "    .dataframe thead th {\n",
       "        text-align: right;\n",
       "    }\n",
       "</style>\n",
       "<table border=\"1\" class=\"dataframe\">\n",
       "  <thead>\n",
       "    <tr style=\"text-align: right;\">\n",
       "      <th></th>\n",
       "      <th>Constituency</th>\n",
       "      <th>Name</th>\n",
       "      <th>Number of Sittings Spoken (Out of 131)</th>\n",
       "    </tr>\n",
       "    <tr>\n",
       "      <th>Party</th>\n",
       "      <th></th>\n",
       "      <th></th>\n",
       "      <th></th>\n",
       "    </tr>\n",
       "  </thead>\n",
       "  <tbody>\n",
       "    <tr>\n",
       "      <th>Nominated MPs</th>\n",
       "      <td>9</td>\n",
       "      <td>9</td>\n",
       "      <td>9</td>\n",
       "    </tr>\n",
       "    <tr>\n",
       "      <th>People's Action Party</th>\n",
       "      <td>62</td>\n",
       "      <td>62</td>\n",
       "      <td>62</td>\n",
       "    </tr>\n",
       "    <tr>\n",
       "      <th>Workers' Party</th>\n",
       "      <td>9</td>\n",
       "      <td>9</td>\n",
       "      <td>9</td>\n",
       "    </tr>\n",
       "  </tbody>\n",
       "</table>\n",
       "</div>"
      ],
      "text/plain": [
       "                       Constituency  Name  \\\n",
       "Party                                       \n",
       "Nominated MPs                     9     9   \n",
       "People's Action Party            62    62   \n",
       "Workers' Party                    9     9   \n",
       "\n",
       "                       Number of Sittings Spoken (Out of 131)  \n",
       "Party                                                          \n",
       "Nominated MPs                                               9  \n",
       "People's Action Party                                      62  \n",
       "Workers' Party                                              9  "
      ]
     },
     "execution_count": 19,
     "metadata": {},
     "output_type": "execute_result"
    }
   ],
   "source": [
    "speaking.groupby('Party').count()"
   ]
  },
  {
   "cell_type": "markdown",
   "metadata": {},
   "source": [
    "From wikipedia:"
   ]
  },
  {
   "cell_type": "code",
   "execution_count": 20,
   "metadata": {
    "ExecuteTime": {
     "end_time": "2020-06-24T13:25:29.467348Z",
     "start_time": "2020-06-24T13:25:29.460145Z"
    }
   },
   "outputs": [
    {
     "data": {
      "text/html": [
       "<div>\n",
       "<style scoped>\n",
       "    .dataframe tbody tr th:only-of-type {\n",
       "        vertical-align: middle;\n",
       "    }\n",
       "\n",
       "    .dataframe tbody tr th {\n",
       "        vertical-align: top;\n",
       "    }\n",
       "\n",
       "    .dataframe thead th {\n",
       "        text-align: right;\n",
       "    }\n",
       "</style>\n",
       "<table border=\"1\" class=\"dataframe\">\n",
       "  <thead>\n",
       "    <tr style=\"text-align: right;\">\n",
       "      <th></th>\n",
       "      <th>Name</th>\n",
       "    </tr>\n",
       "    <tr>\n",
       "      <th>Party.1</th>\n",
       "      <th></th>\n",
       "    </tr>\n",
       "  </thead>\n",
       "  <tbody>\n",
       "    <tr>\n",
       "      <th>Nominated MP</th>\n",
       "      <td>9</td>\n",
       "    </tr>\n",
       "    <tr>\n",
       "      <th>PAP</th>\n",
       "      <td>82</td>\n",
       "    </tr>\n",
       "    <tr>\n",
       "      <th>WP</th>\n",
       "      <td>9</td>\n",
       "    </tr>\n",
       "  </tbody>\n",
       "</table>\n",
       "</div>"
      ],
      "text/plain": [
       "              Name\n",
       "Party.1           \n",
       "Nominated MP     9\n",
       "PAP             82\n",
       "WP               9"
      ]
     },
     "execution_count": 20,
     "metadata": {},
     "output_type": "execute_result"
    }
   ],
   "source": [
    "sg_parliament.groupby('Party.1')[['Name']].count()"
   ]
  },
  {
   "cell_type": "markdown",
   "metadata": {},
   "source": [
    "There is something wrong with NMPs, we expect 9 but there are a total of 10 NMPs who spoke in parliament debates"
   ]
  },
  {
   "cell_type": "code",
   "execution_count": 21,
   "metadata": {
    "ExecuteTime": {
     "end_time": "2020-06-24T13:25:29.914389Z",
     "start_time": "2020-06-24T13:25:29.905050Z"
    }
   },
   "outputs": [
    {
     "data": {
      "text/html": [
       "<div>\n",
       "<style scoped>\n",
       "    .dataframe tbody tr th:only-of-type {\n",
       "        vertical-align: middle;\n",
       "    }\n",
       "\n",
       "    .dataframe tbody tr th {\n",
       "        vertical-align: top;\n",
       "    }\n",
       "\n",
       "    .dataframe thead th {\n",
       "        text-align: right;\n",
       "    }\n",
       "</style>\n",
       "<table border=\"1\" class=\"dataframe\">\n",
       "  <thead>\n",
       "    <tr style=\"text-align: right;\">\n",
       "      <th></th>\n",
       "      <th>Party</th>\n",
       "      <th>Constituency</th>\n",
       "      <th>Name</th>\n",
       "      <th>Number of Sittings Attended (Out of 132)</th>\n",
       "    </tr>\n",
       "  </thead>\n",
       "  <tbody>\n",
       "    <tr>\n",
       "      <th>93</th>\n",
       "      <td>Nominated MPs</td>\n",
       "      <td>Nominated MPs</td>\n",
       "      <td>Anthea Ong</td>\n",
       "      <td>50</td>\n",
       "    </tr>\n",
       "    <tr>\n",
       "      <th>91</th>\n",
       "      <td>Nominated MPs</td>\n",
       "      <td>Nominated MPs</td>\n",
       "      <td>Arasu Duraisamy</td>\n",
       "      <td>50</td>\n",
       "    </tr>\n",
       "    <tr>\n",
       "      <th>98</th>\n",
       "      <td>Nominated MPs</td>\n",
       "      <td>Nominated MPs</td>\n",
       "      <td>Douglas Foo</td>\n",
       "      <td>39</td>\n",
       "    </tr>\n",
       "    <tr>\n",
       "      <th>95</th>\n",
       "      <td>Nominated MPs</td>\n",
       "      <td>Nominated MPs</td>\n",
       "      <td>Dr Walter Theseira</td>\n",
       "      <td>49</td>\n",
       "    </tr>\n",
       "    <tr>\n",
       "      <th>97</th>\n",
       "      <td>Nominated MPs</td>\n",
       "      <td>Nominated MPs</td>\n",
       "      <td>Irene Quay Siew Ching</td>\n",
       "      <td>43</td>\n",
       "    </tr>\n",
       "    <tr>\n",
       "      <th>96</th>\n",
       "      <td>Nominated MPs</td>\n",
       "      <td>Nominated MPs</td>\n",
       "      <td>Lim Sun Sun</td>\n",
       "      <td>46</td>\n",
       "    </tr>\n",
       "    <tr>\n",
       "      <th>92</th>\n",
       "      <td>Nominated MPs</td>\n",
       "      <td>Nominated MPs</td>\n",
       "      <td>Mohamed Irshad</td>\n",
       "      <td>50</td>\n",
       "    </tr>\n",
       "    <tr>\n",
       "      <th>94</th>\n",
       "      <td>Nominated MPs</td>\n",
       "      <td>Nominated MPs</td>\n",
       "      <td>Terence Ho Wee San</td>\n",
       "      <td>49</td>\n",
       "    </tr>\n",
       "    <tr>\n",
       "      <th>99</th>\n",
       "      <td>Nominated MPs</td>\n",
       "      <td>Nominated MPs</td>\n",
       "      <td>Yip Pin Xiu</td>\n",
       "      <td>33</td>\n",
       "    </tr>\n",
       "  </tbody>\n",
       "</table>\n",
       "</div>"
      ],
      "text/plain": [
       "            Party   Constituency                   Name  \\\n",
       "93  Nominated MPs  Nominated MPs             Anthea Ong   \n",
       "91  Nominated MPs  Nominated MPs        Arasu Duraisamy   \n",
       "98  Nominated MPs  Nominated MPs            Douglas Foo   \n",
       "95  Nominated MPs  Nominated MPs     Dr Walter Theseira   \n",
       "97  Nominated MPs  Nominated MPs  Irene Quay Siew Ching   \n",
       "96  Nominated MPs  Nominated MPs            Lim Sun Sun   \n",
       "92  Nominated MPs  Nominated MPs         Mohamed Irshad   \n",
       "94  Nominated MPs  Nominated MPs     Terence Ho Wee San   \n",
       "99  Nominated MPs  Nominated MPs            Yip Pin Xiu   \n",
       "\n",
       "    Number of Sittings Attended (Out of 132)  \n",
       "93                                        50  \n",
       "91                                        50  \n",
       "98                                        39  \n",
       "95                                        49  \n",
       "97                                        43  \n",
       "96                                        46  \n",
       "92                                        50  \n",
       "94                                        49  \n",
       "99                                        33  "
      ]
     },
     "execution_count": 21,
     "metadata": {},
     "output_type": "execute_result"
    }
   ],
   "source": [
    "attendance[attendance['Party'] == \"Nominated MPs\"].sort_values('Name')"
   ]
  },
  {
   "cell_type": "code",
   "execution_count": 22,
   "metadata": {
    "ExecuteTime": {
     "end_time": "2020-06-24T13:25:29.925261Z",
     "start_time": "2020-06-24T13:25:29.916497Z"
    }
   },
   "outputs": [
    {
     "data": {
      "text/html": [
       "<div>\n",
       "<style scoped>\n",
       "    .dataframe tbody tr th:only-of-type {\n",
       "        vertical-align: middle;\n",
       "    }\n",
       "\n",
       "    .dataframe tbody tr th {\n",
       "        vertical-align: top;\n",
       "    }\n",
       "\n",
       "    .dataframe thead th {\n",
       "        text-align: right;\n",
       "    }\n",
       "</style>\n",
       "<table border=\"1\" class=\"dataframe\">\n",
       "  <thead>\n",
       "    <tr style=\"text-align: right;\">\n",
       "      <th></th>\n",
       "      <th>Party</th>\n",
       "      <th>Constituency</th>\n",
       "      <th>Name</th>\n",
       "      <th>Number of Sittings Spoken (Out of 131)</th>\n",
       "    </tr>\n",
       "  </thead>\n",
       "  <tbody>\n",
       "    <tr>\n",
       "      <th>51</th>\n",
       "      <td>Nominated MPs</td>\n",
       "      <td>Nominated MPs</td>\n",
       "      <td>Anthea Ong</td>\n",
       "      <td>42</td>\n",
       "    </tr>\n",
       "    <tr>\n",
       "      <th>75</th>\n",
       "      <td>Nominated MPs</td>\n",
       "      <td>Nominated MPs</td>\n",
       "      <td>Arasu Duraisamy</td>\n",
       "      <td>12</td>\n",
       "    </tr>\n",
       "    <tr>\n",
       "      <th>76</th>\n",
       "      <td>Nominated MPs</td>\n",
       "      <td>Nominated MPs</td>\n",
       "      <td>Douglas Foo</td>\n",
       "      <td>12</td>\n",
       "    </tr>\n",
       "    <tr>\n",
       "      <th>53</th>\n",
       "      <td>Nominated MPs</td>\n",
       "      <td>Nominated MPs</td>\n",
       "      <td>Dr Walter Theseira</td>\n",
       "      <td>41</td>\n",
       "    </tr>\n",
       "    <tr>\n",
       "      <th>68</th>\n",
       "      <td>Nominated MPs</td>\n",
       "      <td>Nominated MPs</td>\n",
       "      <td>Irene Quay Siew Ching</td>\n",
       "      <td>22</td>\n",
       "    </tr>\n",
       "    <tr>\n",
       "      <th>70</th>\n",
       "      <td>Nominated MPs</td>\n",
       "      <td>Nominated MPs</td>\n",
       "      <td>Lim Sun Sun</td>\n",
       "      <td>20</td>\n",
       "    </tr>\n",
       "    <tr>\n",
       "      <th>65</th>\n",
       "      <td>Nominated MPs</td>\n",
       "      <td>Nominated MPs</td>\n",
       "      <td>Mohamed Irshad</td>\n",
       "      <td>25</td>\n",
       "    </tr>\n",
       "    <tr>\n",
       "      <th>74</th>\n",
       "      <td>Nominated MPs</td>\n",
       "      <td>Nominated MPs</td>\n",
       "      <td>Terence Ho Wee San</td>\n",
       "      <td>14</td>\n",
       "    </tr>\n",
       "    <tr>\n",
       "      <th>78</th>\n",
       "      <td>Nominated MPs</td>\n",
       "      <td>Nominated MPs</td>\n",
       "      <td>Yip Pin Xiu</td>\n",
       "      <td>8</td>\n",
       "    </tr>\n",
       "  </tbody>\n",
       "</table>\n",
       "</div>"
      ],
      "text/plain": [
       "            Party   Constituency                   Name  \\\n",
       "51  Nominated MPs  Nominated MPs             Anthea Ong   \n",
       "75  Nominated MPs  Nominated MPs        Arasu Duraisamy   \n",
       "76  Nominated MPs  Nominated MPs            Douglas Foo   \n",
       "53  Nominated MPs  Nominated MPs     Dr Walter Theseira   \n",
       "68  Nominated MPs  Nominated MPs  Irene Quay Siew Ching   \n",
       "70  Nominated MPs  Nominated MPs            Lim Sun Sun   \n",
       "65  Nominated MPs  Nominated MPs         Mohamed Irshad   \n",
       "74  Nominated MPs  Nominated MPs     Terence Ho Wee San   \n",
       "78  Nominated MPs  Nominated MPs            Yip Pin Xiu   \n",
       "\n",
       "    Number of Sittings Spoken (Out of 131)  \n",
       "51                                      42  \n",
       "75                                      12  \n",
       "76                                      12  \n",
       "53                                      41  \n",
       "68                                      22  \n",
       "70                                      20  \n",
       "65                                      25  \n",
       "74                                      14  \n",
       "78                                       8  "
      ]
     },
     "execution_count": 22,
     "metadata": {},
     "output_type": "execute_result"
    }
   ],
   "source": [
    "speaking[speaking['Party'] == \"Nominated MPs\"].sort_values('Name')"
   ]
  },
  {
   "cell_type": "markdown",
   "metadata": {},
   "source": [
    "Ms FOO MEE HAR is wrongly classified as NMP when she is a MP\\\n",
    "https://www.pap.org.sg/representative/foo-mee-har/"
   ]
  },
  {
   "cell_type": "markdown",
   "metadata": {},
   "source": [
    "Let's correct Ms FOO MEE HAR's entry"
   ]
  },
  {
   "cell_type": "code",
   "execution_count": 23,
   "metadata": {
    "ExecuteTime": {
     "end_time": "2020-06-24T13:25:30.697145Z",
     "start_time": "2020-06-24T13:25:30.692500Z"
    }
   },
   "outputs": [],
   "source": [
    "speaking.loc[speaking['Name'] == 'Foo Mee Har', ['Party', 'Constituency']] = [\n",
    "    \"People's Action Party\", \"West Coast GRC\"\n",
    "]"
   ]
  },
  {
   "cell_type": "code",
   "execution_count": 24,
   "metadata": {
    "ExecuteTime": {
     "end_time": "2020-06-24T13:25:30.706819Z",
     "start_time": "2020-06-24T13:25:30.699228Z"
    }
   },
   "outputs": [
    {
     "data": {
      "text/html": [
       "<div>\n",
       "<style scoped>\n",
       "    .dataframe tbody tr th:only-of-type {\n",
       "        vertical-align: middle;\n",
       "    }\n",
       "\n",
       "    .dataframe tbody tr th {\n",
       "        vertical-align: top;\n",
       "    }\n",
       "\n",
       "    .dataframe thead th {\n",
       "        text-align: right;\n",
       "    }\n",
       "</style>\n",
       "<table border=\"1\" class=\"dataframe\">\n",
       "  <thead>\n",
       "    <tr style=\"text-align: right;\">\n",
       "      <th></th>\n",
       "      <th>Constituency</th>\n",
       "      <th>Name</th>\n",
       "      <th>Number of Sittings Spoken (Out of 131)</th>\n",
       "    </tr>\n",
       "    <tr>\n",
       "      <th>Party</th>\n",
       "      <th></th>\n",
       "      <th></th>\n",
       "      <th></th>\n",
       "    </tr>\n",
       "  </thead>\n",
       "  <tbody>\n",
       "    <tr>\n",
       "      <th>Nominated MPs</th>\n",
       "      <td>9</td>\n",
       "      <td>9</td>\n",
       "      <td>9</td>\n",
       "    </tr>\n",
       "    <tr>\n",
       "      <th>People's Action Party</th>\n",
       "      <td>62</td>\n",
       "      <td>62</td>\n",
       "      <td>62</td>\n",
       "    </tr>\n",
       "    <tr>\n",
       "      <th>Workers' Party</th>\n",
       "      <td>9</td>\n",
       "      <td>9</td>\n",
       "      <td>9</td>\n",
       "    </tr>\n",
       "  </tbody>\n",
       "</table>\n",
       "</div>"
      ],
      "text/plain": [
       "                       Constituency  Name  \\\n",
       "Party                                       \n",
       "Nominated MPs                     9     9   \n",
       "People's Action Party            62    62   \n",
       "Workers' Party                    9     9   \n",
       "\n",
       "                       Number of Sittings Spoken (Out of 131)  \n",
       "Party                                                          \n",
       "Nominated MPs                                               9  \n",
       "People's Action Party                                      62  \n",
       "Workers' Party                                              9  "
      ]
     },
     "execution_count": 24,
     "metadata": {},
     "output_type": "execute_result"
    }
   ],
   "source": [
    "speaking.groupby('Party').count()"
   ]
  },
  {
   "cell_type": "markdown",
   "metadata": {},
   "source": [
    "## Converting to percentage"
   ]
  },
  {
   "cell_type": "markdown",
   "metadata": {},
   "source": [
    "We are more interested in the relative terms. For example, out of the total sittings, how many sittings did individual attend?\\\n",
    "Therefore, we will compute the percentage terms for all dataframes.\\\n",
    "We will keep only 2 decimal points for a neater presentation."
   ]
  },
  {
   "cell_type": "code",
   "execution_count": 25,
   "metadata": {
    "ExecuteTime": {
     "end_time": "2020-06-24T13:25:31.609716Z",
     "start_time": "2020-06-24T13:25:31.488221Z"
    }
   },
   "outputs": [
    {
     "name": "stderr",
     "output_type": "stream",
     "text": [
      "/Users/lingjie/opt/anaconda3/lib/python3.7/site-packages/ipykernel_launcher.py:2: SettingWithCopyWarning: \n",
      "A value is trying to be set on a copy of a slice from a DataFrame.\n",
      "Try using .loc[row_indexer,col_indexer] = value instead\n",
      "\n",
      "See the caveats in the documentation: https://pandas.pydata.org/pandas-docs/stable/user_guide/indexing.html#returning-a-view-versus-a-copy\n",
      "  \n"
     ]
    }
   ],
   "source": [
    "attendance['Percent of Sittings Attended (Out of 132)'] = (attendance['Number of Sittings Attended (Out of 132)']\\\n",
    "                                                            /132 * 100).round(2)"
   ]
  },
  {
   "cell_type": "code",
   "execution_count": 26,
   "metadata": {
    "ExecuteTime": {
     "end_time": "2020-06-24T13:25:31.620588Z",
     "start_time": "2020-06-24T13:25:31.611943Z"
    }
   },
   "outputs": [
    {
     "data": {
      "text/html": [
       "<div>\n",
       "<style scoped>\n",
       "    .dataframe tbody tr th:only-of-type {\n",
       "        vertical-align: middle;\n",
       "    }\n",
       "\n",
       "    .dataframe tbody tr th {\n",
       "        vertical-align: top;\n",
       "    }\n",
       "\n",
       "    .dataframe thead th {\n",
       "        text-align: right;\n",
       "    }\n",
       "</style>\n",
       "<table border=\"1\" class=\"dataframe\">\n",
       "  <thead>\n",
       "    <tr style=\"text-align: right;\">\n",
       "      <th></th>\n",
       "      <th>Party</th>\n",
       "      <th>Constituency</th>\n",
       "      <th>Name</th>\n",
       "      <th>Number of Sittings Attended (Out of 132)</th>\n",
       "      <th>Percent of Sittings Attended (Out of 132)</th>\n",
       "    </tr>\n",
       "  </thead>\n",
       "  <tbody>\n",
       "    <tr>\n",
       "      <th>0</th>\n",
       "      <td>Workers' Party</td>\n",
       "      <td>Aljunied GRC</td>\n",
       "      <td>Low Thia Khiang</td>\n",
       "      <td>127</td>\n",
       "      <td>96.21</td>\n",
       "    </tr>\n",
       "    <tr>\n",
       "      <th>1</th>\n",
       "      <td>Workers' Party</td>\n",
       "      <td>Aljunied GRC</td>\n",
       "      <td>Pritam Singh</td>\n",
       "      <td>129</td>\n",
       "      <td>97.73</td>\n",
       "    </tr>\n",
       "    <tr>\n",
       "      <th>2</th>\n",
       "      <td>People's Action Party</td>\n",
       "      <td>Holland-Bukit Timah GRC</td>\n",
       "      <td>Christopher De Souza</td>\n",
       "      <td>132</td>\n",
       "      <td>100.00</td>\n",
       "    </tr>\n",
       "    <tr>\n",
       "      <th>3</th>\n",
       "      <td>People's Action Party</td>\n",
       "      <td>Jalan Besar GRC</td>\n",
       "      <td>Denise Phua Lay Peng</td>\n",
       "      <td>132</td>\n",
       "      <td>100.00</td>\n",
       "    </tr>\n",
       "    <tr>\n",
       "      <th>4</th>\n",
       "      <td>People's Action Party</td>\n",
       "      <td>Nee Soon GRC</td>\n",
       "      <td>Louis Ng Kok Kwang</td>\n",
       "      <td>132</td>\n",
       "      <td>100.00</td>\n",
       "    </tr>\n",
       "  </tbody>\n",
       "</table>\n",
       "</div>"
      ],
      "text/plain": [
       "                   Party             Constituency                  Name  \\\n",
       "0         Workers' Party             Aljunied GRC       Low Thia Khiang   \n",
       "1         Workers' Party             Aljunied GRC          Pritam Singh   \n",
       "2  People's Action Party  Holland-Bukit Timah GRC  Christopher De Souza   \n",
       "3  People's Action Party          Jalan Besar GRC  Denise Phua Lay Peng   \n",
       "4  People's Action Party             Nee Soon GRC    Louis Ng Kok Kwang   \n",
       "\n",
       "   Number of Sittings Attended (Out of 132)  \\\n",
       "0                                       127   \n",
       "1                                       129   \n",
       "2                                       132   \n",
       "3                                       132   \n",
       "4                                       132   \n",
       "\n",
       "   Percent of Sittings Attended (Out of 132)  \n",
       "0                                      96.21  \n",
       "1                                      97.73  \n",
       "2                                     100.00  \n",
       "3                                     100.00  \n",
       "4                                     100.00  "
      ]
     },
     "execution_count": 26,
     "metadata": {},
     "output_type": "execute_result"
    }
   ],
   "source": [
    "attendance.head()"
   ]
  },
  {
   "cell_type": "code",
   "execution_count": 27,
   "metadata": {
    "ExecuteTime": {
     "end_time": "2020-06-24T13:25:31.626169Z",
     "start_time": "2020-06-24T13:25:31.622868Z"
    }
   },
   "outputs": [],
   "source": [
    "speaking['Percent of Sittings Spoken (Out of 131)'] = (speaking['Number of Sittings Spoken (Out of 131)']\\\n",
    "                                                       /131*100).round(2)"
   ]
  },
  {
   "cell_type": "code",
   "execution_count": 28,
   "metadata": {
    "ExecuteTime": {
     "end_time": "2020-06-24T13:25:31.636129Z",
     "start_time": "2020-06-24T13:25:31.628256Z"
    }
   },
   "outputs": [
    {
     "data": {
      "text/html": [
       "<div>\n",
       "<style scoped>\n",
       "    .dataframe tbody tr th:only-of-type {\n",
       "        vertical-align: middle;\n",
       "    }\n",
       "\n",
       "    .dataframe tbody tr th {\n",
       "        vertical-align: top;\n",
       "    }\n",
       "\n",
       "    .dataframe thead th {\n",
       "        text-align: right;\n",
       "    }\n",
       "</style>\n",
       "<table border=\"1\" class=\"dataframe\">\n",
       "  <thead>\n",
       "    <tr style=\"text-align: right;\">\n",
       "      <th></th>\n",
       "      <th>Party</th>\n",
       "      <th>Constituency</th>\n",
       "      <th>Name</th>\n",
       "      <th>Number of Sittings Spoken (Out of 131)</th>\n",
       "      <th>Percent of Sittings Spoken (Out of 131)</th>\n",
       "    </tr>\n",
       "  </thead>\n",
       "  <tbody>\n",
       "    <tr>\n",
       "      <th>0</th>\n",
       "      <td>People's Action Party</td>\n",
       "      <td>Nee Soon GRC</td>\n",
       "      <td>Louis Ng Kok Kwang</td>\n",
       "      <td>114</td>\n",
       "      <td>87.02</td>\n",
       "    </tr>\n",
       "    <tr>\n",
       "      <th>1</th>\n",
       "      <td>Workers' Party</td>\n",
       "      <td>Non-Constituency MPs</td>\n",
       "      <td>Leon Perera</td>\n",
       "      <td>99</td>\n",
       "      <td>75.57</td>\n",
       "    </tr>\n",
       "    <tr>\n",
       "      <th>2</th>\n",
       "      <td>Workers' Party</td>\n",
       "      <td>Non-Constituency MPs</td>\n",
       "      <td>Dennis Tan Lip Fong</td>\n",
       "      <td>96</td>\n",
       "      <td>73.28</td>\n",
       "    </tr>\n",
       "    <tr>\n",
       "      <th>3</th>\n",
       "      <td>Workers' Party</td>\n",
       "      <td>Aljunied GRC</td>\n",
       "      <td>Pritam Singh</td>\n",
       "      <td>94</td>\n",
       "      <td>71.76</td>\n",
       "    </tr>\n",
       "    <tr>\n",
       "      <th>4</th>\n",
       "      <td>People's Action Party</td>\n",
       "      <td>Nee Soon GRC</td>\n",
       "      <td>Lee Bee Wah</td>\n",
       "      <td>92</td>\n",
       "      <td>70.23</td>\n",
       "    </tr>\n",
       "  </tbody>\n",
       "</table>\n",
       "</div>"
      ],
      "text/plain": [
       "                   Party          Constituency                 Name  \\\n",
       "0  People's Action Party          Nee Soon GRC   Louis Ng Kok Kwang   \n",
       "1         Workers' Party  Non-Constituency MPs          Leon Perera   \n",
       "2         Workers' Party  Non-Constituency MPs  Dennis Tan Lip Fong   \n",
       "3         Workers' Party          Aljunied GRC         Pritam Singh   \n",
       "4  People's Action Party          Nee Soon GRC          Lee Bee Wah   \n",
       "\n",
       "   Number of Sittings Spoken (Out of 131)  \\\n",
       "0                                     114   \n",
       "1                                      99   \n",
       "2                                      96   \n",
       "3                                      94   \n",
       "4                                      92   \n",
       "\n",
       "   Percent of Sittings Spoken (Out of 131)  \n",
       "0                                    87.02  \n",
       "1                                    75.57  \n",
       "2                                    73.28  \n",
       "3                                    71.76  \n",
       "4                                    70.23  "
      ]
     },
     "execution_count": 28,
     "metadata": {},
     "output_type": "execute_result"
    }
   ],
   "source": [
    "speaking.head()"
   ]
  },
  {
   "cell_type": "markdown",
   "metadata": {},
   "source": [
    "# Data visualisation"
   ]
  },
  {
   "cell_type": "markdown",
   "metadata": {},
   "source": [
    "## Attendance"
   ]
  },
  {
   "cell_type": "markdown",
   "metadata": {},
   "source": [
    "### Attendance by Party"
   ]
  },
  {
   "cell_type": "code",
   "execution_count": 29,
   "metadata": {
    "ExecuteTime": {
     "end_time": "2020-06-24T13:25:32.666763Z",
     "start_time": "2020-06-24T13:25:32.657464Z"
    }
   },
   "outputs": [
    {
     "data": {
      "text/html": [
       "<div>\n",
       "<style scoped>\n",
       "    .dataframe tbody tr th:only-of-type {\n",
       "        vertical-align: middle;\n",
       "    }\n",
       "\n",
       "    .dataframe tbody tr th {\n",
       "        vertical-align: top;\n",
       "    }\n",
       "\n",
       "    .dataframe thead th {\n",
       "        text-align: right;\n",
       "    }\n",
       "</style>\n",
       "<table border=\"1\" class=\"dataframe\">\n",
       "  <thead>\n",
       "    <tr style=\"text-align: right;\">\n",
       "      <th></th>\n",
       "      <th>Percent of Sittings Attended (Out of 132)</th>\n",
       "    </tr>\n",
       "    <tr>\n",
       "      <th>Party</th>\n",
       "      <th></th>\n",
       "    </tr>\n",
       "  </thead>\n",
       "  <tbody>\n",
       "    <tr>\n",
       "      <th>Workers' Party</th>\n",
       "      <td>96.13</td>\n",
       "    </tr>\n",
       "    <tr>\n",
       "      <th>People's Action Party</th>\n",
       "      <td>93.28</td>\n",
       "    </tr>\n",
       "    <tr>\n",
       "      <th>Nominated MPs</th>\n",
       "      <td>34.43</td>\n",
       "    </tr>\n",
       "  </tbody>\n",
       "</table>\n",
       "</div>"
      ],
      "text/plain": [
       "                       Percent of Sittings Attended (Out of 132)\n",
       "Party                                                           \n",
       "Workers' Party                                             96.13\n",
       "People's Action Party                                      93.28\n",
       "Nominated MPs                                              34.43"
      ]
     },
     "execution_count": 29,
     "metadata": {},
     "output_type": "execute_result"
    }
   ],
   "source": [
    "(attendance.groupby('Party')[['Percent of Sittings Attended (Out of 132)']].mean()).\\\n",
    "    sort_values(['Percent of Sittings Attended (Out of 132)'],ascending=False).round(2)"
   ]
  },
  {
   "cell_type": "markdown",
   "metadata": {},
   "source": [
    "### Attendance by Constituency"
   ]
  },
  {
   "cell_type": "code",
   "execution_count": 30,
   "metadata": {
    "ExecuteTime": {
     "end_time": "2020-06-24T13:25:33.296771Z",
     "start_time": "2020-06-24T13:25:33.095432Z"
    }
   },
   "outputs": [
    {
     "data": {
      "text/html": [
       "<div>\n",
       "<style scoped>\n",
       "    .dataframe tbody tr th:only-of-type {\n",
       "        vertical-align: middle;\n",
       "    }\n",
       "\n",
       "    .dataframe tbody tr th {\n",
       "        vertical-align: top;\n",
       "    }\n",
       "\n",
       "    .dataframe thead th {\n",
       "        text-align: right;\n",
       "    }\n",
       "</style>\n",
       "<table border=\"1\" class=\"dataframe\">\n",
       "  <thead>\n",
       "    <tr style=\"text-align: right;\">\n",
       "      <th></th>\n",
       "      <th>count</th>\n",
       "      <th>mean</th>\n",
       "      <th>std</th>\n",
       "      <th>min</th>\n",
       "      <th>25%</th>\n",
       "      <th>50%</th>\n",
       "      <th>75%</th>\n",
       "      <th>max</th>\n",
       "    </tr>\n",
       "  </thead>\n",
       "  <tbody>\n",
       "    <tr>\n",
       "      <th>Percent of Sittings Attended (Out of 132)</th>\n",
       "      <td>31.0</td>\n",
       "      <td>91.464194</td>\n",
       "      <td>11.275163</td>\n",
       "      <td>34.43</td>\n",
       "      <td>91.51</td>\n",
       "      <td>93.94</td>\n",
       "      <td>96.275</td>\n",
       "      <td>98.48</td>\n",
       "    </tr>\n",
       "  </tbody>\n",
       "</table>\n",
       "</div>"
      ],
      "text/plain": [
       "                                           count       mean        std    min  \\\n",
       "Percent of Sittings Attended (Out of 132)   31.0  91.464194  11.275163  34.43   \n",
       "\n",
       "                                             25%    50%     75%    max  \n",
       "Percent of Sittings Attended (Out of 132)  91.51  93.94  96.275  98.48  "
      ]
     },
     "execution_count": 30,
     "metadata": {},
     "output_type": "execute_result"
    },
    {
     "data": {
      "image/png": "[encoded data removed]",
      "text/plain": [
       "<Figure size 432x288 with 1 Axes>"
      ]
     },
     "metadata": {},
     "output_type": "display_data"
    }
   ],
   "source": [
    "(attendance.groupby(['Constituency','Party'])[['Percent of Sittings Attended (Out of 132)']].mean())\\\n",
    "                    .sort_values('Percent of Sittings Attended (Out of 132)',ascending=False).round(2).\\\n",
    "                    plot.hist(bins=10)\n",
    "plt.xlabel('% of sittings attended'), plt.title('Attendance by Constituency')\n",
    "plt.legend(fontsize='small')\n",
    "\n",
    "(attendance.groupby(['Constituency','Party'])[['Percent of Sittings Attended (Out of 132)']].mean())\\\n",
    "                    .sort_values('Percent of Sittings Attended (Out of 132)',ascending=False).round(2).\\\n",
    "                    describe().T"
   ]
  },
  {
   "cell_type": "markdown",
   "metadata": {},
   "source": [
    "Highest attendance rate"
   ]
  },
  {
   "cell_type": "code",
   "execution_count": 31,
   "metadata": {
    "ExecuteTime": {
     "end_time": "2020-06-24T13:25:33.560106Z",
     "start_time": "2020-06-24T13:25:33.549455Z"
    }
   },
   "outputs": [
    {
     "data": {
      "text/html": [
       "<div>\n",
       "<style scoped>\n",
       "    .dataframe tbody tr th:only-of-type {\n",
       "        vertical-align: middle;\n",
       "    }\n",
       "\n",
       "    .dataframe tbody tr th {\n",
       "        vertical-align: top;\n",
       "    }\n",
       "\n",
       "    .dataframe thead th {\n",
       "        text-align: right;\n",
       "    }\n",
       "</style>\n",
       "<table border=\"1\" class=\"dataframe\">\n",
       "  <thead>\n",
       "    <tr style=\"text-align: right;\">\n",
       "      <th></th>\n",
       "      <th></th>\n",
       "      <th>Percent of Sittings Attended (Out of 132)</th>\n",
       "    </tr>\n",
       "    <tr>\n",
       "      <th>Constituency</th>\n",
       "      <th>Party</th>\n",
       "      <th></th>\n",
       "    </tr>\n",
       "  </thead>\n",
       "  <tbody>\n",
       "    <tr>\n",
       "      <th>Hougang SMC</th>\n",
       "      <th>Workers' Party</th>\n",
       "      <td>98.48</td>\n",
       "    </tr>\n",
       "    <tr>\n",
       "      <th>Mountbatten SMC</th>\n",
       "      <th>People's Action Party</th>\n",
       "      <td>98.48</td>\n",
       "    </tr>\n",
       "    <tr>\n",
       "      <th>Marsiling-Yew Tee GRC</th>\n",
       "      <th>People's Action Party</th>\n",
       "      <td>97.98</td>\n",
       "    </tr>\n",
       "    <tr>\n",
       "      <th>Tanjong Pagar GRC</th>\n",
       "      <th>People's Action Party</th>\n",
       "      <td>97.27</td>\n",
       "    </tr>\n",
       "    <tr>\n",
       "      <th>Potong Pasir SMC</th>\n",
       "      <th>People's Action Party</th>\n",
       "      <td>96.97</td>\n",
       "    </tr>\n",
       "  </tbody>\n",
       "</table>\n",
       "</div>"
      ],
      "text/plain": [
       "                                             Percent of Sittings Attended (Out of 132)\n",
       "Constituency          Party                                                           \n",
       "Hougang SMC           Workers' Party                                             98.48\n",
       "Mountbatten SMC       People's Action Party                                      98.48\n",
       "Marsiling-Yew Tee GRC People's Action Party                                      97.98\n",
       "Tanjong Pagar GRC     People's Action Party                                      97.27\n",
       "Potong Pasir SMC      People's Action Party                                      96.97"
      ]
     },
     "execution_count": 31,
     "metadata": {},
     "output_type": "execute_result"
    }
   ],
   "source": [
    "(attendance.groupby(['Constituency','Party'])[['Percent of Sittings Attended (Out of 132)']].mean())\\\n",
    "                    .sort_values('Percent of Sittings Attended (Out of 132)',ascending=False).round(2).head()"
   ]
  },
  {
   "cell_type": "markdown",
   "metadata": {},
   "source": [
    "Lowest attendance rate"
   ]
  },
  {
   "cell_type": "code",
   "execution_count": 32,
   "metadata": {
    "ExecuteTime": {
     "end_time": "2020-06-24T13:25:33.991742Z",
     "start_time": "2020-06-24T13:25:33.979970Z"
    }
   },
   "outputs": [
    {
     "data": {
      "text/html": [
       "<div>\n",
       "<style scoped>\n",
       "    .dataframe tbody tr th:only-of-type {\n",
       "        vertical-align: middle;\n",
       "    }\n",
       "\n",
       "    .dataframe tbody tr th {\n",
       "        vertical-align: top;\n",
       "    }\n",
       "\n",
       "    .dataframe thead th {\n",
       "        text-align: right;\n",
       "    }\n",
       "</style>\n",
       "<table border=\"1\" class=\"dataframe\">\n",
       "  <thead>\n",
       "    <tr style=\"text-align: right;\">\n",
       "      <th></th>\n",
       "      <th></th>\n",
       "      <th>Percent of Sittings Attended (Out of 132)</th>\n",
       "    </tr>\n",
       "    <tr>\n",
       "      <th>Constituency</th>\n",
       "      <th>Party</th>\n",
       "      <th></th>\n",
       "    </tr>\n",
       "  </thead>\n",
       "  <tbody>\n",
       "    <tr>\n",
       "      <th>Pasir Ris-Punggol GRC</th>\n",
       "      <th>People's Action Party</th>\n",
       "      <td>90.15</td>\n",
       "    </tr>\n",
       "    <tr>\n",
       "      <th>Radin Mas SMC</th>\n",
       "      <th>People's Action Party</th>\n",
       "      <td>87.12</td>\n",
       "    </tr>\n",
       "    <tr>\n",
       "      <th>Bukit Batok SMC</th>\n",
       "      <th>People's Action Party</th>\n",
       "      <td>83.33</td>\n",
       "    </tr>\n",
       "    <tr>\n",
       "      <th>East Coast GRC</th>\n",
       "      <th>People's Action Party</th>\n",
       "      <td>82.77</td>\n",
       "    </tr>\n",
       "    <tr>\n",
       "      <th>Nominated MPs</th>\n",
       "      <th>Nominated MPs</th>\n",
       "      <td>34.43</td>\n",
       "    </tr>\n",
       "  </tbody>\n",
       "</table>\n",
       "</div>"
      ],
      "text/plain": [
       "                                             Percent of Sittings Attended (Out of 132)\n",
       "Constituency          Party                                                           \n",
       "Pasir Ris-Punggol GRC People's Action Party                                      90.15\n",
       "Radin Mas SMC         People's Action Party                                      87.12\n",
       "Bukit Batok SMC       People's Action Party                                      83.33\n",
       "East Coast GRC        People's Action Party                                      82.77\n",
       "Nominated MPs         Nominated MPs                                              34.43"
      ]
     },
     "execution_count": 32,
     "metadata": {},
     "output_type": "execute_result"
    }
   ],
   "source": [
    "(attendance.groupby(['Constituency','Party'])[['Percent of Sittings Attended (Out of 132)']].mean())\\\n",
    "                    .sort_values('Percent of Sittings Attended (Out of 132)',ascending=False).round(2).tail()"
   ]
  },
  {
   "cell_type": "markdown",
   "metadata": {},
   "source": [
    "### Individual attendance"
   ]
  },
  {
   "cell_type": "code",
   "execution_count": 33,
   "metadata": {
    "ExecuteTime": {
     "end_time": "2020-06-24T13:25:34.589390Z",
     "start_time": "2020-06-24T13:25:34.419191Z"
    }
   },
   "outputs": [
    {
     "data": {
      "text/html": [
       "<div>\n",
       "<style scoped>\n",
       "    .dataframe tbody tr th:only-of-type {\n",
       "        vertical-align: middle;\n",
       "    }\n",
       "\n",
       "    .dataframe tbody tr th {\n",
       "        vertical-align: top;\n",
       "    }\n",
       "\n",
       "    .dataframe thead th {\n",
       "        text-align: right;\n",
       "    }\n",
       "</style>\n",
       "<table border=\"1\" class=\"dataframe\">\n",
       "  <thead>\n",
       "    <tr style=\"text-align: right;\">\n",
       "      <th></th>\n",
       "      <th>count</th>\n",
       "      <th>mean</th>\n",
       "      <th>std</th>\n",
       "      <th>min</th>\n",
       "      <th>25%</th>\n",
       "      <th>50%</th>\n",
       "      <th>75%</th>\n",
       "      <th>max</th>\n",
       "    </tr>\n",
       "  </thead>\n",
       "  <tbody>\n",
       "    <tr>\n",
       "      <th>Number of Sittings Attended (Out of 132)</th>\n",
       "      <td>100.0</td>\n",
       "      <td>116.4800</td>\n",
       "      <td>23.631207</td>\n",
       "      <td>33.0</td>\n",
       "      <td>118.00</td>\n",
       "      <td>125.0</td>\n",
       "      <td>128.00</td>\n",
       "      <td>132.0</td>\n",
       "    </tr>\n",
       "    <tr>\n",
       "      <th>Percent of Sittings Attended (Out of 132)</th>\n",
       "      <td>100.0</td>\n",
       "      <td>88.2418</td>\n",
       "      <td>17.901805</td>\n",
       "      <td>25.0</td>\n",
       "      <td>89.39</td>\n",
       "      <td>94.7</td>\n",
       "      <td>96.97</td>\n",
       "      <td>100.0</td>\n",
       "    </tr>\n",
       "  </tbody>\n",
       "</table>\n",
       "</div>"
      ],
      "text/plain": [
       "                                           count      mean        std   min  \\\n",
       "Number of Sittings Attended (Out of 132)   100.0  116.4800  23.631207  33.0   \n",
       "Percent of Sittings Attended (Out of 132)  100.0   88.2418  17.901805  25.0   \n",
       "\n",
       "                                              25%    50%     75%    max  \n",
       "Number of Sittings Attended (Out of 132)   118.00  125.0  128.00  132.0  \n",
       "Percent of Sittings Attended (Out of 132)   89.39   94.7   96.97  100.0  "
      ]
     },
     "execution_count": 33,
     "metadata": {},
     "output_type": "execute_result"
    },
    {
     "data": {
      "image/png": "[encoded data removed]",
      "text/plain": [
       "<Figure size 432x288 with 1 Axes>"
      ]
     },
     "metadata": {},
     "output_type": "display_data"
    }
   ],
   "source": [
    "(attendance.drop('Number of Sittings Attended (Out of 132)', axis=1).\\\n",
    "    sort_values('Percent of Sittings Attended (Out of 132)',ascending=False).\\\n",
    "         set_index(['Party', 'Constituency','Name'])).round(2).\\\n",
    "                    plot.hist(bins=10)\n",
    "plt.xlabel('% of sittings attended'), plt.title('Individual attendance')\n",
    "plt.legend(fontsize='small')\n",
    "\n",
    "(attendance.\\\n",
    "    sort_values('Percent of Sittings Attended (Out of 132)',ascending=False).\\\n",
    "         set_index(['Party', 'Constituency','Name'])).round(2).describe().T"
   ]
  },
  {
   "cell_type": "markdown",
   "metadata": {},
   "source": [
    "Highest attendance"
   ]
  },
  {
   "cell_type": "code",
   "execution_count": 34,
   "metadata": {
    "ExecuteTime": {
     "end_time": "2020-06-24T13:25:34.865388Z",
     "start_time": "2020-06-24T13:25:34.851456Z"
    }
   },
   "outputs": [
    {
     "data": {
      "text/html": [
       "<div>\n",
       "<style scoped>\n",
       "    .dataframe tbody tr th:only-of-type {\n",
       "        vertical-align: middle;\n",
       "    }\n",
       "\n",
       "    .dataframe tbody tr th {\n",
       "        vertical-align: top;\n",
       "    }\n",
       "\n",
       "    .dataframe thead th {\n",
       "        text-align: right;\n",
       "    }\n",
       "</style>\n",
       "<table border=\"1\" class=\"dataframe\">\n",
       "  <thead>\n",
       "    <tr style=\"text-align: right;\">\n",
       "      <th></th>\n",
       "      <th></th>\n",
       "      <th></th>\n",
       "      <th>Percent of Sittings Attended (Out of 132)</th>\n",
       "    </tr>\n",
       "    <tr>\n",
       "      <th>Party</th>\n",
       "      <th>Constituency</th>\n",
       "      <th>Name</th>\n",
       "      <th></th>\n",
       "    </tr>\n",
       "  </thead>\n",
       "  <tbody>\n",
       "    <tr>\n",
       "      <th rowspan=\"6\" valign=\"top\">People's Action Party</th>\n",
       "      <th>Holland-Bukit Timah GRC</th>\n",
       "      <th>Christopher De Souza</th>\n",
       "      <td>100.00</td>\n",
       "    </tr>\n",
       "    <tr>\n",
       "      <th>Jalan Besar GRC</th>\n",
       "      <th>Denise Phua Lay Peng</th>\n",
       "      <td>100.00</td>\n",
       "    </tr>\n",
       "    <tr>\n",
       "      <th>Nee Soon GRC</th>\n",
       "      <th>Louis Ng Kok Kwang</th>\n",
       "      <td>100.00</td>\n",
       "    </tr>\n",
       "    <tr>\n",
       "      <th>Tampines GRC</th>\n",
       "      <th>Desmond Choo</th>\n",
       "      <td>100.00</td>\n",
       "    </tr>\n",
       "    <tr>\n",
       "      <th>Tanjong Pagar GRC</th>\n",
       "      <th>Melvin Yong Yik Chye</th>\n",
       "      <td>100.00</td>\n",
       "    </tr>\n",
       "    <tr>\n",
       "      <th>West Coast GRC</th>\n",
       "      <th>Patrick Tay Teck Guan</th>\n",
       "      <td>100.00</td>\n",
       "    </tr>\n",
       "    <tr>\n",
       "      <th>Workers' Party</th>\n",
       "      <th>Non-Constituency MPs</th>\n",
       "      <th>Dennis Tan Lip Fong</th>\n",
       "      <td>100.00</td>\n",
       "    </tr>\n",
       "    <tr>\n",
       "      <th rowspan=\"3\" valign=\"top\">People's Action Party</th>\n",
       "      <th>Chua Chu Kang GRC</th>\n",
       "      <th>Low Yen Ling</th>\n",
       "      <td>99.24</td>\n",
       "    </tr>\n",
       "    <tr>\n",
       "      <th>Ang Mo Kio GRC</th>\n",
       "      <th>Lee Hsien Loong</th>\n",
       "      <td>99.24</td>\n",
       "    </tr>\n",
       "    <tr>\n",
       "      <th>Chua Chu Kang GRC</th>\n",
       "      <th>Yee Chia Hsing</th>\n",
       "      <td>99.24</td>\n",
       "    </tr>\n",
       "  </tbody>\n",
       "</table>\n",
       "</div>"
      ],
      "text/plain": [
       "                                                                     Percent of Sittings Attended (Out of 132)\n",
       "Party                 Constituency            Name                                                            \n",
       "People's Action Party Holland-Bukit Timah GRC Christopher De Souza                                      100.00\n",
       "                      Jalan Besar GRC         Denise Phua Lay Peng                                      100.00\n",
       "                      Nee Soon GRC            Louis Ng Kok Kwang                                        100.00\n",
       "                      Tampines GRC            Desmond Choo                                              100.00\n",
       "                      Tanjong Pagar GRC       Melvin Yong Yik Chye                                      100.00\n",
       "                      West Coast GRC          Patrick Tay Teck Guan                                     100.00\n",
       "Workers' Party        Non-Constituency MPs    Dennis Tan Lip Fong                                       100.00\n",
       "People's Action Party Chua Chu Kang GRC       Low Yen Ling                                               99.24\n",
       "                      Ang Mo Kio GRC          Lee Hsien Loong                                            99.24\n",
       "                      Chua Chu Kang GRC       Yee Chia Hsing                                             99.24"
      ]
     },
     "execution_count": 34,
     "metadata": {},
     "output_type": "execute_result"
    }
   ],
   "source": [
    "(attendance.drop('Number of Sittings Attended (Out of 132)', axis=1).\\\n",
    "    sort_values('Percent of Sittings Attended (Out of 132)',ascending=False).\\\n",
    "         set_index(['Party', 'Constituency','Name'])).round(2).head(10)"
   ]
  },
  {
   "cell_type": "markdown",
   "metadata": {},
   "source": [
    "Lowest attendance"
   ]
  },
  {
   "cell_type": "code",
   "execution_count": 35,
   "metadata": {
    "ExecuteTime": {
     "end_time": "2020-06-24T13:25:35.295027Z",
     "start_time": "2020-06-24T13:25:35.281157Z"
    }
   },
   "outputs": [
    {
     "data": {
      "text/html": [
       "<div>\n",
       "<style scoped>\n",
       "    .dataframe tbody tr th:only-of-type {\n",
       "        vertical-align: middle;\n",
       "    }\n",
       "\n",
       "    .dataframe tbody tr th {\n",
       "        vertical-align: top;\n",
       "    }\n",
       "\n",
       "    .dataframe thead th {\n",
       "        text-align: right;\n",
       "    }\n",
       "</style>\n",
       "<table border=\"1\" class=\"dataframe\">\n",
       "  <thead>\n",
       "    <tr style=\"text-align: right;\">\n",
       "      <th></th>\n",
       "      <th></th>\n",
       "      <th></th>\n",
       "      <th>Percent of Sittings Attended (Out of 132)</th>\n",
       "    </tr>\n",
       "    <tr>\n",
       "      <th>Party</th>\n",
       "      <th>Constituency</th>\n",
       "      <th>Name</th>\n",
       "      <th></th>\n",
       "    </tr>\n",
       "  </thead>\n",
       "  <tbody>\n",
       "    <tr>\n",
       "      <th>People's Action Party</th>\n",
       "      <th>East Coast GRC</th>\n",
       "      <th>Lim Swee Say</th>\n",
       "      <td>72.73</td>\n",
       "    </tr>\n",
       "    <tr>\n",
       "      <th rowspan=\"9\" valign=\"top\">Nominated MPs</th>\n",
       "      <th rowspan=\"9\" valign=\"top\">Nominated MPs</th>\n",
       "      <th>Arasu Duraisamy</th>\n",
       "      <td>37.88</td>\n",
       "    </tr>\n",
       "    <tr>\n",
       "      <th>Mohamed Irshad</th>\n",
       "      <td>37.88</td>\n",
       "    </tr>\n",
       "    <tr>\n",
       "      <th>Anthea Ong</th>\n",
       "      <td>37.88</td>\n",
       "    </tr>\n",
       "    <tr>\n",
       "      <th>Terence Ho Wee San</th>\n",
       "      <td>37.12</td>\n",
       "    </tr>\n",
       "    <tr>\n",
       "      <th>Dr Walter Theseira</th>\n",
       "      <td>37.12</td>\n",
       "    </tr>\n",
       "    <tr>\n",
       "      <th>Lim Sun Sun</th>\n",
       "      <td>34.85</td>\n",
       "    </tr>\n",
       "    <tr>\n",
       "      <th>Irene Quay Siew Ching</th>\n",
       "      <td>32.58</td>\n",
       "    </tr>\n",
       "    <tr>\n",
       "      <th>Douglas Foo</th>\n",
       "      <td>29.55</td>\n",
       "    </tr>\n",
       "    <tr>\n",
       "      <th>Yip Pin Xiu</th>\n",
       "      <td>25.00</td>\n",
       "    </tr>\n",
       "  </tbody>\n",
       "</table>\n",
       "</div>"
      ],
      "text/plain": [
       "                                                            Percent of Sittings Attended (Out of 132)\n",
       "Party                 Constituency   Name                                                            \n",
       "People's Action Party East Coast GRC Lim Swee Say                                               72.73\n",
       "Nominated MPs         Nominated MPs  Arasu Duraisamy                                            37.88\n",
       "                                     Mohamed Irshad                                             37.88\n",
       "                                     Anthea Ong                                                 37.88\n",
       "                                     Terence Ho Wee San                                         37.12\n",
       "                                     Dr Walter Theseira                                         37.12\n",
       "                                     Lim Sun Sun                                                34.85\n",
       "                                     Irene Quay Siew Ching                                      32.58\n",
       "                                     Douglas Foo                                                29.55\n",
       "                                     Yip Pin Xiu                                                25.00"
      ]
     },
     "execution_count": 35,
     "metadata": {},
     "output_type": "execute_result"
    }
   ],
   "source": [
    "(attendance.drop('Number of Sittings Attended (Out of 132)', axis=1).\\\n",
    "    sort_values('Percent of Sittings Attended (Out of 132)',ascending=False).\\\n",
    "         set_index(['Party', 'Constituency','Name'])).round(2).tail(10)"
   ]
  },
  {
   "cell_type": "markdown",
   "metadata": {},
   "source": [
    "## Speaking"
   ]
  },
  {
   "cell_type": "markdown",
   "metadata": {},
   "source": [
    "### Speaking by Party"
   ]
  },
  {
   "cell_type": "code",
   "execution_count": 36,
   "metadata": {
    "ExecuteTime": {
     "end_time": "2020-06-24T13:25:36.072277Z",
     "start_time": "2020-06-24T13:25:36.062992Z"
    }
   },
   "outputs": [
    {
     "data": {
      "text/html": [
       "<div>\n",
       "<style scoped>\n",
       "    .dataframe tbody tr th:only-of-type {\n",
       "        vertical-align: middle;\n",
       "    }\n",
       "\n",
       "    .dataframe tbody tr th {\n",
       "        vertical-align: top;\n",
       "    }\n",
       "\n",
       "    .dataframe thead th {\n",
       "        text-align: right;\n",
       "    }\n",
       "</style>\n",
       "<table border=\"1\" class=\"dataframe\">\n",
       "  <thead>\n",
       "    <tr style=\"text-align: right;\">\n",
       "      <th></th>\n",
       "      <th>Percent of Sittings Spoken (Out of 131)</th>\n",
       "    </tr>\n",
       "    <tr>\n",
       "      <th>Party</th>\n",
       "      <th></th>\n",
       "    </tr>\n",
       "  </thead>\n",
       "  <tbody>\n",
       "    <tr>\n",
       "      <th>Workers' Party</th>\n",
       "      <td>55.39</td>\n",
       "    </tr>\n",
       "    <tr>\n",
       "      <th>People's Action Party</th>\n",
       "      <td>38.92</td>\n",
       "    </tr>\n",
       "    <tr>\n",
       "      <th>Nominated MPs</th>\n",
       "      <td>16.62</td>\n",
       "    </tr>\n",
       "  </tbody>\n",
       "</table>\n",
       "</div>"
      ],
      "text/plain": [
       "                       Percent of Sittings Spoken (Out of 131)\n",
       "Party                                                         \n",
       "Workers' Party                                           55.39\n",
       "People's Action Party                                    38.92\n",
       "Nominated MPs                                            16.62"
      ]
     },
     "execution_count": 36,
     "metadata": {},
     "output_type": "execute_result"
    }
   ],
   "source": [
    "(speaking.groupby('Party')[['Percent of Sittings Spoken (Out of 131)']].mean()).\\\n",
    "    sort_values(['Percent of Sittings Spoken (Out of 131)'],ascending=False).round(2)"
   ]
  },
  {
   "cell_type": "markdown",
   "metadata": {},
   "source": [
    "### Speaking by Constituency"
   ]
  },
  {
   "cell_type": "code",
   "execution_count": 37,
   "metadata": {
    "ExecuteTime": {
     "end_time": "2020-06-24T13:25:36.659130Z",
     "start_time": "2020-06-24T13:25:36.485527Z"
    }
   },
   "outputs": [
    {
     "data": {
      "text/html": [
       "<div>\n",
       "<style scoped>\n",
       "    .dataframe tbody tr th:only-of-type {\n",
       "        vertical-align: middle;\n",
       "    }\n",
       "\n",
       "    .dataframe tbody tr th {\n",
       "        vertical-align: top;\n",
       "    }\n",
       "\n",
       "    .dataframe thead th {\n",
       "        text-align: right;\n",
       "    }\n",
       "</style>\n",
       "<table border=\"1\" class=\"dataframe\">\n",
       "  <thead>\n",
       "    <tr style=\"text-align: right;\">\n",
       "      <th></th>\n",
       "      <th>count</th>\n",
       "      <th>mean</th>\n",
       "      <th>std</th>\n",
       "      <th>min</th>\n",
       "      <th>25%</th>\n",
       "      <th>50%</th>\n",
       "      <th>75%</th>\n",
       "      <th>max</th>\n",
       "    </tr>\n",
       "  </thead>\n",
       "  <tbody>\n",
       "    <tr>\n",
       "      <th>Percent of Sittings Spoken (Out of 131)</th>\n",
       "      <td>30.0</td>\n",
       "      <td>38.757333</td>\n",
       "      <td>13.376417</td>\n",
       "      <td>10.69</td>\n",
       "      <td>28.055</td>\n",
       "      <td>41.22</td>\n",
       "      <td>45.495</td>\n",
       "      <td>68.96</td>\n",
       "    </tr>\n",
       "  </tbody>\n",
       "</table>\n",
       "</div>"
      ],
      "text/plain": [
       "                                         count       mean        std    min  \\\n",
       "Percent of Sittings Spoken (Out of 131)   30.0  38.757333  13.376417  10.69   \n",
       "\n",
       "                                            25%    50%     75%    max  \n",
       "Percent of Sittings Spoken (Out of 131)  28.055  41.22  45.495  68.96  "
      ]
     },
     "execution_count": 37,
     "metadata": {},
     "output_type": "execute_result"
    },
    {
     "data": {
      "image/png": "[encoded data removed]",
      "text/plain": [
       "<Figure size 432x288 with 1 Axes>"
      ]
     },
     "metadata": {},
     "output_type": "display_data"
    }
   ],
   "source": [
    "(speaking.groupby(['Constituency','Party'])[['Percent of Sittings Spoken (Out of 131)']].mean())\\\n",
    "                    .sort_values('Percent of Sittings Spoken (Out of 131)',ascending=False).round(2).\\\n",
    "                    plot.hist(bins=10)\n",
    "plt.xlabel('% of sittings'), plt.title(\n",
    "    'Percent of sittings Constituency spoke')\n",
    "plt.legend(fontsize='small')\n",
    "\n",
    "(speaking.groupby(['Constituency','Party'])[['Percent of Sittings Spoken (Out of 131)']].mean())\\\n",
    "                    .sort_values('Percent of Sittings Spoken (Out of 131)',ascending=False).round(2).\\\n",
    "                    describe().T"
   ]
  },
  {
   "cell_type": "code",
   "execution_count": 38,
   "metadata": {
    "ExecuteTime": {
     "end_time": "2020-06-24T13:25:36.672216Z",
     "start_time": "2020-06-24T13:25:36.661315Z"
    }
   },
   "outputs": [
    {
     "data": {
      "text/html": [
       "<div>\n",
       "<style scoped>\n",
       "    .dataframe tbody tr th:only-of-type {\n",
       "        vertical-align: middle;\n",
       "    }\n",
       "\n",
       "    .dataframe tbody tr th {\n",
       "        vertical-align: top;\n",
       "    }\n",
       "\n",
       "    .dataframe thead th {\n",
       "        text-align: right;\n",
       "    }\n",
       "</style>\n",
       "<table border=\"1\" class=\"dataframe\">\n",
       "  <thead>\n",
       "    <tr style=\"text-align: right;\">\n",
       "      <th></th>\n",
       "      <th></th>\n",
       "      <th>Percent of Sittings Spoken (Out of 131)</th>\n",
       "    </tr>\n",
       "    <tr>\n",
       "      <th>Constituency</th>\n",
       "      <th>Party</th>\n",
       "      <th></th>\n",
       "    </tr>\n",
       "  </thead>\n",
       "  <tbody>\n",
       "    <tr>\n",
       "      <th>Non-Constituency MPs</th>\n",
       "      <th>Workers' Party</th>\n",
       "      <td>68.96</td>\n",
       "    </tr>\n",
       "    <tr>\n",
       "      <th>Nee Soon GRC</th>\n",
       "      <th>People's Action Party</th>\n",
       "      <td>60.50</td>\n",
       "    </tr>\n",
       "    <tr>\n",
       "      <th>Bukit Batok SMC</th>\n",
       "      <th>People's Action Party</th>\n",
       "      <td>54.20</td>\n",
       "    </tr>\n",
       "    <tr>\n",
       "      <th>Mountbatten SMC</th>\n",
       "      <th>People's Action Party</th>\n",
       "      <td>51.15</td>\n",
       "    </tr>\n",
       "    <tr>\n",
       "      <th>Tanjong Pagar GRC</th>\n",
       "      <th>People's Action Party</th>\n",
       "      <td>50.38</td>\n",
       "    </tr>\n",
       "  </tbody>\n",
       "</table>\n",
       "</div>"
      ],
      "text/plain": [
       "                                            Percent of Sittings Spoken (Out of 131)\n",
       "Constituency         Party                                                         \n",
       "Non-Constituency MPs Workers' Party                                           68.96\n",
       "Nee Soon GRC         People's Action Party                                    60.50\n",
       "Bukit Batok SMC      People's Action Party                                    54.20\n",
       "Mountbatten SMC      People's Action Party                                    51.15\n",
       "Tanjong Pagar GRC    People's Action Party                                    50.38"
      ]
     },
     "execution_count": 38,
     "metadata": {},
     "output_type": "execute_result"
    }
   ],
   "source": [
    "(speaking.groupby(['Constituency','Party'])[['Percent of Sittings Spoken (Out of 131)']].mean())\\\n",
    "                    .sort_values('Percent of Sittings Spoken (Out of 131)',ascending=False).round(2).head()"
   ]
  },
  {
   "cell_type": "code",
   "execution_count": 39,
   "metadata": {
    "ExecuteTime": {
     "end_time": "2020-06-24T13:25:36.684968Z",
     "start_time": "2020-06-24T13:25:36.674206Z"
    }
   },
   "outputs": [
    {
     "data": {
      "text/html": [
       "<div>\n",
       "<style scoped>\n",
       "    .dataframe tbody tr th:only-of-type {\n",
       "        vertical-align: middle;\n",
       "    }\n",
       "\n",
       "    .dataframe tbody tr th {\n",
       "        vertical-align: top;\n",
       "    }\n",
       "\n",
       "    .dataframe thead th {\n",
       "        text-align: right;\n",
       "    }\n",
       "</style>\n",
       "<table border=\"1\" class=\"dataframe\">\n",
       "  <thead>\n",
       "    <tr style=\"text-align: right;\">\n",
       "      <th></th>\n",
       "      <th></th>\n",
       "      <th>Percent of Sittings Spoken (Out of 131)</th>\n",
       "    </tr>\n",
       "    <tr>\n",
       "      <th>Constituency</th>\n",
       "      <th>Party</th>\n",
       "      <th></th>\n",
       "    </tr>\n",
       "  </thead>\n",
       "  <tbody>\n",
       "    <tr>\n",
       "      <th>Pioneer SMC</th>\n",
       "      <th>People's Action Party</th>\n",
       "      <td>22.90</td>\n",
       "    </tr>\n",
       "    <tr>\n",
       "      <th>Radin Mas SMC</th>\n",
       "      <th>People's Action Party</th>\n",
       "      <td>22.14</td>\n",
       "    </tr>\n",
       "    <tr>\n",
       "      <th>East Coast GRC</th>\n",
       "      <th>People's Action Party</th>\n",
       "      <td>18.32</td>\n",
       "    </tr>\n",
       "    <tr>\n",
       "      <th>Nominated MPs</th>\n",
       "      <th>Nominated MPs</th>\n",
       "      <td>16.62</td>\n",
       "    </tr>\n",
       "    <tr>\n",
       "      <th>Punggol East SMC</th>\n",
       "      <th>People's Action Party</th>\n",
       "      <td>10.69</td>\n",
       "    </tr>\n",
       "  </tbody>\n",
       "</table>\n",
       "</div>"
      ],
      "text/plain": [
       "                                        Percent of Sittings Spoken (Out of 131)\n",
       "Constituency     Party                                                         \n",
       "Pioneer SMC      People's Action Party                                    22.90\n",
       "Radin Mas SMC    People's Action Party                                    22.14\n",
       "East Coast GRC   People's Action Party                                    18.32\n",
       "Nominated MPs    Nominated MPs                                            16.62\n",
       "Punggol East SMC People's Action Party                                    10.69"
      ]
     },
     "execution_count": 39,
     "metadata": {},
     "output_type": "execute_result"
    }
   ],
   "source": [
    "(speaking.groupby(['Constituency','Party'])[['Percent of Sittings Spoken (Out of 131)']].mean())\\\n",
    "                    .sort_values('Percent of Sittings Spoken (Out of 131)',ascending=False).round(2).tail()"
   ]
  },
  {
   "cell_type": "markdown",
   "metadata": {},
   "source": [
    "### Individial number of sittings spoken"
   ]
  },
  {
   "cell_type": "code",
   "execution_count": 40,
   "metadata": {
    "ExecuteTime": {
     "end_time": "2020-06-24T13:25:37.098856Z",
     "start_time": "2020-06-24T13:25:36.926431Z"
    }
   },
   "outputs": [
    {
     "data": {
      "text/html": [
       "<div>\n",
       "<style scoped>\n",
       "    .dataframe tbody tr th:only-of-type {\n",
       "        vertical-align: middle;\n",
       "    }\n",
       "\n",
       "    .dataframe tbody tr th {\n",
       "        vertical-align: top;\n",
       "    }\n",
       "\n",
       "    .dataframe thead th {\n",
       "        text-align: right;\n",
       "    }\n",
       "</style>\n",
       "<table border=\"1\" class=\"dataframe\">\n",
       "  <thead>\n",
       "    <tr style=\"text-align: right;\">\n",
       "      <th></th>\n",
       "      <th>count</th>\n",
       "      <th>mean</th>\n",
       "      <th>std</th>\n",
       "      <th>min</th>\n",
       "      <th>25%</th>\n",
       "      <th>50%</th>\n",
       "      <th>75%</th>\n",
       "      <th>max</th>\n",
       "    </tr>\n",
       "  </thead>\n",
       "  <tbody>\n",
       "    <tr>\n",
       "      <th>Percent of Sittings Spoken (Out of 131)</th>\n",
       "      <td>80.0</td>\n",
       "      <td>38.263125</td>\n",
       "      <td>18.383296</td>\n",
       "      <td>4.58</td>\n",
       "      <td>24.2375</td>\n",
       "      <td>40.46</td>\n",
       "      <td>49.62</td>\n",
       "      <td>87.02</td>\n",
       "    </tr>\n",
       "  </tbody>\n",
       "</table>\n",
       "</div>"
      ],
      "text/plain": [
       "                                         count       mean        std   min  \\\n",
       "Percent of Sittings Spoken (Out of 131)   80.0  38.263125  18.383296  4.58   \n",
       "\n",
       "                                             25%    50%    75%    max  \n",
       "Percent of Sittings Spoken (Out of 131)  24.2375  40.46  49.62  87.02  "
      ]
     },
     "execution_count": 40,
     "metadata": {},
     "output_type": "execute_result"
    },
    {
     "data": {
      "image/png": "[encoded data removed]",
      "text/plain": [
       "<Figure size 432x288 with 1 Axes>"
      ]
     },
     "metadata": {},
     "output_type": "display_data"
    }
   ],
   "source": [
    "speaking.drop('Number of Sittings Spoken (Out of 131)',axis=1).\\\n",
    "    sort_values('Percent of Sittings Spoken (Out of 131)',ascending=False).\\\n",
    "         set_index(['Party', 'Constituency','Name']).\\\n",
    "                    plot.hist(bins=10)\n",
    "plt.xlabel('% of sittings'), plt.title('Individual number of sittings spoken')\n",
    "plt.legend(fontsize='small')\n",
    "\n",
    "speaking.drop('Number of Sittings Spoken (Out of 131)',axis=1).\\\n",
    "    sort_values('Percent of Sittings Spoken (Out of 131)',ascending=False).\\\n",
    "         set_index(['Party', 'Constituency','Name']).describe().T"
   ]
  },
  {
   "cell_type": "markdown",
   "metadata": {},
   "source": [
    "Spoke the most"
   ]
  },
  {
   "cell_type": "code",
   "execution_count": 41,
   "metadata": {
    "ExecuteTime": {
     "end_time": "2020-06-24T13:25:37.364095Z",
     "start_time": "2020-06-24T13:25:37.351713Z"
    }
   },
   "outputs": [
    {
     "data": {
      "text/html": [
       "<div>\n",
       "<style scoped>\n",
       "    .dataframe tbody tr th:only-of-type {\n",
       "        vertical-align: middle;\n",
       "    }\n",
       "\n",
       "    .dataframe tbody tr th {\n",
       "        vertical-align: top;\n",
       "    }\n",
       "\n",
       "    .dataframe thead th {\n",
       "        text-align: right;\n",
       "    }\n",
       "</style>\n",
       "<table border=\"1\" class=\"dataframe\">\n",
       "  <thead>\n",
       "    <tr style=\"text-align: right;\">\n",
       "      <th></th>\n",
       "      <th></th>\n",
       "      <th></th>\n",
       "      <th>Percent of Sittings Spoken (Out of 131)</th>\n",
       "    </tr>\n",
       "    <tr>\n",
       "      <th>Party</th>\n",
       "      <th>Constituency</th>\n",
       "      <th>Name</th>\n",
       "      <th></th>\n",
       "    </tr>\n",
       "  </thead>\n",
       "  <tbody>\n",
       "    <tr>\n",
       "      <th>People's Action Party</th>\n",
       "      <th>Nee Soon GRC</th>\n",
       "      <th>Louis Ng Kok Kwang</th>\n",
       "      <td>87.02</td>\n",
       "    </tr>\n",
       "    <tr>\n",
       "      <th rowspan=\"3\" valign=\"top\">Workers' Party</th>\n",
       "      <th rowspan=\"2\" valign=\"top\">Non-Constituency MPs</th>\n",
       "      <th>Leon Perera</th>\n",
       "      <td>75.57</td>\n",
       "    </tr>\n",
       "    <tr>\n",
       "      <th>Dennis Tan Lip Fong</th>\n",
       "      <td>73.28</td>\n",
       "    </tr>\n",
       "    <tr>\n",
       "      <th>Aljunied GRC</th>\n",
       "      <th>Pritam Singh</th>\n",
       "      <td>71.76</td>\n",
       "    </tr>\n",
       "    <tr>\n",
       "      <th rowspan=\"3\" valign=\"top\">People's Action Party</th>\n",
       "      <th>Nee Soon GRC</th>\n",
       "      <th>Lee Bee Wah</th>\n",
       "      <td>70.23</td>\n",
       "    </tr>\n",
       "    <tr>\n",
       "      <th>Tanjong Pagar GRC</th>\n",
       "      <th>Joan Pereira</th>\n",
       "      <td>66.41</td>\n",
       "    </tr>\n",
       "    <tr>\n",
       "      <th>Ang Mo Kio GRC</th>\n",
       "      <th>Gan Thiam Poh</th>\n",
       "      <td>65.65</td>\n",
       "    </tr>\n",
       "    <tr>\n",
       "      <th>Workers' Party</th>\n",
       "      <th>Aljunied GRC</th>\n",
       "      <th>Sylvia Lim</th>\n",
       "      <td>62.60</td>\n",
       "    </tr>\n",
       "    <tr>\n",
       "      <th rowspan=\"2\" valign=\"top\">People's Action Party</th>\n",
       "      <th>Tampines GRC</th>\n",
       "      <th>Desmond Choo</th>\n",
       "      <td>60.31</td>\n",
       "    </tr>\n",
       "    <tr>\n",
       "      <th>Bishan-Toa Payoh GRC</th>\n",
       "      <th>Saktiandi Supaat</th>\n",
       "      <td>58.78</td>\n",
       "    </tr>\n",
       "  </tbody>\n",
       "</table>\n",
       "</div>"
      ],
      "text/plain": [
       "                                                                Percent of Sittings Spoken (Out of 131)\n",
       "Party                 Constituency         Name                                                        \n",
       "People's Action Party Nee Soon GRC         Louis Ng Kok Kwang                                     87.02\n",
       "Workers' Party        Non-Constituency MPs Leon Perera                                            75.57\n",
       "                                           Dennis Tan Lip Fong                                    73.28\n",
       "                      Aljunied GRC         Pritam Singh                                           71.76\n",
       "People's Action Party Nee Soon GRC         Lee Bee Wah                                            70.23\n",
       "                      Tanjong Pagar GRC    Joan Pereira                                           66.41\n",
       "                      Ang Mo Kio GRC       Gan Thiam Poh                                          65.65\n",
       "Workers' Party        Aljunied GRC         Sylvia Lim                                             62.60\n",
       "People's Action Party Tampines GRC         Desmond Choo                                           60.31\n",
       "                      Bishan-Toa Payoh GRC Saktiandi Supaat                                       58.78"
      ]
     },
     "execution_count": 41,
     "metadata": {},
     "output_type": "execute_result"
    }
   ],
   "source": [
    "speaking.drop('Number of Sittings Spoken (Out of 131)',axis=1).\\\n",
    "    sort_values('Percent of Sittings Spoken (Out of 131)',ascending=False).\\\n",
    "         set_index(['Party', 'Constituency','Name']).head(10)"
   ]
  },
  {
   "cell_type": "markdown",
   "metadata": {},
   "source": [
    "Spoke the least"
   ]
  },
  {
   "cell_type": "code",
   "execution_count": 42,
   "metadata": {
    "ExecuteTime": {
     "end_time": "2020-06-24T13:25:37.775602Z",
     "start_time": "2020-06-24T13:25:37.762893Z"
    }
   },
   "outputs": [
    {
     "data": {
      "text/html": [
       "<div>\n",
       "<style scoped>\n",
       "    .dataframe tbody tr th:only-of-type {\n",
       "        vertical-align: middle;\n",
       "    }\n",
       "\n",
       "    .dataframe tbody tr th {\n",
       "        vertical-align: top;\n",
       "    }\n",
       "\n",
       "    .dataframe thead th {\n",
       "        text-align: right;\n",
       "    }\n",
       "</style>\n",
       "<table border=\"1\" class=\"dataframe\">\n",
       "  <thead>\n",
       "    <tr style=\"text-align: right;\">\n",
       "      <th></th>\n",
       "      <th></th>\n",
       "      <th></th>\n",
       "      <th>Percent of Sittings Spoken (Out of 131)</th>\n",
       "    </tr>\n",
       "    <tr>\n",
       "      <th>Party</th>\n",
       "      <th>Constituency</th>\n",
       "      <th>Name</th>\n",
       "      <th></th>\n",
       "    </tr>\n",
       "  </thead>\n",
       "  <tbody>\n",
       "    <tr>\n",
       "      <th>Nominated MPs</th>\n",
       "      <th>Nominated MPs</th>\n",
       "      <th>Lim Sun Sun</th>\n",
       "      <td>15.27</td>\n",
       "    </tr>\n",
       "    <tr>\n",
       "      <th>People's Action Party</th>\n",
       "      <th>West Coast GRC</th>\n",
       "      <th>Lim Hng Kiang</th>\n",
       "      <td>10.69</td>\n",
       "    </tr>\n",
       "    <tr>\n",
       "      <th>Nominated MPs</th>\n",
       "      <th>Nominated MPs</th>\n",
       "      <th>Terence Ho Wee San</th>\n",
       "      <td>10.69</td>\n",
       "    </tr>\n",
       "    <tr>\n",
       "      <th rowspan=\"2\" valign=\"top\">People's Action Party</th>\n",
       "      <th>Jalan Besar GRC</th>\n",
       "      <th>Heng Chee How</th>\n",
       "      <td>10.69</td>\n",
       "    </tr>\n",
       "    <tr>\n",
       "      <th>Punggol East SMC</th>\n",
       "      <th>Charles Chong</th>\n",
       "      <td>10.69</td>\n",
       "    </tr>\n",
       "    <tr>\n",
       "      <th rowspan=\"2\" valign=\"top\">Nominated MPs</th>\n",
       "      <th rowspan=\"2\" valign=\"top\">Nominated MPs</th>\n",
       "      <th>Arasu Duraisamy</th>\n",
       "      <td>9.16</td>\n",
       "    </tr>\n",
       "    <tr>\n",
       "      <th>Douglas Foo</th>\n",
       "      <td>9.16</td>\n",
       "    </tr>\n",
       "    <tr>\n",
       "      <th>People's Action Party</th>\n",
       "      <th>East Coast GRC</th>\n",
       "      <th>Lee Yi Shyan</th>\n",
       "      <td>6.11</td>\n",
       "    </tr>\n",
       "    <tr>\n",
       "      <th>Nominated MPs</th>\n",
       "      <th>Nominated MPs</th>\n",
       "      <th>Yip Pin Xiu</th>\n",
       "      <td>6.11</td>\n",
       "    </tr>\n",
       "    <tr>\n",
       "      <th>People's Action Party</th>\n",
       "      <th>Pasir Ris-Punggol GRC</th>\n",
       "      <th>Teo Ser Luck</th>\n",
       "      <td>4.58</td>\n",
       "    </tr>\n",
       "  </tbody>\n",
       "</table>\n",
       "</div>"
      ],
      "text/plain": [
       "                                                                Percent of Sittings Spoken (Out of 131)\n",
       "Party                 Constituency          Name                                                       \n",
       "Nominated MPs         Nominated MPs         Lim Sun Sun                                           15.27\n",
       "People's Action Party West Coast GRC        Lim Hng Kiang                                         10.69\n",
       "Nominated MPs         Nominated MPs         Terence Ho Wee San                                    10.69\n",
       "People's Action Party Jalan Besar GRC       Heng Chee How                                         10.69\n",
       "                      Punggol East SMC      Charles Chong                                         10.69\n",
       "Nominated MPs         Nominated MPs         Arasu Duraisamy                                        9.16\n",
       "                                            Douglas Foo                                            9.16\n",
       "People's Action Party East Coast GRC        Lee Yi Shyan                                           6.11\n",
       "Nominated MPs         Nominated MPs         Yip Pin Xiu                                            6.11\n",
       "People's Action Party Pasir Ris-Punggol GRC Teo Ser Luck                                           4.58"
      ]
     },
     "execution_count": 42,
     "metadata": {},
     "output_type": "execute_result"
    }
   ],
   "source": [
    "speaking.drop('Number of Sittings Spoken (Out of 131)',axis=1).\\\n",
    "    sort_values('Percent of Sittings Spoken (Out of 131)',ascending=False).\\\n",
    "         set_index(['Party', 'Constituency','Name']).tail(10)"
   ]
  },
  {
   "cell_type": "markdown",
   "metadata": {},
   "source": [
    "## Spoke while attending meeting"
   ]
  },
  {
   "cell_type": "markdown",
   "metadata": {},
   "source": [
    "We might also be interested to know how many times parties spoke while they are present for the meeting"
   ]
  },
  {
   "cell_type": "code",
   "execution_count": 43,
   "metadata": {
    "ExecuteTime": {
     "end_time": "2020-06-24T13:25:38.527169Z",
     "start_time": "2020-06-24T13:25:38.519640Z"
    }
   },
   "outputs": [],
   "source": [
    "attendance_speaking = pd.merge(\n",
    "    attendance[[\n",
    "        'Party', 'Constituency', 'Name',\n",
    "        'Number of Sittings Attended (Out of 132)'\n",
    "    ]],\n",
    "    speaking[['Name', 'Number of Sittings Spoken (Out of 131)']],\n",
    "    on='Name')"
   ]
  },
  {
   "cell_type": "code",
   "execution_count": 44,
   "metadata": {
    "ExecuteTime": {
     "end_time": "2020-06-24T13:25:38.533078Z",
     "start_time": "2020-06-24T13:25:38.529555Z"
    }
   },
   "outputs": [],
   "source": [
    "attendance_speaking['Spoke per meeting (Out of 131)'] = ((attendance_speaking['Number of Sittings Attended (Out of 132)']-1)\\\n",
    "                                           / attendance_speaking['Number of Sittings Spoken (Out of 131)'])\\\n",
    "                                        .round(2)"
   ]
  },
  {
   "cell_type": "code",
   "execution_count": 45,
   "metadata": {
    "ExecuteTime": {
     "end_time": "2020-06-24T13:25:38.538621Z",
     "start_time": "2020-06-24T13:25:38.535202Z"
    }
   },
   "outputs": [],
   "source": [
    "attendance_speaking = attendance_speaking.drop([\n",
    "    'Number of Sittings Attended (Out of 132)',\n",
    "    'Number of Sittings Spoken (Out of 131)'\n",
    "],axis=1)"
   ]
  },
  {
   "cell_type": "code",
   "execution_count": 46,
   "metadata": {
    "ExecuteTime": {
     "end_time": "2020-06-24T13:25:38.547736Z",
     "start_time": "2020-06-24T13:25:38.540324Z"
    }
   },
   "outputs": [
    {
     "data": {
      "text/html": [
       "<div>\n",
       "<style scoped>\n",
       "    .dataframe tbody tr th:only-of-type {\n",
       "        vertical-align: middle;\n",
       "    }\n",
       "\n",
       "    .dataframe tbody tr th {\n",
       "        vertical-align: top;\n",
       "    }\n",
       "\n",
       "    .dataframe thead th {\n",
       "        text-align: right;\n",
       "    }\n",
       "</style>\n",
       "<table border=\"1\" class=\"dataframe\">\n",
       "  <thead>\n",
       "    <tr style=\"text-align: right;\">\n",
       "      <th></th>\n",
       "      <th>Party</th>\n",
       "      <th>Constituency</th>\n",
       "      <th>Name</th>\n",
       "      <th>Spoke per meeting (Out of 131)</th>\n",
       "    </tr>\n",
       "  </thead>\n",
       "  <tbody>\n",
       "    <tr>\n",
       "      <th>0</th>\n",
       "      <td>Workers' Party</td>\n",
       "      <td>Aljunied GRC</td>\n",
       "      <td>Low Thia Khiang</td>\n",
       "      <td>2.17</td>\n",
       "    </tr>\n",
       "    <tr>\n",
       "      <th>1</th>\n",
       "      <td>Workers' Party</td>\n",
       "      <td>Aljunied GRC</td>\n",
       "      <td>Pritam Singh</td>\n",
       "      <td>1.36</td>\n",
       "    </tr>\n",
       "    <tr>\n",
       "      <th>2</th>\n",
       "      <td>People's Action Party</td>\n",
       "      <td>Holland-Bukit Timah GRC</td>\n",
       "      <td>Christopher De Souza</td>\n",
       "      <td>1.72</td>\n",
       "    </tr>\n",
       "    <tr>\n",
       "      <th>3</th>\n",
       "      <td>People's Action Party</td>\n",
       "      <td>Jalan Besar GRC</td>\n",
       "      <td>Denise Phua Lay Peng</td>\n",
       "      <td>2.43</td>\n",
       "    </tr>\n",
       "    <tr>\n",
       "      <th>4</th>\n",
       "      <td>People's Action Party</td>\n",
       "      <td>Nee Soon GRC</td>\n",
       "      <td>Louis Ng Kok Kwang</td>\n",
       "      <td>1.15</td>\n",
       "    </tr>\n",
       "  </tbody>\n",
       "</table>\n",
       "</div>"
      ],
      "text/plain": [
       "                   Party             Constituency                  Name  \\\n",
       "0         Workers' Party             Aljunied GRC       Low Thia Khiang   \n",
       "1         Workers' Party             Aljunied GRC          Pritam Singh   \n",
       "2  People's Action Party  Holland-Bukit Timah GRC  Christopher De Souza   \n",
       "3  People's Action Party          Jalan Besar GRC  Denise Phua Lay Peng   \n",
       "4  People's Action Party             Nee Soon GRC    Louis Ng Kok Kwang   \n",
       "\n",
       "   Spoke per meeting (Out of 131)  \n",
       "0                            2.17  \n",
       "1                            1.36  \n",
       "2                            1.72  \n",
       "3                            2.43  \n",
       "4                            1.15  "
      ]
     },
     "execution_count": 46,
     "metadata": {},
     "output_type": "execute_result"
    }
   ],
   "source": [
    "attendance_speaking.head()"
   ]
  },
  {
   "cell_type": "markdown",
   "metadata": {},
   "source": [
    "### Spoke while attending meeting by Party"
   ]
  },
  {
   "cell_type": "code",
   "execution_count": 47,
   "metadata": {
    "ExecuteTime": {
     "end_time": "2020-06-24T13:25:38.951213Z",
     "start_time": "2020-06-24T13:25:38.941239Z"
    }
   },
   "outputs": [
    {
     "data": {
      "text/html": [
       "<div>\n",
       "<style scoped>\n",
       "    .dataframe tbody tr th:only-of-type {\n",
       "        vertical-align: middle;\n",
       "    }\n",
       "\n",
       "    .dataframe tbody tr th {\n",
       "        vertical-align: top;\n",
       "    }\n",
       "\n",
       "    .dataframe thead th {\n",
       "        text-align: right;\n",
       "    }\n",
       "</style>\n",
       "<table border=\"1\" class=\"dataframe\">\n",
       "  <thead>\n",
       "    <tr style=\"text-align: right;\">\n",
       "      <th></th>\n",
       "      <th>Spoke per meeting (Out of 131)</th>\n",
       "    </tr>\n",
       "    <tr>\n",
       "      <th>Party</th>\n",
       "      <th></th>\n",
       "    </tr>\n",
       "  </thead>\n",
       "  <tbody>\n",
       "    <tr>\n",
       "      <th>People's Action Party</th>\n",
       "      <td>2.53</td>\n",
       "    </tr>\n",
       "    <tr>\n",
       "      <th>Nominated MPs</th>\n",
       "      <td>1.96</td>\n",
       "    </tr>\n",
       "    <tr>\n",
       "      <th>Workers' Party</th>\n",
       "      <td>1.48</td>\n",
       "    </tr>\n",
       "  </tbody>\n",
       "</table>\n",
       "</div>"
      ],
      "text/plain": [
       "                       Spoke per meeting (Out of 131)\n",
       "Party                                                \n",
       "People's Action Party                            2.53\n",
       "Nominated MPs                                    1.96\n",
       "Workers' Party                                   1.48"
      ]
     },
     "execution_count": 47,
     "metadata": {},
     "output_type": "execute_result"
    }
   ],
   "source": [
    "(attendance_speaking.groupby('Party')[['Spoke per meeting (Out of 131)']].mean() / 131 * 100).\\\n",
    "    sort_values(['Spoke per meeting (Out of 131)'],ascending=False).round(2)"
   ]
  },
  {
   "cell_type": "markdown",
   "metadata": {},
   "source": [
    "### Spoke while attending by Constituency"
   ]
  },
  {
   "cell_type": "code",
   "execution_count": 48,
   "metadata": {
    "ExecuteTime": {
     "end_time": "2020-06-24T13:25:39.529800Z",
     "start_time": "2020-06-24T13:25:39.363008Z"
    }
   },
   "outputs": [
    {
     "data": {
      "text/html": [
       "<div>\n",
       "<style scoped>\n",
       "    .dataframe tbody tr th:only-of-type {\n",
       "        vertical-align: middle;\n",
       "    }\n",
       "\n",
       "    .dataframe tbody tr th {\n",
       "        vertical-align: top;\n",
       "    }\n",
       "\n",
       "    .dataframe thead th {\n",
       "        text-align: right;\n",
       "    }\n",
       "</style>\n",
       "<table border=\"1\" class=\"dataframe\">\n",
       "  <thead>\n",
       "    <tr style=\"text-align: right;\">\n",
       "      <th></th>\n",
       "      <th>count</th>\n",
       "      <th>mean</th>\n",
       "      <th>std</th>\n",
       "      <th>min</th>\n",
       "      <th>25%</th>\n",
       "      <th>50%</th>\n",
       "      <th>75%</th>\n",
       "      <th>max</th>\n",
       "    </tr>\n",
       "  </thead>\n",
       "  <tbody>\n",
       "    <tr>\n",
       "      <th>Spoke per meeting (Out of 131)</th>\n",
       "      <td>30.0</td>\n",
       "      <td>3.110333</td>\n",
       "      <td>1.666461</td>\n",
       "      <td>1.41</td>\n",
       "      <td>2.1425</td>\n",
       "      <td>2.45</td>\n",
       "      <td>3.8825</td>\n",
       "      <td>8.93</td>\n",
       "    </tr>\n",
       "  </tbody>\n",
       "</table>\n",
       "</div>"
      ],
      "text/plain": [
       "                                count      mean       std   min     25%   50%  \\\n",
       "Spoke per meeting (Out of 131)   30.0  3.110333  1.666461  1.41  2.1425  2.45   \n",
       "\n",
       "                                   75%   max  \n",
       "Spoke per meeting (Out of 131)  3.8825  8.93  "
      ]
     },
     "execution_count": 48,
     "metadata": {},
     "output_type": "execute_result"
    },
    {
     "data": {
      "image/png": "[encoded data removed]",
      "text/plain": [
       "<Figure size 432x288 with 1 Axes>"
      ]
     },
     "metadata": {},
     "output_type": "display_data"
    }
   ],
   "source": [
    "(attendance_speaking.groupby(['Constituency','Party'])[['Spoke per meeting (Out of 131)']].mean())\\\n",
    "                    .sort_values('Spoke per meeting (Out of 131)',ascending=False).round(2).\\\n",
    "                    plot.hist(bins=10)\n",
    "plt.xlabel('spoke per meeting'), plt.title('Constituency spoke per meeting')\n",
    "plt.legend(fontsize='small')\n",
    "\n",
    "(attendance_speaking.groupby(['Constituency','Party'])[['Spoke per meeting (Out of 131)']].mean())\\\n",
    "                    .sort_values('Spoke per meeting (Out of 131)',ascending=False).round(2).\\\n",
    "                    describe().T"
   ]
  },
  {
   "cell_type": "markdown",
   "metadata": {},
   "source": [
    "Constituency that spoke the most during sittings"
   ]
  },
  {
   "cell_type": "code",
   "execution_count": 49,
   "metadata": {
    "ExecuteTime": {
     "end_time": "2020-06-24T13:25:39.791432Z",
     "start_time": "2020-06-24T13:25:39.780068Z"
    }
   },
   "outputs": [
    {
     "data": {
      "text/html": [
       "<div>\n",
       "<style scoped>\n",
       "    .dataframe tbody tr th:only-of-type {\n",
       "        vertical-align: middle;\n",
       "    }\n",
       "\n",
       "    .dataframe tbody tr th {\n",
       "        vertical-align: top;\n",
       "    }\n",
       "\n",
       "    .dataframe thead th {\n",
       "        text-align: right;\n",
       "    }\n",
       "</style>\n",
       "<table border=\"1\" class=\"dataframe\">\n",
       "  <thead>\n",
       "    <tr style=\"text-align: right;\">\n",
       "      <th></th>\n",
       "      <th></th>\n",
       "      <th>Spoke per meeting (Out of 131)</th>\n",
       "    </tr>\n",
       "    <tr>\n",
       "      <th>Constituency</th>\n",
       "      <th>Party</th>\n",
       "      <th></th>\n",
       "    </tr>\n",
       "  </thead>\n",
       "  <tbody>\n",
       "    <tr>\n",
       "      <th>Punggol East SMC</th>\n",
       "      <th>People's Action Party</th>\n",
       "      <td>8.93</td>\n",
       "    </tr>\n",
       "    <tr>\n",
       "      <th>East Coast GRC</th>\n",
       "      <th>People's Action Party</th>\n",
       "      <td>6.51</td>\n",
       "    </tr>\n",
       "    <tr>\n",
       "      <th>Pasir Ris-Punggol GRC</th>\n",
       "      <th>People's Action Party</th>\n",
       "      <td>6.12</td>\n",
       "    </tr>\n",
       "    <tr>\n",
       "      <th>Jalan Besar GRC</th>\n",
       "      <th>People's Action Party</th>\n",
       "      <td>4.60</td>\n",
       "    </tr>\n",
       "    <tr>\n",
       "      <th>West Coast GRC</th>\n",
       "      <th>People's Action Party</th>\n",
       "      <td>4.50</td>\n",
       "    </tr>\n",
       "  </tbody>\n",
       "</table>\n",
       "</div>"
      ],
      "text/plain": [
       "                                             Spoke per meeting (Out of 131)\n",
       "Constituency          Party                                                \n",
       "Punggol East SMC      People's Action Party                            8.93\n",
       "East Coast GRC        People's Action Party                            6.51\n",
       "Pasir Ris-Punggol GRC People's Action Party                            6.12\n",
       "Jalan Besar GRC       People's Action Party                            4.60\n",
       "West Coast GRC        People's Action Party                            4.50"
      ]
     },
     "execution_count": 49,
     "metadata": {},
     "output_type": "execute_result"
    }
   ],
   "source": [
    "(attendance_speaking.groupby(['Constituency','Party'])[['Spoke per meeting (Out of 131)']].mean())\\\n",
    "                    .sort_values('Spoke per meeting (Out of 131)',ascending=False).round(2).head()"
   ]
  },
  {
   "cell_type": "markdown",
   "metadata": {
    "ExecuteTime": {
     "end_time": "2020-06-24T09:56:13.990839Z",
     "start_time": "2020-06-24T09:56:13.987071Z"
    }
   },
   "source": [
    "Constituency that spoke the least during sittings"
   ]
  },
  {
   "cell_type": "code",
   "execution_count": 50,
   "metadata": {
    "ExecuteTime": {
     "end_time": "2020-06-24T13:25:40.205586Z",
     "start_time": "2020-06-24T13:25:40.194128Z"
    }
   },
   "outputs": [
    {
     "data": {
      "text/html": [
       "<div>\n",
       "<style scoped>\n",
       "    .dataframe tbody tr th:only-of-type {\n",
       "        vertical-align: middle;\n",
       "    }\n",
       "\n",
       "    .dataframe tbody tr th {\n",
       "        vertical-align: top;\n",
       "    }\n",
       "\n",
       "    .dataframe thead th {\n",
       "        text-align: right;\n",
       "    }\n",
       "</style>\n",
       "<table border=\"1\" class=\"dataframe\">\n",
       "  <thead>\n",
       "    <tr style=\"text-align: right;\">\n",
       "      <th></th>\n",
       "      <th></th>\n",
       "      <th>Spoke per meeting (Out of 131)</th>\n",
       "    </tr>\n",
       "    <tr>\n",
       "      <th>Constituency</th>\n",
       "      <th>Party</th>\n",
       "      <th></th>\n",
       "    </tr>\n",
       "  </thead>\n",
       "  <tbody>\n",
       "    <tr>\n",
       "      <th>Jurong GRC</th>\n",
       "      <th>People's Action Party</th>\n",
       "      <td>1.95</td>\n",
       "    </tr>\n",
       "    <tr>\n",
       "      <th>Mountbatten SMC</th>\n",
       "      <th>People's Action Party</th>\n",
       "      <td>1.93</td>\n",
       "    </tr>\n",
       "    <tr>\n",
       "      <th>Nee Soon GRC</th>\n",
       "      <th>People's Action Party</th>\n",
       "      <td>1.75</td>\n",
       "    </tr>\n",
       "    <tr>\n",
       "      <th>Bukit Batok SMC</th>\n",
       "      <th>People's Action Party</th>\n",
       "      <td>1.54</td>\n",
       "    </tr>\n",
       "    <tr>\n",
       "      <th>Non-Constituency MPs</th>\n",
       "      <th>Workers' Party</th>\n",
       "      <td>1.41</td>\n",
       "    </tr>\n",
       "  </tbody>\n",
       "</table>\n",
       "</div>"
      ],
      "text/plain": [
       "                                            Spoke per meeting (Out of 131)\n",
       "Constituency         Party                                                \n",
       "Jurong GRC           People's Action Party                            1.95\n",
       "Mountbatten SMC      People's Action Party                            1.93\n",
       "Nee Soon GRC         People's Action Party                            1.75\n",
       "Bukit Batok SMC      People's Action Party                            1.54\n",
       "Non-Constituency MPs Workers' Party                                   1.41"
      ]
     },
     "execution_count": 50,
     "metadata": {},
     "output_type": "execute_result"
    }
   ],
   "source": [
    "(attendance_speaking.groupby(['Constituency','Party'])[['Spoke per meeting (Out of 131)']].mean())\\\n",
    "                    .sort_values('Spoke per meeting (Out of 131)',ascending=False).round(2).tail()"
   ]
  },
  {
   "cell_type": "markdown",
   "metadata": {},
   "source": [
    "### Spoke while attending sittings by individual"
   ]
  },
  {
   "cell_type": "code",
   "execution_count": 51,
   "metadata": {
    "ExecuteTime": {
     "end_time": "2020-06-24T13:25:40.781577Z",
     "start_time": "2020-06-24T13:25:40.603252Z"
    }
   },
   "outputs": [
    {
     "data": {
      "text/html": [
       "<div>\n",
       "<style scoped>\n",
       "    .dataframe tbody tr th:only-of-type {\n",
       "        vertical-align: middle;\n",
       "    }\n",
       "\n",
       "    .dataframe tbody tr th {\n",
       "        vertical-align: top;\n",
       "    }\n",
       "\n",
       "    .dataframe thead th {\n",
       "        text-align: right;\n",
       "    }\n",
       "</style>\n",
       "<table border=\"1\" class=\"dataframe\">\n",
       "  <thead>\n",
       "    <tr style=\"text-align: right;\">\n",
       "      <th></th>\n",
       "      <th>count</th>\n",
       "      <th>mean</th>\n",
       "      <th>std</th>\n",
       "      <th>min</th>\n",
       "      <th>25%</th>\n",
       "      <th>50%</th>\n",
       "      <th>75%</th>\n",
       "      <th>max</th>\n",
       "    </tr>\n",
       "  </thead>\n",
       "  <tbody>\n",
       "    <tr>\n",
       "      <th>Spoke per meeting (Out of 131)</th>\n",
       "      <td>80.0</td>\n",
       "      <td>3.0785</td>\n",
       "      <td>2.670466</td>\n",
       "      <td>1.15</td>\n",
       "      <td>1.9025</td>\n",
       "      <td>2.215</td>\n",
       "      <td>3.2575</td>\n",
       "      <td>18.67</td>\n",
       "    </tr>\n",
       "  </tbody>\n",
       "</table>\n",
       "</div>"
      ],
      "text/plain": [
       "                                count    mean       std   min     25%    50%  \\\n",
       "Spoke per meeting (Out of 131)   80.0  3.0785  2.670466  1.15  1.9025  2.215   \n",
       "\n",
       "                                   75%    max  \n",
       "Spoke per meeting (Out of 131)  3.2575  18.67  "
      ]
     },
     "execution_count": 51,
     "metadata": {},
     "output_type": "execute_result"
    },
    {
     "data": {
      "image/png": "[encoded data removed]",
      "text/plain": [
       "<Figure size 432x288 with 1 Axes>"
      ]
     },
     "metadata": {},
     "output_type": "display_data"
    }
   ],
   "source": [
    "(attendance_speaking[['Party', 'Constituency','Name','Spoke per meeting (Out of 131)']].\\\n",
    "    sort_values('Spoke per meeting (Out of 131)',ascending=False).\\\n",
    "         set_index(['Party', 'Constituency','Name'])).round(2).\\\n",
    "                    plot.hist(bins=10)\n",
    "plt.xlabel('spoke per meeting'), plt.title('Individual spoke per meeting')\n",
    "plt.legend(fontsize='small')\n",
    "\n",
    "(attendance_speaking[['Party', 'Constituency','Name','Spoke per meeting (Out of 131)']].\\\n",
    "    sort_values('Spoke per meeting (Out of 131)',ascending=False).\\\n",
    "         set_index(['Party', 'Constituency','Name'])).round(2).describe().T"
   ]
  },
  {
   "cell_type": "markdown",
   "metadata": {
    "ExecuteTime": {
     "end_time": "2020-06-24T09:55:51.195947Z",
     "start_time": "2020-06-24T09:55:51.192036Z"
    }
   },
   "source": [
    "Individual who spoke the most during their time in parliament sittings"
   ]
  },
  {
   "cell_type": "code",
   "execution_count": 52,
   "metadata": {
    "ExecuteTime": {
     "end_time": "2020-06-24T13:25:41.043020Z",
     "start_time": "2020-06-24T13:25:41.029434Z"
    }
   },
   "outputs": [
    {
     "data": {
      "text/html": [
       "<div>\n",
       "<style scoped>\n",
       "    .dataframe tbody tr th:only-of-type {\n",
       "        vertical-align: middle;\n",
       "    }\n",
       "\n",
       "    .dataframe tbody tr th {\n",
       "        vertical-align: top;\n",
       "    }\n",
       "\n",
       "    .dataframe thead th {\n",
       "        text-align: right;\n",
       "    }\n",
       "</style>\n",
       "<table border=\"1\" class=\"dataframe\">\n",
       "  <thead>\n",
       "    <tr style=\"text-align: right;\">\n",
       "      <th></th>\n",
       "      <th></th>\n",
       "      <th></th>\n",
       "      <th>Spoke per meeting (Out of 131)</th>\n",
       "    </tr>\n",
       "    <tr>\n",
       "      <th>Party</th>\n",
       "      <th>Constituency</th>\n",
       "      <th>Name</th>\n",
       "      <th></th>\n",
       "    </tr>\n",
       "  </thead>\n",
       "  <tbody>\n",
       "    <tr>\n",
       "      <th rowspan=\"9\" valign=\"top\">People's Action Party</th>\n",
       "      <th>Pasir Ris-Punggol GRC</th>\n",
       "      <th>Teo Ser Luck</th>\n",
       "      <td>18.67</td>\n",
       "    </tr>\n",
       "    <tr>\n",
       "      <th>East Coast GRC</th>\n",
       "      <th>Lee Yi Shyan</th>\n",
       "      <td>14.12</td>\n",
       "    </tr>\n",
       "    <tr>\n",
       "      <th>Jalan Besar GRC</th>\n",
       "      <th>Heng Chee How</th>\n",
       "      <td>8.93</td>\n",
       "    </tr>\n",
       "    <tr>\n",
       "      <th>Punggol East SMC</th>\n",
       "      <th>Charles Chong</th>\n",
       "      <td>8.93</td>\n",
       "    </tr>\n",
       "    <tr>\n",
       "      <th>West Coast GRC</th>\n",
       "      <th>Lim Hng Kiang</th>\n",
       "      <td>8.86</td>\n",
       "    </tr>\n",
       "    <tr>\n",
       "      <th>Marine Parade GRC</th>\n",
       "      <th>Tan Chuan-Jin</th>\n",
       "      <td>5.81</td>\n",
       "    </tr>\n",
       "    <tr>\n",
       "      <th rowspan=\"2\" valign=\"top\">East Coast GRC</th>\n",
       "      <th>Mohamad Maliki Bin Osman</th>\n",
       "      <td>5.00</td>\n",
       "    </tr>\n",
       "    <tr>\n",
       "      <th>Lim Swee Say</th>\n",
       "      <td>4.32</td>\n",
       "    </tr>\n",
       "    <tr>\n",
       "      <th>Holland-Bukit Timah GRC</th>\n",
       "      <th>Sim Ann</th>\n",
       "      <td>4.17</td>\n",
       "    </tr>\n",
       "    <tr>\n",
       "      <th>Nominated MPs</th>\n",
       "      <th>Nominated MPs</th>\n",
       "      <th>Arasu Duraisamy</th>\n",
       "      <td>4.08</td>\n",
       "    </tr>\n",
       "  </tbody>\n",
       "</table>\n",
       "</div>"
      ],
      "text/plain": [
       "                                                                        Spoke per meeting (Out of 131)\n",
       "Party                 Constituency            Name                                                    \n",
       "People's Action Party Pasir Ris-Punggol GRC   Teo Ser Luck                                       18.67\n",
       "                      East Coast GRC          Lee Yi Shyan                                       14.12\n",
       "                      Jalan Besar GRC         Heng Chee How                                       8.93\n",
       "                      Punggol East SMC        Charles Chong                                       8.93\n",
       "                      West Coast GRC          Lim Hng Kiang                                       8.86\n",
       "                      Marine Parade GRC       Tan Chuan-Jin                                       5.81\n",
       "                      East Coast GRC          Mohamad Maliki Bin Osman                            5.00\n",
       "                                              Lim Swee Say                                        4.32\n",
       "                      Holland-Bukit Timah GRC Sim Ann                                             4.17\n",
       "Nominated MPs         Nominated MPs           Arasu Duraisamy                                     4.08"
      ]
     },
     "execution_count": 52,
     "metadata": {},
     "output_type": "execute_result"
    }
   ],
   "source": [
    "(attendance_speaking[['Party', 'Constituency','Name','Spoke per meeting (Out of 131)']].\\\n",
    "    sort_values('Spoke per meeting (Out of 131)',ascending=False).\\\n",
    "         set_index(['Party', 'Constituency','Name'])).round(2).head(10)"
   ]
  },
  {
   "cell_type": "markdown",
   "metadata": {},
   "source": [
    "Individual who spoke the least during their time in parliament sittings"
   ]
  },
  {
   "cell_type": "code",
   "execution_count": 53,
   "metadata": {
    "ExecuteTime": {
     "end_time": "2020-06-24T13:25:41.450219Z",
     "start_time": "2020-06-24T13:25:41.437293Z"
    }
   },
   "outputs": [
    {
     "data": {
      "text/html": [
       "<div>\n",
       "<style scoped>\n",
       "    .dataframe tbody tr th:only-of-type {\n",
       "        vertical-align: middle;\n",
       "    }\n",
       "\n",
       "    .dataframe tbody tr th {\n",
       "        vertical-align: top;\n",
       "    }\n",
       "\n",
       "    .dataframe thead th {\n",
       "        text-align: right;\n",
       "    }\n",
       "</style>\n",
       "<table border=\"1\" class=\"dataframe\">\n",
       "  <thead>\n",
       "    <tr style=\"text-align: right;\">\n",
       "      <th></th>\n",
       "      <th></th>\n",
       "      <th></th>\n",
       "      <th>Spoke per meeting (Out of 131)</th>\n",
       "    </tr>\n",
       "    <tr>\n",
       "      <th>Party</th>\n",
       "      <th>Constituency</th>\n",
       "      <th>Name</th>\n",
       "      <th></th>\n",
       "    </tr>\n",
       "  </thead>\n",
       "  <tbody>\n",
       "    <tr>\n",
       "      <th rowspan=\"4\" valign=\"top\">People's Action Party</th>\n",
       "      <th>Bukit Batok SMC</th>\n",
       "      <th>Murali Pillai</th>\n",
       "      <td>1.54</td>\n",
       "    </tr>\n",
       "    <tr>\n",
       "      <th>Tanjong Pagar GRC</th>\n",
       "      <th>Joan Pereira</th>\n",
       "      <td>1.49</td>\n",
       "    </tr>\n",
       "    <tr>\n",
       "      <th>Ang Mo Kio GRC</th>\n",
       "      <th>Gan Thiam Poh</th>\n",
       "      <td>1.47</td>\n",
       "    </tr>\n",
       "    <tr>\n",
       "      <th>Nee Soon GRC</th>\n",
       "      <th>Lee Bee Wah</th>\n",
       "      <td>1.38</td>\n",
       "    </tr>\n",
       "    <tr>\n",
       "      <th rowspan=\"3\" valign=\"top\">Workers' Party</th>\n",
       "      <th>Non-Constituency MPs</th>\n",
       "      <th>Dennis Tan Lip Fong</th>\n",
       "      <td>1.36</td>\n",
       "    </tr>\n",
       "    <tr>\n",
       "      <th>Aljunied GRC</th>\n",
       "      <th>Pritam Singh</th>\n",
       "      <td>1.36</td>\n",
       "    </tr>\n",
       "    <tr>\n",
       "      <th>Non-Constituency MPs</th>\n",
       "      <th>Leon Perera</th>\n",
       "      <td>1.29</td>\n",
       "    </tr>\n",
       "    <tr>\n",
       "      <th rowspan=\"2\" valign=\"top\">Nominated MPs</th>\n",
       "      <th rowspan=\"2\" valign=\"top\">Nominated MPs</th>\n",
       "      <th>Anthea Ong</th>\n",
       "      <td>1.17</td>\n",
       "    </tr>\n",
       "    <tr>\n",
       "      <th>Dr Walter Theseira</th>\n",
       "      <td>1.17</td>\n",
       "    </tr>\n",
       "    <tr>\n",
       "      <th>People's Action Party</th>\n",
       "      <th>Nee Soon GRC</th>\n",
       "      <th>Louis Ng Kok Kwang</th>\n",
       "      <td>1.15</td>\n",
       "    </tr>\n",
       "  </tbody>\n",
       "</table>\n",
       "</div>"
      ],
      "text/plain": [
       "                                                                Spoke per meeting (Out of 131)\n",
       "Party                 Constituency         Name                                               \n",
       "People's Action Party Bukit Batok SMC      Murali Pillai                                  1.54\n",
       "                      Tanjong Pagar GRC    Joan Pereira                                   1.49\n",
       "                      Ang Mo Kio GRC       Gan Thiam Poh                                  1.47\n",
       "                      Nee Soon GRC         Lee Bee Wah                                    1.38\n",
       "Workers' Party        Non-Constituency MPs Dennis Tan Lip Fong                            1.36\n",
       "                      Aljunied GRC         Pritam Singh                                   1.36\n",
       "                      Non-Constituency MPs Leon Perera                                    1.29\n",
       "Nominated MPs         Nominated MPs        Anthea Ong                                     1.17\n",
       "                                           Dr Walter Theseira                             1.17\n",
       "People's Action Party Nee Soon GRC         Louis Ng Kok Kwang                             1.15"
      ]
     },
     "execution_count": 53,
     "metadata": {},
     "output_type": "execute_result"
    }
   ],
   "source": [
    "(attendance_speaking[['Party', 'Constituency','Name','Spoke per meeting (Out of 131)']].\\\n",
    "    sort_values('Spoke per meeting (Out of 131)',ascending=False).\\\n",
    "         set_index(['Party', 'Constituency','Name'])).round(2).tail(10)"
   ]
  },
  {
   "cell_type": "markdown",
   "metadata": {},
   "source": [
    "# Overall"
   ]
  },
  {
   "cell_type": "markdown",
   "metadata": {},
   "source": [
    "We will display the full rows here"
   ]
  },
  {
   "cell_type": "code",
   "execution_count": 54,
   "metadata": {
    "ExecuteTime": {
     "end_time": "2020-06-24T13:25:42.187617Z",
     "start_time": "2020-06-24T13:25:42.185137Z"
    }
   },
   "outputs": [],
   "source": [
    "pd.set_option('display.max_rows', None)"
   ]
  },
  {
   "cell_type": "markdown",
   "metadata": {},
   "source": [
    "## Party performance"
   ]
  },
  {
   "cell_type": "code",
   "execution_count": 55,
   "metadata": {
    "ExecuteTime": {
     "end_time": "2020-06-24T13:25:42.542215Z",
     "start_time": "2020-06-24T13:25:42.522682Z"
    }
   },
   "outputs": [],
   "source": [
    "party_performance = pd.merge(\n",
    "    (attendance.groupby('Party')[['Percent of Sittings Attended (Out of 132)'\n",
    "                                  ]].mean()).round(2).reset_index(),\n",
    "    pd.merge(\n",
    "        (speaking.groupby('Party')[['Percent of Sittings Spoken (Out of 131)'\n",
    "                                    ]].mean()).round(2).reset_index(),\n",
    "        (attendance_speaking.groupby('Party')[[\n",
    "            'Spoke per meeting (Out of 131)'\n",
    "        ]].mean()).round(2).reset_index()))\n",
    "party_performance = party_performance.set_index('Party')"
   ]
  },
  {
   "cell_type": "code",
   "execution_count": 56,
   "metadata": {
    "ExecuteTime": {
     "end_time": "2020-06-24T13:25:42.550480Z",
     "start_time": "2020-06-24T13:25:42.543837Z"
    }
   },
   "outputs": [
    {
     "data": {
      "text/html": [
       "<div>\n",
       "<style scoped>\n",
       "    .dataframe tbody tr th:only-of-type {\n",
       "        vertical-align: middle;\n",
       "    }\n",
       "\n",
       "    .dataframe tbody tr th {\n",
       "        vertical-align: top;\n",
       "    }\n",
       "\n",
       "    .dataframe thead th {\n",
       "        text-align: right;\n",
       "    }\n",
       "</style>\n",
       "<table border=\"1\" class=\"dataframe\">\n",
       "  <thead>\n",
       "    <tr style=\"text-align: right;\">\n",
       "      <th></th>\n",
       "      <th>Percent of Sittings Attended (Out of 132)</th>\n",
       "      <th>Percent of Sittings Spoken (Out of 131)</th>\n",
       "      <th>Spoke per meeting (Out of 131)</th>\n",
       "    </tr>\n",
       "    <tr>\n",
       "      <th>Party</th>\n",
       "      <th></th>\n",
       "      <th></th>\n",
       "      <th></th>\n",
       "    </tr>\n",
       "  </thead>\n",
       "  <tbody>\n",
       "    <tr>\n",
       "      <th>Nominated MPs</th>\n",
       "      <td>34.43</td>\n",
       "      <td>16.62</td>\n",
       "      <td>2.57</td>\n",
       "    </tr>\n",
       "    <tr>\n",
       "      <th>People's Action Party</th>\n",
       "      <td>93.28</td>\n",
       "      <td>38.92</td>\n",
       "      <td>3.32</td>\n",
       "    </tr>\n",
       "    <tr>\n",
       "      <th>Workers' Party</th>\n",
       "      <td>96.13</td>\n",
       "      <td>55.39</td>\n",
       "      <td>1.93</td>\n",
       "    </tr>\n",
       "  </tbody>\n",
       "</table>\n",
       "</div>"
      ],
      "text/plain": [
       "                       Percent of Sittings Attended (Out of 132)  \\\n",
       "Party                                                              \n",
       "Nominated MPs                                              34.43   \n",
       "People's Action Party                                      93.28   \n",
       "Workers' Party                                             96.13   \n",
       "\n",
       "                       Percent of Sittings Spoken (Out of 131)  \\\n",
       "Party                                                            \n",
       "Nominated MPs                                            16.62   \n",
       "People's Action Party                                    38.92   \n",
       "Workers' Party                                           55.39   \n",
       "\n",
       "                       Spoke per meeting (Out of 131)  \n",
       "Party                                                  \n",
       "Nominated MPs                                    2.57  \n",
       "People's Action Party                            3.32  \n",
       "Workers' Party                                   1.93  "
      ]
     },
     "execution_count": 56,
     "metadata": {},
     "output_type": "execute_result"
    }
   ],
   "source": [
    "party_performance"
   ]
  },
  {
   "cell_type": "markdown",
   "metadata": {},
   "source": [
    "## Constituency performance"
   ]
  },
  {
   "cell_type": "code",
   "execution_count": 57,
   "metadata": {
    "ExecuteTime": {
     "end_time": "2020-06-24T13:25:42.971168Z",
     "start_time": "2020-06-24T13:25:42.940187Z"
    }
   },
   "outputs": [],
   "source": [
    "constituency_performance = pd.merge((attendance.groupby(['Constituency','Party'])[['Percent of Sittings Attended (Out of 132)']].mean())\\\n",
    "                    .sort_values('Percent of Sittings Attended (Out of 132)',ascending=False).round(2).reset_index(),\n",
    "                    pd.merge((speaking.groupby(['Constituency','Party'])[['Percent of Sittings Spoken (Out of 131)']].mean())\\\n",
    "                    .sort_values('Percent of Sittings Spoken (Out of 131)',ascending=False).round(2).reset_index(),\n",
    "                            (attendance_speaking.groupby(['Constituency','Party'])[['Spoke per meeting (Out of 131)']].mean())\\\n",
    "                    .sort_values('Spoke per meeting (Out of 131)',ascending=False).round(2).reset_index(),\n",
    "                            on=['Constituency','Party'], how='outer'),on=['Constituency','Party'], how='outer')\n",
    "constituency_performance = constituency_performance.fillna(0, axis=1).set_index(['Party','Constituency'])"
   ]
  },
  {
   "cell_type": "code",
   "execution_count": 58,
   "metadata": {
    "ExecuteTime": {
     "end_time": "2020-06-24T13:25:42.983851Z",
     "start_time": "2020-06-24T13:25:42.972739Z"
    }
   },
   "outputs": [
    {
     "data": {
      "text/html": [
       "<div>\n",
       "<style scoped>\n",
       "    .dataframe tbody tr th:only-of-type {\n",
       "        vertical-align: middle;\n",
       "    }\n",
       "\n",
       "    .dataframe tbody tr th {\n",
       "        vertical-align: top;\n",
       "    }\n",
       "\n",
       "    .dataframe thead th {\n",
       "        text-align: right;\n",
       "    }\n",
       "</style>\n",
       "<table border=\"1\" class=\"dataframe\">\n",
       "  <thead>\n",
       "    <tr style=\"text-align: right;\">\n",
       "      <th></th>\n",
       "      <th></th>\n",
       "      <th>Percent of Sittings Attended (Out of 132)</th>\n",
       "      <th>Percent of Sittings Spoken (Out of 131)</th>\n",
       "      <th>Spoke per meeting (Out of 131)</th>\n",
       "    </tr>\n",
       "    <tr>\n",
       "      <th>Party</th>\n",
       "      <th>Constituency</th>\n",
       "      <th></th>\n",
       "      <th></th>\n",
       "      <th></th>\n",
       "    </tr>\n",
       "  </thead>\n",
       "  <tbody>\n",
       "    <tr>\n",
       "      <th>Workers' Party</th>\n",
       "      <th>Hougang SMC</th>\n",
       "      <td>98.48</td>\n",
       "      <td>45.80</td>\n",
       "      <td>2.15</td>\n",
       "    </tr>\n",
       "    <tr>\n",
       "      <th rowspan=\"6\" valign=\"top\">People's Action Party</th>\n",
       "      <th>Mountbatten SMC</th>\n",
       "      <td>98.48</td>\n",
       "      <td>51.15</td>\n",
       "      <td>1.93</td>\n",
       "    </tr>\n",
       "    <tr>\n",
       "      <th>Marsiling-Yew Tee GRC</th>\n",
       "      <td>97.98</td>\n",
       "      <td>38.54</td>\n",
       "      <td>2.60</td>\n",
       "    </tr>\n",
       "    <tr>\n",
       "      <th>Tanjong Pagar GRC</th>\n",
       "      <td>97.27</td>\n",
       "      <td>50.38</td>\n",
       "      <td>2.04</td>\n",
       "    </tr>\n",
       "    <tr>\n",
       "      <th>Potong Pasir SMC</th>\n",
       "      <td>96.97</td>\n",
       "      <td>25.95</td>\n",
       "      <td>3.74</td>\n",
       "    </tr>\n",
       "    <tr>\n",
       "      <th>Chua Chu Kang GRC</th>\n",
       "      <td>96.97</td>\n",
       "      <td>42.49</td>\n",
       "      <td>2.36</td>\n",
       "    </tr>\n",
       "    <tr>\n",
       "      <th>Jalan Besar GRC</th>\n",
       "      <td>96.78</td>\n",
       "      <td>26.91</td>\n",
       "      <td>4.60</td>\n",
       "    </tr>\n",
       "    <tr>\n",
       "      <th>Workers' Party</th>\n",
       "      <th>Non-Constituency MPs</th>\n",
       "      <td>96.47</td>\n",
       "      <td>68.96</td>\n",
       "      <td>1.41</td>\n",
       "    </tr>\n",
       "    <tr>\n",
       "      <th rowspan=\"2\" valign=\"top\">People's Action Party</th>\n",
       "      <th>Ang Mo Kio GRC</th>\n",
       "      <td>96.08</td>\n",
       "      <td>44.58</td>\n",
       "      <td>2.33</td>\n",
       "    </tr>\n",
       "    <tr>\n",
       "      <th>Jurong GRC</th>\n",
       "      <td>95.76</td>\n",
       "      <td>50.13</td>\n",
       "      <td>1.95</td>\n",
       "    </tr>\n",
       "    <tr>\n",
       "      <th>Workers' Party</th>\n",
       "      <th>Aljunied GRC</th>\n",
       "      <td>95.45</td>\n",
       "      <td>49.16</td>\n",
       "      <td>2.21</td>\n",
       "    </tr>\n",
       "    <tr>\n",
       "      <th rowspan=\"19\" valign=\"top\">People's Action Party</th>\n",
       "      <th>Punggol East SMC</th>\n",
       "      <td>95.45</td>\n",
       "      <td>10.69</td>\n",
       "      <td>8.93</td>\n",
       "    </tr>\n",
       "    <tr>\n",
       "      <th>MacPherson SMC</th>\n",
       "      <td>94.70</td>\n",
       "      <td>40.46</td>\n",
       "      <td>2.34</td>\n",
       "    </tr>\n",
       "    <tr>\n",
       "      <th>Holland-Bukit Timah GRC</th>\n",
       "      <td>94.51</td>\n",
       "      <td>43.26</td>\n",
       "      <td>2.61</td>\n",
       "    </tr>\n",
       "    <tr>\n",
       "      <th>Sembawang GRC</th>\n",
       "      <td>94.09</td>\n",
       "      <td>40.46</td>\n",
       "      <td>2.37</td>\n",
       "    </tr>\n",
       "    <tr>\n",
       "      <th>Nee Soon GRC</th>\n",
       "      <td>93.94</td>\n",
       "      <td>60.50</td>\n",
       "      <td>1.75</td>\n",
       "    </tr>\n",
       "    <tr>\n",
       "      <th>Bukit Panjang SMC</th>\n",
       "      <td>93.18</td>\n",
       "      <td>23.66</td>\n",
       "      <td>3.94</td>\n",
       "    </tr>\n",
       "    <tr>\n",
       "      <th>West Coast GRC</th>\n",
       "      <td>92.61</td>\n",
       "      <td>33.84</td>\n",
       "      <td>4.50</td>\n",
       "    </tr>\n",
       "    <tr>\n",
       "      <th>Sengkang West SMC</th>\n",
       "      <td>92.42</td>\n",
       "      <td>41.98</td>\n",
       "      <td>2.20</td>\n",
       "    </tr>\n",
       "    <tr>\n",
       "      <th>Pioneer SMC</th>\n",
       "      <td>91.67</td>\n",
       "      <td>22.90</td>\n",
       "      <td>4.00</td>\n",
       "    </tr>\n",
       "    <tr>\n",
       "      <th>Yuhua SMC</th>\n",
       "      <td>91.67</td>\n",
       "      <td>0.00</td>\n",
       "      <td>0.00</td>\n",
       "    </tr>\n",
       "    <tr>\n",
       "      <th>Fengshan SMC</th>\n",
       "      <td>91.67</td>\n",
       "      <td>42.75</td>\n",
       "      <td>2.14</td>\n",
       "    </tr>\n",
       "    <tr>\n",
       "      <th>Bishan-Toa Payoh GRC</th>\n",
       "      <td>91.51</td>\n",
       "      <td>40.20</td>\n",
       "      <td>2.63</td>\n",
       "    </tr>\n",
       "    <tr>\n",
       "      <th>Tampines GRC</th>\n",
       "      <td>91.51</td>\n",
       "      <td>44.28</td>\n",
       "      <td>2.53</td>\n",
       "    </tr>\n",
       "    <tr>\n",
       "      <th>Marine Parade GRC</th>\n",
       "      <td>91.06</td>\n",
       "      <td>31.49</td>\n",
       "      <td>3.29</td>\n",
       "    </tr>\n",
       "    <tr>\n",
       "      <th>Hong Kah North SMC</th>\n",
       "      <td>90.91</td>\n",
       "      <td>43.51</td>\n",
       "      <td>2.09</td>\n",
       "    </tr>\n",
       "    <tr>\n",
       "      <th>Pasir Ris-Punggol GRC</th>\n",
       "      <td>90.15</td>\n",
       "      <td>37.41</td>\n",
       "      <td>6.12</td>\n",
       "    </tr>\n",
       "    <tr>\n",
       "      <th>Radin Mas SMC</th>\n",
       "      <td>87.12</td>\n",
       "      <td>22.14</td>\n",
       "      <td>3.93</td>\n",
       "    </tr>\n",
       "    <tr>\n",
       "      <th>Bukit Batok SMC</th>\n",
       "      <td>83.33</td>\n",
       "      <td>54.20</td>\n",
       "      <td>1.54</td>\n",
       "    </tr>\n",
       "    <tr>\n",
       "      <th>East Coast GRC</th>\n",
       "      <td>82.77</td>\n",
       "      <td>18.32</td>\n",
       "      <td>6.51</td>\n",
       "    </tr>\n",
       "    <tr>\n",
       "      <th>Nominated MPs</th>\n",
       "      <th>Nominated MPs</th>\n",
       "      <td>34.43</td>\n",
       "      <td>16.62</td>\n",
       "      <td>2.57</td>\n",
       "    </tr>\n",
       "  </tbody>\n",
       "</table>\n",
       "</div>"
      ],
      "text/plain": [
       "                                               Percent of Sittings Attended (Out of 132)  \\\n",
       "Party                 Constituency                                                         \n",
       "Workers' Party        Hougang SMC                                                  98.48   \n",
       "People's Action Party Mountbatten SMC                                              98.48   \n",
       "                      Marsiling-Yew Tee GRC                                        97.98   \n",
       "                      Tanjong Pagar GRC                                            97.27   \n",
       "                      Potong Pasir SMC                                             96.97   \n",
       "                      Chua Chu Kang GRC                                            96.97   \n",
       "                      Jalan Besar GRC                                              96.78   \n",
       "Workers' Party        Non-Constituency MPs                                         96.47   \n",
       "People's Action Party Ang Mo Kio GRC                                               96.08   \n",
       "                      Jurong GRC                                                   95.76   \n",
       "Workers' Party        Aljunied GRC                                                 95.45   \n",
       "People's Action Party Punggol East SMC                                             95.45   \n",
       "                      MacPherson SMC                                               94.70   \n",
       "                      Holland-Bukit Timah GRC                                      94.51   \n",
       "                      Sembawang GRC                                                94.09   \n",
       "                      Nee Soon GRC                                                 93.94   \n",
       "                      Bukit Panjang SMC                                            93.18   \n",
       "                      West Coast GRC                                               92.61   \n",
       "                      Sengkang West SMC                                            92.42   \n",
       "                      Pioneer SMC                                                  91.67   \n",
       "                      Yuhua SMC                                                    91.67   \n",
       "                      Fengshan SMC                                                 91.67   \n",
       "                      Bishan-Toa Payoh GRC                                         91.51   \n",
       "                      Tampines GRC                                                 91.51   \n",
       "                      Marine Parade GRC                                            91.06   \n",
       "                      Hong Kah North SMC                                           90.91   \n",
       "                      Pasir Ris-Punggol GRC                                        90.15   \n",
       "                      Radin Mas SMC                                                87.12   \n",
       "                      Bukit Batok SMC                                              83.33   \n",
       "                      East Coast GRC                                               82.77   \n",
       "Nominated MPs         Nominated MPs                                                34.43   \n",
       "\n",
       "                                               Percent of Sittings Spoken (Out of 131)  \\\n",
       "Party                 Constituency                                                       \n",
       "Workers' Party        Hougang SMC                                                45.80   \n",
       "People's Action Party Mountbatten SMC                                            51.15   \n",
       "                      Marsiling-Yew Tee GRC                                      38.54   \n",
       "                      Tanjong Pagar GRC                                          50.38   \n",
       "                      Potong Pasir SMC                                           25.95   \n",
       "                      Chua Chu Kang GRC                                          42.49   \n",
       "                      Jalan Besar GRC                                            26.91   \n",
       "Workers' Party        Non-Constituency MPs                                       68.96   \n",
       "People's Action Party Ang Mo Kio GRC                                             44.58   \n",
       "                      Jurong GRC                                                 50.13   \n",
       "Workers' Party        Aljunied GRC                                               49.16   \n",
       "People's Action Party Punggol East SMC                                           10.69   \n",
       "                      MacPherson SMC                                             40.46   \n",
       "                      Holland-Bukit Timah GRC                                    43.26   \n",
       "                      Sembawang GRC                                              40.46   \n",
       "                      Nee Soon GRC                                               60.50   \n",
       "                      Bukit Panjang SMC                                          23.66   \n",
       "                      West Coast GRC                                             33.84   \n",
       "                      Sengkang West SMC                                          41.98   \n",
       "                      Pioneer SMC                                                22.90   \n",
       "                      Yuhua SMC                                                   0.00   \n",
       "                      Fengshan SMC                                               42.75   \n",
       "                      Bishan-Toa Payoh GRC                                       40.20   \n",
       "                      Tampines GRC                                               44.28   \n",
       "                      Marine Parade GRC                                          31.49   \n",
       "                      Hong Kah North SMC                                         43.51   \n",
       "                      Pasir Ris-Punggol GRC                                      37.41   \n",
       "                      Radin Mas SMC                                              22.14   \n",
       "                      Bukit Batok SMC                                            54.20   \n",
       "                      East Coast GRC                                             18.32   \n",
       "Nominated MPs         Nominated MPs                                              16.62   \n",
       "\n",
       "                                               Spoke per meeting (Out of 131)  \n",
       "Party                 Constituency                                             \n",
       "Workers' Party        Hougang SMC                                        2.15  \n",
       "People's Action Party Mountbatten SMC                                    1.93  \n",
       "                      Marsiling-Yew Tee GRC                              2.60  \n",
       "                      Tanjong Pagar GRC                                  2.04  \n",
       "                      Potong Pasir SMC                                   3.74  \n",
       "                      Chua Chu Kang GRC                                  2.36  \n",
       "                      Jalan Besar GRC                                    4.60  \n",
       "Workers' Party        Non-Constituency MPs                               1.41  \n",
       "People's Action Party Ang Mo Kio GRC                                     2.33  \n",
       "                      Jurong GRC                                         1.95  \n",
       "Workers' Party        Aljunied GRC                                       2.21  \n",
       "People's Action Party Punggol East SMC                                   8.93  \n",
       "                      MacPherson SMC                                     2.34  \n",
       "                      Holland-Bukit Timah GRC                            2.61  \n",
       "                      Sembawang GRC                                      2.37  \n",
       "                      Nee Soon GRC                                       1.75  \n",
       "                      Bukit Panjang SMC                                  3.94  \n",
       "                      West Coast GRC                                     4.50  \n",
       "                      Sengkang West SMC                                  2.20  \n",
       "                      Pioneer SMC                                        4.00  \n",
       "                      Yuhua SMC                                          0.00  \n",
       "                      Fengshan SMC                                       2.14  \n",
       "                      Bishan-Toa Payoh GRC                               2.63  \n",
       "                      Tampines GRC                                       2.53  \n",
       "                      Marine Parade GRC                                  3.29  \n",
       "                      Hong Kah North SMC                                 2.09  \n",
       "                      Pasir Ris-Punggol GRC                              6.12  \n",
       "                      Radin Mas SMC                                      3.93  \n",
       "                      Bukit Batok SMC                                    1.54  \n",
       "                      East Coast GRC                                     6.51  \n",
       "Nominated MPs         Nominated MPs                                      2.57  "
      ]
     },
     "execution_count": 58,
     "metadata": {},
     "output_type": "execute_result"
    }
   ],
   "source": [
    "constituency_performance"
   ]
  },
  {
   "cell_type": "markdown",
   "metadata": {},
   "source": [
    "## Individual performance"
   ]
  },
  {
   "cell_type": "code",
   "execution_count": 59,
   "metadata": {
    "ExecuteTime": {
     "end_time": "2020-06-24T13:25:43.393335Z",
     "start_time": "2020-06-24T13:25:43.363707Z"
    }
   },
   "outputs": [],
   "source": [
    "individual_performance = pd.merge((attendance.drop('Number of Sittings Attended (Out of 132)', axis=1).\\\n",
    "    sort_values('Percent of Sittings Attended (Out of 132)',ascending=False).\\\n",
    "         set_index(['Party', 'Constituency','Name'])).round(2),\n",
    "        pd.merge(speaking.drop('Number of Sittings Spoken (Out of 131)',axis=1).\\\n",
    "    sort_values('Percent of Sittings Spoken (Out of 131)',ascending=False).\\\n",
    "         set_index(['Party', 'Constituency','Name']),\n",
    "                (attendance_speaking[['Party', 'Constituency','Name','Spoke per meeting (Out of 131)']].\\\n",
    "    sort_values('Spoke per meeting (Out of 131)',ascending=False).\\\n",
    "         set_index(['Party', 'Constituency','Name'])).round(2),\n",
    "                on=['Party','Constituency','Name'], how='outer'), on=['Party','Constituency','Name'], how='outer')\n",
    "individual_performance = individual_performance.fillna(0, axis=1)"
   ]
  },
  {
   "cell_type": "code",
   "execution_count": 60,
   "metadata": {
    "ExecuteTime": {
     "end_time": "2020-06-24T13:25:43.421006Z",
     "start_time": "2020-06-24T13:25:43.395399Z"
    }
   },
   "outputs": [
    {
     "data": {
      "text/html": [
       "<div>\n",
       "<style scoped>\n",
       "    .dataframe tbody tr th:only-of-type {\n",
       "        vertical-align: middle;\n",
       "    }\n",
       "\n",
       "    .dataframe tbody tr th {\n",
       "        vertical-align: top;\n",
       "    }\n",
       "\n",
       "    .dataframe thead th {\n",
       "        text-align: right;\n",
       "    }\n",
       "</style>\n",
       "<table border=\"1\" class=\"dataframe\">\n",
       "  <thead>\n",
       "    <tr style=\"text-align: right;\">\n",
       "      <th></th>\n",
       "      <th></th>\n",
       "      <th></th>\n",
       "      <th>Percent of Sittings Attended (Out of 132)</th>\n",
       "      <th>Percent of Sittings Spoken (Out of 131)</th>\n",
       "      <th>Spoke per meeting (Out of 131)</th>\n",
       "    </tr>\n",
       "    <tr>\n",
       "      <th>Party</th>\n",
       "      <th>Constituency</th>\n",
       "      <th>Name</th>\n",
       "      <th></th>\n",
       "      <th></th>\n",
       "      <th></th>\n",
       "    </tr>\n",
       "  </thead>\n",
       "  <tbody>\n",
       "    <tr>\n",
       "      <th rowspan=\"6\" valign=\"top\">People's Action Party</th>\n",
       "      <th>Holland-Bukit Timah GRC</th>\n",
       "      <th>Christopher De Souza</th>\n",
       "      <td>100.00</td>\n",
       "      <td>58.02</td>\n",
       "      <td>1.72</td>\n",
       "    </tr>\n",
       "    <tr>\n",
       "      <th>Jalan Besar GRC</th>\n",
       "      <th>Denise Phua Lay Peng</th>\n",
       "      <td>100.00</td>\n",
       "      <td>41.22</td>\n",
       "      <td>2.43</td>\n",
       "    </tr>\n",
       "    <tr>\n",
       "      <th>Nee Soon GRC</th>\n",
       "      <th>Louis Ng Kok Kwang</th>\n",
       "      <td>100.00</td>\n",
       "      <td>87.02</td>\n",
       "      <td>1.15</td>\n",
       "    </tr>\n",
       "    <tr>\n",
       "      <th>Tampines GRC</th>\n",
       "      <th>Desmond Choo</th>\n",
       "      <td>100.00</td>\n",
       "      <td>60.31</td>\n",
       "      <td>1.66</td>\n",
       "    </tr>\n",
       "    <tr>\n",
       "      <th>Tanjong Pagar GRC</th>\n",
       "      <th>Melvin Yong Yik Chye</th>\n",
       "      <td>100.00</td>\n",
       "      <td>49.62</td>\n",
       "      <td>2.02</td>\n",
       "    </tr>\n",
       "    <tr>\n",
       "      <th>West Coast GRC</th>\n",
       "      <th>Patrick Tay Teck Guan</th>\n",
       "      <td>100.00</td>\n",
       "      <td>58.02</td>\n",
       "      <td>1.72</td>\n",
       "    </tr>\n",
       "    <tr>\n",
       "      <th>Workers' Party</th>\n",
       "      <th>Non-Constituency MPs</th>\n",
       "      <th>Dennis Tan Lip Fong</th>\n",
       "      <td>100.00</td>\n",
       "      <td>73.28</td>\n",
       "      <td>1.36</td>\n",
       "    </tr>\n",
       "    <tr>\n",
       "      <th rowspan=\"8\" valign=\"top\">People's Action Party</th>\n",
       "      <th>Chua Chu Kang GRC</th>\n",
       "      <th>Low Yen Ling</th>\n",
       "      <td>99.24</td>\n",
       "      <td>33.59</td>\n",
       "      <td>2.95</td>\n",
       "    </tr>\n",
       "    <tr>\n",
       "      <th>Ang Mo Kio GRC</th>\n",
       "      <th>Lee Hsien Loong</th>\n",
       "      <td>99.24</td>\n",
       "      <td>0.00</td>\n",
       "      <td>0.00</td>\n",
       "    </tr>\n",
       "    <tr>\n",
       "      <th>Chua Chu Kang GRC</th>\n",
       "      <th>Yee Chia Hsing</th>\n",
       "      <td>99.24</td>\n",
       "      <td>44.27</td>\n",
       "      <td>2.24</td>\n",
       "    </tr>\n",
       "    <tr>\n",
       "      <th>Tanjong Pagar GRC</th>\n",
       "      <th>Joan Pereira</th>\n",
       "      <td>99.24</td>\n",
       "      <td>66.41</td>\n",
       "      <td>1.49</td>\n",
       "    </tr>\n",
       "    <tr>\n",
       "      <th>Marine Parade GRC</th>\n",
       "      <th>Goh Chok Tong</th>\n",
       "      <td>98.48</td>\n",
       "      <td>0.00</td>\n",
       "      <td>0.00</td>\n",
       "    </tr>\n",
       "    <tr>\n",
       "      <th rowspan=\"2\" valign=\"top\">Marsiling-Yew Tee GRC</th>\n",
       "      <th>Lawrence Wong</th>\n",
       "      <td>98.48</td>\n",
       "      <td>0.00</td>\n",
       "      <td>0.00</td>\n",
       "    </tr>\n",
       "    <tr>\n",
       "      <th>Ong Teng Koon</th>\n",
       "      <td>98.48</td>\n",
       "      <td>32.82</td>\n",
       "      <td>3.00</td>\n",
       "    </tr>\n",
       "    <tr>\n",
       "      <th>Mountbatten SMC</th>\n",
       "      <th>Lim Biow Chuan</th>\n",
       "      <td>98.48</td>\n",
       "      <td>51.15</td>\n",
       "      <td>1.93</td>\n",
       "    </tr>\n",
       "    <tr>\n",
       "      <th>Workers' Party</th>\n",
       "      <th>Hougang SMC</th>\n",
       "      <th>Png Eng Huat</th>\n",
       "      <td>98.48</td>\n",
       "      <td>45.80</td>\n",
       "      <td>2.15</td>\n",
       "    </tr>\n",
       "    <tr>\n",
       "      <th rowspan=\"2\" valign=\"top\">People's Action Party</th>\n",
       "      <th>Ang Mo Kio GRC</th>\n",
       "      <th>Ang Hin Kee</th>\n",
       "      <td>98.48</td>\n",
       "      <td>37.40</td>\n",
       "      <td>2.63</td>\n",
       "    </tr>\n",
       "    <tr>\n",
       "      <th>Jurong GRC</th>\n",
       "      <th>Rahayu Mahzam</th>\n",
       "      <td>97.73</td>\n",
       "      <td>55.73</td>\n",
       "      <td>1.75</td>\n",
       "    </tr>\n",
       "    <tr>\n",
       "      <th>Workers' Party</th>\n",
       "      <th>Non-Constituency MPs</th>\n",
       "      <th>Leon Perera</th>\n",
       "      <td>97.73</td>\n",
       "      <td>75.57</td>\n",
       "      <td>1.29</td>\n",
       "    </tr>\n",
       "    <tr>\n",
       "      <th>People's Action Party</th>\n",
       "      <th>Tanjong Pagar GRC</th>\n",
       "      <th>Chan Chun Sing</th>\n",
       "      <td>97.73</td>\n",
       "      <td>0.00</td>\n",
       "      <td>0.00</td>\n",
       "    </tr>\n",
       "    <tr>\n",
       "      <th>Workers' Party</th>\n",
       "      <th>Aljunied GRC</th>\n",
       "      <th>Pritam Singh</th>\n",
       "      <td>97.73</td>\n",
       "      <td>71.76</td>\n",
       "      <td>1.36</td>\n",
       "    </tr>\n",
       "    <tr>\n",
       "      <th rowspan=\"2\" valign=\"top\">People's Action Party</th>\n",
       "      <th>Bishan-Toa Payoh GRC</th>\n",
       "      <th>Chong Kee Hiong</th>\n",
       "      <td>97.73</td>\n",
       "      <td>30.53</td>\n",
       "      <td>3.20</td>\n",
       "    </tr>\n",
       "    <tr>\n",
       "      <th>Tanjong Pagar GRC</th>\n",
       "      <th>Indranee Rajah</th>\n",
       "      <td>97.73</td>\n",
       "      <td>0.00</td>\n",
       "      <td>0.00</td>\n",
       "    </tr>\n",
       "    <tr>\n",
       "      <th>Workers' Party</th>\n",
       "      <th>Aljunied GRC</th>\n",
       "      <th>Sylvia Lim</th>\n",
       "      <td>96.97</td>\n",
       "      <td>62.60</td>\n",
       "      <td>1.55</td>\n",
       "    </tr>\n",
       "    <tr>\n",
       "      <th rowspan=\"13\" valign=\"top\">People's Action Party</th>\n",
       "      <th>Holland-Bukit Timah GRC</th>\n",
       "      <th>Liang Eng Hwa</th>\n",
       "      <td>96.97</td>\n",
       "      <td>49.62</td>\n",
       "      <td>1.95</td>\n",
       "    </tr>\n",
       "    <tr>\n",
       "      <th rowspan=\"3\" valign=\"top\">Jurong GRC</th>\n",
       "      <th>Ang Wei Neng</th>\n",
       "      <td>96.97</td>\n",
       "      <td>50.38</td>\n",
       "      <td>1.92</td>\n",
       "    </tr>\n",
       "    <tr>\n",
       "      <th>Desmond Lee</th>\n",
       "      <td>96.97</td>\n",
       "      <td>0.00</td>\n",
       "      <td>0.00</td>\n",
       "    </tr>\n",
       "    <tr>\n",
       "      <th>Tan Wu Meng</th>\n",
       "      <td>96.97</td>\n",
       "      <td>44.27</td>\n",
       "      <td>2.19</td>\n",
       "    </tr>\n",
       "    <tr>\n",
       "      <th>Marsiling-Yew Tee GRC</th>\n",
       "      <th>Alex Yam Ziming</th>\n",
       "      <td>96.97</td>\n",
       "      <td>44.27</td>\n",
       "      <td>2.19</td>\n",
       "    </tr>\n",
       "    <tr>\n",
       "      <th rowspan=\"2\" valign=\"top\">Nee Soon GRC</th>\n",
       "      <th>Dr Muhammad Faishal Ibrahim</th>\n",
       "      <td>96.97</td>\n",
       "      <td>41.22</td>\n",
       "      <td>2.35</td>\n",
       "    </tr>\n",
       "    <tr>\n",
       "      <th>Lee Bee Wah</th>\n",
       "      <td>96.97</td>\n",
       "      <td>70.23</td>\n",
       "      <td>1.38</td>\n",
       "    </tr>\n",
       "    <tr>\n",
       "      <th>Potong Pasir SMC</th>\n",
       "      <th>Sitoh Yih Pin</th>\n",
       "      <td>96.97</td>\n",
       "      <td>25.95</td>\n",
       "      <td>3.74</td>\n",
       "    </tr>\n",
       "    <tr>\n",
       "      <th>Sembawang GRC</th>\n",
       "      <th>Vikram Nair</th>\n",
       "      <td>96.97</td>\n",
       "      <td>39.69</td>\n",
       "      <td>2.44</td>\n",
       "    </tr>\n",
       "    <tr>\n",
       "      <th>Chua Chu Kang GRC</th>\n",
       "      <th>Gan Kim Yong</th>\n",
       "      <td>96.21</td>\n",
       "      <td>0.00</td>\n",
       "      <td>0.00</td>\n",
       "    </tr>\n",
       "    <tr>\n",
       "      <th rowspan=\"2\" valign=\"top\">Tampines GRC</th>\n",
       "      <th>Cheng Li Hui</th>\n",
       "      <td>96.21</td>\n",
       "      <td>48.09</td>\n",
       "      <td>2.00</td>\n",
       "    </tr>\n",
       "    <tr>\n",
       "      <th>Baey Yam Keng</th>\n",
       "      <td>96.21</td>\n",
       "      <td>24.43</td>\n",
       "      <td>3.94</td>\n",
       "    </tr>\n",
       "    <tr>\n",
       "      <th>Jalan Besar GRC</th>\n",
       "      <th>Yaacob Ibrahim</th>\n",
       "      <td>96.21</td>\n",
       "      <td>32.06</td>\n",
       "      <td>3.00</td>\n",
       "    </tr>\n",
       "    <tr>\n",
       "      <th>Workers' Party</th>\n",
       "      <th>Aljunied GRC</th>\n",
       "      <th>Low Thia Khiang</th>\n",
       "      <td>96.21</td>\n",
       "      <td>44.27</td>\n",
       "      <td>2.17</td>\n",
       "    </tr>\n",
       "    <tr>\n",
       "      <th rowspan=\"4\" valign=\"top\">People's Action Party</th>\n",
       "      <th rowspan=\"3\" valign=\"top\">Ang Mo Kio GRC</th>\n",
       "      <th>Gan Thiam Poh</th>\n",
       "      <td>96.21</td>\n",
       "      <td>65.65</td>\n",
       "      <td>1.47</td>\n",
       "    </tr>\n",
       "    <tr>\n",
       "      <th>Intan Azura Mokhtrar</th>\n",
       "      <td>96.21</td>\n",
       "      <td>48.09</td>\n",
       "      <td>2.00</td>\n",
       "    </tr>\n",
       "    <tr>\n",
       "      <th>Darryl David</th>\n",
       "      <td>96.21</td>\n",
       "      <td>45.80</td>\n",
       "      <td>2.10</td>\n",
       "    </tr>\n",
       "    <tr>\n",
       "      <th>Bishan-Toa Payoh GRC</th>\n",
       "      <th>Saktiandi Supaat</th>\n",
       "      <td>96.21</td>\n",
       "      <td>58.78</td>\n",
       "      <td>1.64</td>\n",
       "    </tr>\n",
       "    <tr>\n",
       "      <th>Workers' Party</th>\n",
       "      <th>Aljunied GRC</th>\n",
       "      <th>Muhamad Faisal Bin Abdul Manap</th>\n",
       "      <td>95.45</td>\n",
       "      <td>42.75</td>\n",
       "      <td>2.23</td>\n",
       "    </tr>\n",
       "    <tr>\n",
       "      <th rowspan=\"22\" valign=\"top\">People's Action Party</th>\n",
       "      <th>Bishan-Toa Payoh GRC</th>\n",
       "      <th>Chee Hong Tat</th>\n",
       "      <td>95.45</td>\n",
       "      <td>31.30</td>\n",
       "      <td>3.05</td>\n",
       "    </tr>\n",
       "    <tr>\n",
       "      <th rowspan=\"2\" valign=\"top\">Jalan Besar GRC</th>\n",
       "      <th>Heng Chee How</th>\n",
       "      <td>95.45</td>\n",
       "      <td>10.69</td>\n",
       "      <td>8.93</td>\n",
       "    </tr>\n",
       "    <tr>\n",
       "      <th>Lily Neo</th>\n",
       "      <td>95.45</td>\n",
       "      <td>23.66</td>\n",
       "      <td>4.03</td>\n",
       "    </tr>\n",
       "    <tr>\n",
       "      <th>Marine Parade GRC</th>\n",
       "      <th>Seah Kian Peng</th>\n",
       "      <td>95.45</td>\n",
       "      <td>45.04</td>\n",
       "      <td>2.12</td>\n",
       "    </tr>\n",
       "    <tr>\n",
       "      <th>Punggol East SMC</th>\n",
       "      <th>Charles Chong</th>\n",
       "      <td>95.45</td>\n",
       "      <td>10.69</td>\n",
       "      <td>8.93</td>\n",
       "    </tr>\n",
       "    <tr>\n",
       "      <th>West Coast GRC</th>\n",
       "      <th>Foo Mee Har</th>\n",
       "      <td>95.45</td>\n",
       "      <td>32.82</td>\n",
       "      <td>2.91</td>\n",
       "    </tr>\n",
       "    <tr>\n",
       "      <th>Sembawang GRC</th>\n",
       "      <th>Lim Wee Kiak</th>\n",
       "      <td>94.70</td>\n",
       "      <td>36.64</td>\n",
       "      <td>2.58</td>\n",
       "    </tr>\n",
       "    <tr>\n",
       "      <th>West Coast GRC</th>\n",
       "      <th>Lim Hng Kiang</th>\n",
       "      <td>94.70</td>\n",
       "      <td>10.69</td>\n",
       "      <td>8.86</td>\n",
       "    </tr>\n",
       "    <tr>\n",
       "      <th>MacPherson SMC</th>\n",
       "      <th>Tin Pei Ling</th>\n",
       "      <td>94.70</td>\n",
       "      <td>40.46</td>\n",
       "      <td>2.34</td>\n",
       "    </tr>\n",
       "    <tr>\n",
       "      <th>Sembawang GRC</th>\n",
       "      <th>Amrin Amin</th>\n",
       "      <td>94.70</td>\n",
       "      <td>45.04</td>\n",
       "      <td>2.10</td>\n",
       "    </tr>\n",
       "    <tr>\n",
       "      <th>Pasir Ris-Punggol GRC</th>\n",
       "      <th>Janil Puthucheary</th>\n",
       "      <td>94.70</td>\n",
       "      <td>40.46</td>\n",
       "      <td>2.34</td>\n",
       "    </tr>\n",
       "    <tr>\n",
       "      <th>Marine Parade GRC</th>\n",
       "      <th>Edwin Tong Chun Fai</th>\n",
       "      <td>93.94</td>\n",
       "      <td>30.53</td>\n",
       "      <td>3.08</td>\n",
       "    </tr>\n",
       "    <tr>\n",
       "      <th>Sembawang GRC</th>\n",
       "      <th>Ong Ye Kung</th>\n",
       "      <td>93.94</td>\n",
       "      <td>0.00</td>\n",
       "      <td>0.00</td>\n",
       "    </tr>\n",
       "    <tr>\n",
       "      <th>Bukit Panjang SMC</th>\n",
       "      <th>Teo Ho Pin</th>\n",
       "      <td>93.18</td>\n",
       "      <td>23.66</td>\n",
       "      <td>3.94</td>\n",
       "    </tr>\n",
       "    <tr>\n",
       "      <th>Chua Chu Kang GRC</th>\n",
       "      <th>Zaqy Mohamad</th>\n",
       "      <td>93.18</td>\n",
       "      <td>49.62</td>\n",
       "      <td>1.88</td>\n",
       "    </tr>\n",
       "    <tr>\n",
       "      <th>Marine Parade GRC</th>\n",
       "      <th>Tan Chuan-Jin</th>\n",
       "      <td>93.18</td>\n",
       "      <td>16.03</td>\n",
       "      <td>5.81</td>\n",
       "    </tr>\n",
       "    <tr>\n",
       "      <th>Sengkang West SMC</th>\n",
       "      <th>Lam Pin Min</th>\n",
       "      <td>92.42</td>\n",
       "      <td>41.98</td>\n",
       "      <td>2.20</td>\n",
       "    </tr>\n",
       "    <tr>\n",
       "      <th>Holland-Bukit Timah GRC</th>\n",
       "      <th>Sim Ann</th>\n",
       "      <td>92.42</td>\n",
       "      <td>22.14</td>\n",
       "      <td>4.17</td>\n",
       "    </tr>\n",
       "    <tr>\n",
       "      <th>Nee Soon GRC</th>\n",
       "      <th>Kwek Hian Chuan Henry</th>\n",
       "      <td>92.42</td>\n",
       "      <td>43.51</td>\n",
       "      <td>2.12</td>\n",
       "    </tr>\n",
       "    <tr>\n",
       "      <th>Yuhua SMC</th>\n",
       "      <th>Grace Fu Hai Yien</th>\n",
       "      <td>91.67</td>\n",
       "      <td>0.00</td>\n",
       "      <td>0.00</td>\n",
       "    </tr>\n",
       "    <tr>\n",
       "      <th>Tanjong Pagar GRC</th>\n",
       "      <th>Chia Shi-Lu</th>\n",
       "      <td>91.67</td>\n",
       "      <td>35.11</td>\n",
       "      <td>2.61</td>\n",
       "    </tr>\n",
       "    <tr>\n",
       "      <th>Fengshan SMC</th>\n",
       "      <th>Cheryl Chan Wei Ling</th>\n",
       "      <td>91.67</td>\n",
       "      <td>42.75</td>\n",
       "      <td>2.14</td>\n",
       "    </tr>\n",
       "    <tr>\n",
       "      <th>Workers' Party</th>\n",
       "      <th>Non-Constituency MPs</th>\n",
       "      <th>Daniel Goh Pei Siong</th>\n",
       "      <td>91.67</td>\n",
       "      <td>58.02</td>\n",
       "      <td>1.58</td>\n",
       "    </tr>\n",
       "    <tr>\n",
       "      <th>People's Action Party</th>\n",
       "      <th>Pioneer SMC</th>\n",
       "      <th>Cedric Foo Chee Keng</th>\n",
       "      <td>91.67</td>\n",
       "      <td>22.90</td>\n",
       "      <td>4.00</td>\n",
       "    </tr>\n",
       "    <tr>\n",
       "      <th>Workers' Party</th>\n",
       "      <th>Aljunied GRC</th>\n",
       "      <th>Chen Show Mao</th>\n",
       "      <td>90.91</td>\n",
       "      <td>24.43</td>\n",
       "      <td>3.72</td>\n",
       "    </tr>\n",
       "    <tr>\n",
       "      <th rowspan=\"23\" valign=\"top\">People's Action Party</th>\n",
       "      <th>Hong Kah North SMC</th>\n",
       "      <th>Amy Khor Lean Suan</th>\n",
       "      <td>90.91</td>\n",
       "      <td>43.51</td>\n",
       "      <td>2.09</td>\n",
       "    </tr>\n",
       "    <tr>\n",
       "      <th rowspan=\"2\" valign=\"top\">Pasir Ris-Punggol GRC</th>\n",
       "      <th>Sun Xueling</th>\n",
       "      <td>90.91</td>\n",
       "      <td>54.20</td>\n",
       "      <td>1.68</td>\n",
       "    </tr>\n",
       "    <tr>\n",
       "      <th>Zainal Sapari</th>\n",
       "      <td>90.91</td>\n",
       "      <td>50.38</td>\n",
       "      <td>1.80</td>\n",
       "    </tr>\n",
       "    <tr>\n",
       "      <th>Ang Mo Kio GRC</th>\n",
       "      <th>Koh Poh Koon</th>\n",
       "      <td>90.15</td>\n",
       "      <td>25.95</td>\n",
       "      <td>3.47</td>\n",
       "    </tr>\n",
       "    <tr>\n",
       "      <th>Jurong GRC</th>\n",
       "      <th>Tharman Shanmugaratnam</th>\n",
       "      <td>90.15</td>\n",
       "      <td>0.00</td>\n",
       "      <td>0.00</td>\n",
       "    </tr>\n",
       "    <tr>\n",
       "      <th>Sembawang GRC</th>\n",
       "      <th>Khaw Boon Wan</th>\n",
       "      <td>90.15</td>\n",
       "      <td>0.00</td>\n",
       "      <td>0.00</td>\n",
       "    </tr>\n",
       "    <tr>\n",
       "      <th rowspan=\"2\" valign=\"top\">Pasir Ris-Punggol GRC</th>\n",
       "      <th>Ng Chee Meng</th>\n",
       "      <td>89.39</td>\n",
       "      <td>0.00</td>\n",
       "      <td>0.00</td>\n",
       "    </tr>\n",
       "    <tr>\n",
       "      <th>Teo Chee Hean</th>\n",
       "      <td>89.39</td>\n",
       "      <td>0.00</td>\n",
       "      <td>0.00</td>\n",
       "    </tr>\n",
       "    <tr>\n",
       "      <th>Holland-Bukit Timah GRC</th>\n",
       "      <th>Vivian Balakrishnan</th>\n",
       "      <td>88.64</td>\n",
       "      <td>0.00</td>\n",
       "      <td>0.00</td>\n",
       "    </tr>\n",
       "    <tr>\n",
       "      <th>East Coast GRC</th>\n",
       "      <th>Jessica Tan Soon Neo</th>\n",
       "      <td>87.88</td>\n",
       "      <td>33.59</td>\n",
       "      <td>2.61</td>\n",
       "    </tr>\n",
       "    <tr>\n",
       "      <th>Radin Mas SMC</th>\n",
       "      <th>Sam Tan Chin Siong</th>\n",
       "      <td>87.12</td>\n",
       "      <td>22.14</td>\n",
       "      <td>3.93</td>\n",
       "    </tr>\n",
       "    <tr>\n",
       "      <th>East Coast GRC</th>\n",
       "      <th>Lee Yi Shyan</th>\n",
       "      <td>86.36</td>\n",
       "      <td>6.11</td>\n",
       "      <td>14.12</td>\n",
       "    </tr>\n",
       "    <tr>\n",
       "      <th>Pasir Ris-Punggol GRC</th>\n",
       "      <th>Teo Ser Luck</th>\n",
       "      <td>85.61</td>\n",
       "      <td>4.58</td>\n",
       "      <td>18.67</td>\n",
       "    </tr>\n",
       "    <tr>\n",
       "      <th rowspan=\"2\" valign=\"top\">Bishan-Toa Payoh GRC</th>\n",
       "      <th>Josephine Teo</th>\n",
       "      <td>84.09</td>\n",
       "      <td>0.00</td>\n",
       "      <td>0.00</td>\n",
       "    </tr>\n",
       "    <tr>\n",
       "      <th>Ng Eng Hen</th>\n",
       "      <td>84.09</td>\n",
       "      <td>0.00</td>\n",
       "      <td>0.00</td>\n",
       "    </tr>\n",
       "    <tr>\n",
       "      <th>East Coast GRC</th>\n",
       "      <th>Mohamad Maliki Bin Osman</th>\n",
       "      <td>84.09</td>\n",
       "      <td>16.79</td>\n",
       "      <td>5.00</td>\n",
       "    </tr>\n",
       "    <tr>\n",
       "      <th>Tampines GRC</th>\n",
       "      <th>Heng Swee Keat</th>\n",
       "      <td>84.09</td>\n",
       "      <td>0.00</td>\n",
       "      <td>0.00</td>\n",
       "    </tr>\n",
       "    <tr>\n",
       "      <th>Bukit Batok SMC</th>\n",
       "      <th>Murali Pillai</th>\n",
       "      <td>83.33</td>\n",
       "      <td>54.20</td>\n",
       "      <td>1.54</td>\n",
       "    </tr>\n",
       "    <tr>\n",
       "      <th>Nee Soon GRC</th>\n",
       "      <th>K Shanmugam</th>\n",
       "      <td>83.33</td>\n",
       "      <td>0.00</td>\n",
       "      <td>0.00</td>\n",
       "    </tr>\n",
       "    <tr>\n",
       "      <th>Tampines GRC</th>\n",
       "      <th>Masagos Zulkifli Bin Masagos Mohamad</th>\n",
       "      <td>81.06</td>\n",
       "      <td>0.00</td>\n",
       "      <td>0.00</td>\n",
       "    </tr>\n",
       "    <tr>\n",
       "      <th>West Coast GRC</th>\n",
       "      <th>S Iswaran</th>\n",
       "      <td>80.30</td>\n",
       "      <td>0.00</td>\n",
       "      <td>0.00</td>\n",
       "    </tr>\n",
       "    <tr>\n",
       "      <th>Marine Parade GRC</th>\n",
       "      <th>Fatimah Lateef</th>\n",
       "      <td>74.24</td>\n",
       "      <td>34.35</td>\n",
       "      <td>2.16</td>\n",
       "    </tr>\n",
       "    <tr>\n",
       "      <th>East Coast GRC</th>\n",
       "      <th>Lim Swee Say</th>\n",
       "      <td>72.73</td>\n",
       "      <td>16.79</td>\n",
       "      <td>4.32</td>\n",
       "    </tr>\n",
       "    <tr>\n",
       "      <th rowspan=\"9\" valign=\"top\">Nominated MPs</th>\n",
       "      <th rowspan=\"9\" valign=\"top\">Nominated MPs</th>\n",
       "      <th>Arasu Duraisamy</th>\n",
       "      <td>37.88</td>\n",
       "      <td>9.16</td>\n",
       "      <td>4.08</td>\n",
       "    </tr>\n",
       "    <tr>\n",
       "      <th>Mohamed Irshad</th>\n",
       "      <td>37.88</td>\n",
       "      <td>19.08</td>\n",
       "      <td>1.96</td>\n",
       "    </tr>\n",
       "    <tr>\n",
       "      <th>Anthea Ong</th>\n",
       "      <td>37.88</td>\n",
       "      <td>32.06</td>\n",
       "      <td>1.17</td>\n",
       "    </tr>\n",
       "    <tr>\n",
       "      <th>Terence Ho Wee San</th>\n",
       "      <td>37.12</td>\n",
       "      <td>10.69</td>\n",
       "      <td>3.43</td>\n",
       "    </tr>\n",
       "    <tr>\n",
       "      <th>Dr Walter Theseira</th>\n",
       "      <td>37.12</td>\n",
       "      <td>31.30</td>\n",
       "      <td>1.17</td>\n",
       "    </tr>\n",
       "    <tr>\n",
       "      <th>Lim Sun Sun</th>\n",
       "      <td>34.85</td>\n",
       "      <td>15.27</td>\n",
       "      <td>2.25</td>\n",
       "    </tr>\n",
       "    <tr>\n",
       "      <th>Irene Quay Siew Ching</th>\n",
       "      <td>32.58</td>\n",
       "      <td>16.79</td>\n",
       "      <td>1.91</td>\n",
       "    </tr>\n",
       "    <tr>\n",
       "      <th>Douglas Foo</th>\n",
       "      <td>29.55</td>\n",
       "      <td>9.16</td>\n",
       "      <td>3.17</td>\n",
       "    </tr>\n",
       "    <tr>\n",
       "      <th>Yip Pin Xiu</th>\n",
       "      <td>25.00</td>\n",
       "      <td>6.11</td>\n",
       "      <td>4.00</td>\n",
       "    </tr>\n",
       "  </tbody>\n",
       "</table>\n",
       "</div>"
      ],
      "text/plain": [
       "                                                                                    Percent of Sittings Attended (Out of 132)  \\\n",
       "Party                 Constituency            Name                                                                              \n",
       "People's Action Party Holland-Bukit Timah GRC Christopher De Souza                                                     100.00   \n",
       "                      Jalan Besar GRC         Denise Phua Lay Peng                                                     100.00   \n",
       "                      Nee Soon GRC            Louis Ng Kok Kwang                                                       100.00   \n",
       "                      Tampines GRC            Desmond Choo                                                             100.00   \n",
       "                      Tanjong Pagar GRC       Melvin Yong Yik Chye                                                     100.00   \n",
       "                      West Coast GRC          Patrick Tay Teck Guan                                                    100.00   \n",
       "Workers' Party        Non-Constituency MPs    Dennis Tan Lip Fong                                                      100.00   \n",
       "People's Action Party Chua Chu Kang GRC       Low Yen Ling                                                              99.24   \n",
       "                      Ang Mo Kio GRC          Lee Hsien Loong                                                           99.24   \n",
       "                      Chua Chu Kang GRC       Yee Chia Hsing                                                            99.24   \n",
       "                      Tanjong Pagar GRC       Joan Pereira                                                              99.24   \n",
       "                      Marine Parade GRC       Goh Chok Tong                                                             98.48   \n",
       "                      Marsiling-Yew Tee GRC   Lawrence Wong                                                             98.48   \n",
       "                                              Ong Teng Koon                                                             98.48   \n",
       "                      Mountbatten SMC         Lim Biow Chuan                                                            98.48   \n",
       "Workers' Party        Hougang SMC             Png Eng Huat                                                              98.48   \n",
       "People's Action Party Ang Mo Kio GRC          Ang Hin Kee                                                               98.48   \n",
       "                      Jurong GRC              Rahayu Mahzam                                                             97.73   \n",
       "Workers' Party        Non-Constituency MPs    Leon Perera                                                               97.73   \n",
       "People's Action Party Tanjong Pagar GRC       Chan Chun Sing                                                            97.73   \n",
       "Workers' Party        Aljunied GRC            Pritam Singh                                                              97.73   \n",
       "People's Action Party Bishan-Toa Payoh GRC    Chong Kee Hiong                                                           97.73   \n",
       "                      Tanjong Pagar GRC       Indranee Rajah                                                            97.73   \n",
       "Workers' Party        Aljunied GRC            Sylvia Lim                                                                96.97   \n",
       "People's Action Party Holland-Bukit Timah GRC Liang Eng Hwa                                                             96.97   \n",
       "                      Jurong GRC              Ang Wei Neng                                                              96.97   \n",
       "                                              Desmond Lee                                                               96.97   \n",
       "                                              Tan Wu Meng                                                               96.97   \n",
       "                      Marsiling-Yew Tee GRC   Alex Yam Ziming                                                           96.97   \n",
       "                      Nee Soon GRC            Dr Muhammad Faishal Ibrahim                                               96.97   \n",
       "                                              Lee Bee Wah                                                               96.97   \n",
       "                      Potong Pasir SMC        Sitoh Yih Pin                                                             96.97   \n",
       "                      Sembawang GRC           Vikram Nair                                                               96.97   \n",
       "                      Chua Chu Kang GRC       Gan Kim Yong                                                              96.21   \n",
       "                      Tampines GRC            Cheng Li Hui                                                              96.21   \n",
       "                                              Baey Yam Keng                                                             96.21   \n",
       "                      Jalan Besar GRC         Yaacob Ibrahim                                                            96.21   \n",
       "Workers' Party        Aljunied GRC            Low Thia Khiang                                                           96.21   \n",
       "People's Action Party Ang Mo Kio GRC          Gan Thiam Poh                                                             96.21   \n",
       "                                              Intan Azura Mokhtrar                                                      96.21   \n",
       "                                              Darryl David                                                              96.21   \n",
       "                      Bishan-Toa Payoh GRC    Saktiandi Supaat                                                          96.21   \n",
       "Workers' Party        Aljunied GRC            Muhamad Faisal Bin Abdul Manap                                            95.45   \n",
       "People's Action Party Bishan-Toa Payoh GRC    Chee Hong Tat                                                             95.45   \n",
       "                      Jalan Besar GRC         Heng Chee How                                                             95.45   \n",
       "                                              Lily Neo                                                                  95.45   \n",
       "                      Marine Parade GRC       Seah Kian Peng                                                            95.45   \n",
       "                      Punggol East SMC        Charles Chong                                                             95.45   \n",
       "                      West Coast GRC          Foo Mee Har                                                               95.45   \n",
       "                      Sembawang GRC           Lim Wee Kiak                                                              94.70   \n",
       "                      West Coast GRC          Lim Hng Kiang                                                             94.70   \n",
       "                      MacPherson SMC          Tin Pei Ling                                                              94.70   \n",
       "                      Sembawang GRC           Amrin Amin                                                                94.70   \n",
       "                      Pasir Ris-Punggol GRC   Janil Puthucheary                                                         94.70   \n",
       "                      Marine Parade GRC       Edwin Tong Chun Fai                                                       93.94   \n",
       "                      Sembawang GRC           Ong Ye Kung                                                               93.94   \n",
       "                      Bukit Panjang SMC       Teo Ho Pin                                                                93.18   \n",
       "                      Chua Chu Kang GRC       Zaqy Mohamad                                                              93.18   \n",
       "                      Marine Parade GRC       Tan Chuan-Jin                                                             93.18   \n",
       "                      Sengkang West SMC       Lam Pin Min                                                               92.42   \n",
       "                      Holland-Bukit Timah GRC Sim Ann                                                                   92.42   \n",
       "                      Nee Soon GRC            Kwek Hian Chuan Henry                                                     92.42   \n",
       "                      Yuhua SMC               Grace Fu Hai Yien                                                         91.67   \n",
       "                      Tanjong Pagar GRC       Chia Shi-Lu                                                               91.67   \n",
       "                      Fengshan SMC            Cheryl Chan Wei Ling                                                      91.67   \n",
       "Workers' Party        Non-Constituency MPs    Daniel Goh Pei Siong                                                      91.67   \n",
       "People's Action Party Pioneer SMC             Cedric Foo Chee Keng                                                      91.67   \n",
       "Workers' Party        Aljunied GRC            Chen Show Mao                                                             90.91   \n",
       "People's Action Party Hong Kah North SMC      Amy Khor Lean Suan                                                        90.91   \n",
       "                      Pasir Ris-Punggol GRC   Sun Xueling                                                               90.91   \n",
       "                                              Zainal Sapari                                                             90.91   \n",
       "                      Ang Mo Kio GRC          Koh Poh Koon                                                              90.15   \n",
       "                      Jurong GRC              Tharman Shanmugaratnam                                                    90.15   \n",
       "                      Sembawang GRC           Khaw Boon Wan                                                             90.15   \n",
       "                      Pasir Ris-Punggol GRC   Ng Chee Meng                                                              89.39   \n",
       "                                              Teo Chee Hean                                                             89.39   \n",
       "                      Holland-Bukit Timah GRC Vivian Balakrishnan                                                       88.64   \n",
       "                      East Coast GRC          Jessica Tan Soon Neo                                                      87.88   \n",
       "                      Radin Mas SMC           Sam Tan Chin Siong                                                        87.12   \n",
       "                      East Coast GRC          Lee Yi Shyan                                                              86.36   \n",
       "                      Pasir Ris-Punggol GRC   Teo Ser Luck                                                              85.61   \n",
       "                      Bishan-Toa Payoh GRC    Josephine Teo                                                             84.09   \n",
       "                                              Ng Eng Hen                                                                84.09   \n",
       "                      East Coast GRC          Mohamad Maliki Bin Osman                                                  84.09   \n",
       "                      Tampines GRC            Heng Swee Keat                                                            84.09   \n",
       "                      Bukit Batok SMC         Murali Pillai                                                             83.33   \n",
       "                      Nee Soon GRC            K Shanmugam                                                               83.33   \n",
       "                      Tampines GRC            Masagos Zulkifli Bin Masagos Mohamad                                      81.06   \n",
       "                      West Coast GRC          S Iswaran                                                                 80.30   \n",
       "                      Marine Parade GRC       Fatimah Lateef                                                            74.24   \n",
       "                      East Coast GRC          Lim Swee Say                                                              72.73   \n",
       "Nominated MPs         Nominated MPs           Arasu Duraisamy                                                           37.88   \n",
       "                                              Mohamed Irshad                                                            37.88   \n",
       "                                              Anthea Ong                                                                37.88   \n",
       "                                              Terence Ho Wee San                                                        37.12   \n",
       "                                              Dr Walter Theseira                                                        37.12   \n",
       "                                              Lim Sun Sun                                                               34.85   \n",
       "                                              Irene Quay Siew Ching                                                     32.58   \n",
       "                                              Douglas Foo                                                               29.55   \n",
       "                                              Yip Pin Xiu                                                               25.00   \n",
       "\n",
       "                                                                                    Percent of Sittings Spoken (Out of 131)  \\\n",
       "Party                 Constituency            Name                                                                            \n",
       "People's Action Party Holland-Bukit Timah GRC Christopher De Souza                                                    58.02   \n",
       "                      Jalan Besar GRC         Denise Phua Lay Peng                                                    41.22   \n",
       "                      Nee Soon GRC            Louis Ng Kok Kwang                                                      87.02   \n",
       "                      Tampines GRC            Desmond Choo                                                            60.31   \n",
       "                      Tanjong Pagar GRC       Melvin Yong Yik Chye                                                    49.62   \n",
       "                      West Coast GRC          Patrick Tay Teck Guan                                                   58.02   \n",
       "Workers' Party        Non-Constituency MPs    Dennis Tan Lip Fong                                                     73.28   \n",
       "People's Action Party Chua Chu Kang GRC       Low Yen Ling                                                            33.59   \n",
       "                      Ang Mo Kio GRC          Lee Hsien Loong                                                          0.00   \n",
       "                      Chua Chu Kang GRC       Yee Chia Hsing                                                          44.27   \n",
       "                      Tanjong Pagar GRC       Joan Pereira                                                            66.41   \n",
       "                      Marine Parade GRC       Goh Chok Tong                                                            0.00   \n",
       "                      Marsiling-Yew Tee GRC   Lawrence Wong                                                            0.00   \n",
       "                                              Ong Teng Koon                                                           32.82   \n",
       "                      Mountbatten SMC         Lim Biow Chuan                                                          51.15   \n",
       "Workers' Party        Hougang SMC             Png Eng Huat                                                            45.80   \n",
       "People's Action Party Ang Mo Kio GRC          Ang Hin Kee                                                             37.40   \n",
       "                      Jurong GRC              Rahayu Mahzam                                                           55.73   \n",
       "Workers' Party        Non-Constituency MPs    Leon Perera                                                             75.57   \n",
       "People's Action Party Tanjong Pagar GRC       Chan Chun Sing                                                           0.00   \n",
       "Workers' Party        Aljunied GRC            Pritam Singh                                                            71.76   \n",
       "People's Action Party Bishan-Toa Payoh GRC    Chong Kee Hiong                                                         30.53   \n",
       "                      Tanjong Pagar GRC       Indranee Rajah                                                           0.00   \n",
       "Workers' Party        Aljunied GRC            Sylvia Lim                                                              62.60   \n",
       "People's Action Party Holland-Bukit Timah GRC Liang Eng Hwa                                                           49.62   \n",
       "                      Jurong GRC              Ang Wei Neng                                                            50.38   \n",
       "                                              Desmond Lee                                                              0.00   \n",
       "                                              Tan Wu Meng                                                             44.27   \n",
       "                      Marsiling-Yew Tee GRC   Alex Yam Ziming                                                         44.27   \n",
       "                      Nee Soon GRC            Dr Muhammad Faishal Ibrahim                                             41.22   \n",
       "                                              Lee Bee Wah                                                             70.23   \n",
       "                      Potong Pasir SMC        Sitoh Yih Pin                                                           25.95   \n",
       "                      Sembawang GRC           Vikram Nair                                                             39.69   \n",
       "                      Chua Chu Kang GRC       Gan Kim Yong                                                             0.00   \n",
       "                      Tampines GRC            Cheng Li Hui                                                            48.09   \n",
       "                                              Baey Yam Keng                                                           24.43   \n",
       "                      Jalan Besar GRC         Yaacob Ibrahim                                                          32.06   \n",
       "Workers' Party        Aljunied GRC            Low Thia Khiang                                                         44.27   \n",
       "People's Action Party Ang Mo Kio GRC          Gan Thiam Poh                                                           65.65   \n",
       "                                              Intan Azura Mokhtrar                                                    48.09   \n",
       "                                              Darryl David                                                            45.80   \n",
       "                      Bishan-Toa Payoh GRC    Saktiandi Supaat                                                        58.78   \n",
       "Workers' Party        Aljunied GRC            Muhamad Faisal Bin Abdul Manap                                          42.75   \n",
       "People's Action Party Bishan-Toa Payoh GRC    Chee Hong Tat                                                           31.30   \n",
       "                      Jalan Besar GRC         Heng Chee How                                                           10.69   \n",
       "                                              Lily Neo                                                                23.66   \n",
       "                      Marine Parade GRC       Seah Kian Peng                                                          45.04   \n",
       "                      Punggol East SMC        Charles Chong                                                           10.69   \n",
       "                      West Coast GRC          Foo Mee Har                                                             32.82   \n",
       "                      Sembawang GRC           Lim Wee Kiak                                                            36.64   \n",
       "                      West Coast GRC          Lim Hng Kiang                                                           10.69   \n",
       "                      MacPherson SMC          Tin Pei Ling                                                            40.46   \n",
       "                      Sembawang GRC           Amrin Amin                                                              45.04   \n",
       "                      Pasir Ris-Punggol GRC   Janil Puthucheary                                                       40.46   \n",
       "                      Marine Parade GRC       Edwin Tong Chun Fai                                                     30.53   \n",
       "                      Sembawang GRC           Ong Ye Kung                                                              0.00   \n",
       "                      Bukit Panjang SMC       Teo Ho Pin                                                              23.66   \n",
       "                      Chua Chu Kang GRC       Zaqy Mohamad                                                            49.62   \n",
       "                      Marine Parade GRC       Tan Chuan-Jin                                                           16.03   \n",
       "                      Sengkang West SMC       Lam Pin Min                                                             41.98   \n",
       "                      Holland-Bukit Timah GRC Sim Ann                                                                 22.14   \n",
       "                      Nee Soon GRC            Kwek Hian Chuan Henry                                                   43.51   \n",
       "                      Yuhua SMC               Grace Fu Hai Yien                                                        0.00   \n",
       "                      Tanjong Pagar GRC       Chia Shi-Lu                                                             35.11   \n",
       "                      Fengshan SMC            Cheryl Chan Wei Ling                                                    42.75   \n",
       "Workers' Party        Non-Constituency MPs    Daniel Goh Pei Siong                                                    58.02   \n",
       "People's Action Party Pioneer SMC             Cedric Foo Chee Keng                                                    22.90   \n",
       "Workers' Party        Aljunied GRC            Chen Show Mao                                                           24.43   \n",
       "People's Action Party Hong Kah North SMC      Amy Khor Lean Suan                                                      43.51   \n",
       "                      Pasir Ris-Punggol GRC   Sun Xueling                                                             54.20   \n",
       "                                              Zainal Sapari                                                           50.38   \n",
       "                      Ang Mo Kio GRC          Koh Poh Koon                                                            25.95   \n",
       "                      Jurong GRC              Tharman Shanmugaratnam                                                   0.00   \n",
       "                      Sembawang GRC           Khaw Boon Wan                                                            0.00   \n",
       "                      Pasir Ris-Punggol GRC   Ng Chee Meng                                                             0.00   \n",
       "                                              Teo Chee Hean                                                            0.00   \n",
       "                      Holland-Bukit Timah GRC Vivian Balakrishnan                                                      0.00   \n",
       "                      East Coast GRC          Jessica Tan Soon Neo                                                    33.59   \n",
       "                      Radin Mas SMC           Sam Tan Chin Siong                                                      22.14   \n",
       "                      East Coast GRC          Lee Yi Shyan                                                             6.11   \n",
       "                      Pasir Ris-Punggol GRC   Teo Ser Luck                                                             4.58   \n",
       "                      Bishan-Toa Payoh GRC    Josephine Teo                                                            0.00   \n",
       "                                              Ng Eng Hen                                                               0.00   \n",
       "                      East Coast GRC          Mohamad Maliki Bin Osman                                                16.79   \n",
       "                      Tampines GRC            Heng Swee Keat                                                           0.00   \n",
       "                      Bukit Batok SMC         Murali Pillai                                                           54.20   \n",
       "                      Nee Soon GRC            K Shanmugam                                                              0.00   \n",
       "                      Tampines GRC            Masagos Zulkifli Bin Masagos Mohamad                                     0.00   \n",
       "                      West Coast GRC          S Iswaran                                                                0.00   \n",
       "                      Marine Parade GRC       Fatimah Lateef                                                          34.35   \n",
       "                      East Coast GRC          Lim Swee Say                                                            16.79   \n",
       "Nominated MPs         Nominated MPs           Arasu Duraisamy                                                          9.16   \n",
       "                                              Mohamed Irshad                                                          19.08   \n",
       "                                              Anthea Ong                                                              32.06   \n",
       "                                              Terence Ho Wee San                                                      10.69   \n",
       "                                              Dr Walter Theseira                                                      31.30   \n",
       "                                              Lim Sun Sun                                                             15.27   \n",
       "                                              Irene Quay Siew Ching                                                   16.79   \n",
       "                                              Douglas Foo                                                              9.16   \n",
       "                                              Yip Pin Xiu                                                              6.11   \n",
       "\n",
       "                                                                                    Spoke per meeting (Out of 131)  \n",
       "Party                 Constituency            Name                                                                  \n",
       "People's Action Party Holland-Bukit Timah GRC Christopher De Souza                                            1.72  \n",
       "                      Jalan Besar GRC         Denise Phua Lay Peng                                            2.43  \n",
       "                      Nee Soon GRC            Louis Ng Kok Kwang                                              1.15  \n",
       "                      Tampines GRC            Desmond Choo                                                    1.66  \n",
       "                      Tanjong Pagar GRC       Melvin Yong Yik Chye                                            2.02  \n",
       "                      West Coast GRC          Patrick Tay Teck Guan                                           1.72  \n",
       "Workers' Party        Non-Constituency MPs    Dennis Tan Lip Fong                                             1.36  \n",
       "People's Action Party Chua Chu Kang GRC       Low Yen Ling                                                    2.95  \n",
       "                      Ang Mo Kio GRC          Lee Hsien Loong                                                 0.00  \n",
       "                      Chua Chu Kang GRC       Yee Chia Hsing                                                  2.24  \n",
       "                      Tanjong Pagar GRC       Joan Pereira                                                    1.49  \n",
       "                      Marine Parade GRC       Goh Chok Tong                                                   0.00  \n",
       "                      Marsiling-Yew Tee GRC   Lawrence Wong                                                   0.00  \n",
       "                                              Ong Teng Koon                                                   3.00  \n",
       "                      Mountbatten SMC         Lim Biow Chuan                                                  1.93  \n",
       "Workers' Party        Hougang SMC             Png Eng Huat                                                    2.15  \n",
       "People's Action Party Ang Mo Kio GRC          Ang Hin Kee                                                     2.63  \n",
       "                      Jurong GRC              Rahayu Mahzam                                                   1.75  \n",
       "Workers' Party        Non-Constituency MPs    Leon Perera                                                     1.29  \n",
       "People's Action Party Tanjong Pagar GRC       Chan Chun Sing                                                  0.00  \n",
       "Workers' Party        Aljunied GRC            Pritam Singh                                                    1.36  \n",
       "People's Action Party Bishan-Toa Payoh GRC    Chong Kee Hiong                                                 3.20  \n",
       "                      Tanjong Pagar GRC       Indranee Rajah                                                  0.00  \n",
       "Workers' Party        Aljunied GRC            Sylvia Lim                                                      1.55  \n",
       "People's Action Party Holland-Bukit Timah GRC Liang Eng Hwa                                                   1.95  \n",
       "                      Jurong GRC              Ang Wei Neng                                                    1.92  \n",
       "                                              Desmond Lee                                                     0.00  \n",
       "                                              Tan Wu Meng                                                     2.19  \n",
       "                      Marsiling-Yew Tee GRC   Alex Yam Ziming                                                 2.19  \n",
       "                      Nee Soon GRC            Dr Muhammad Faishal Ibrahim                                     2.35  \n",
       "                                              Lee Bee Wah                                                     1.38  \n",
       "                      Potong Pasir SMC        Sitoh Yih Pin                                                   3.74  \n",
       "                      Sembawang GRC           Vikram Nair                                                     2.44  \n",
       "                      Chua Chu Kang GRC       Gan Kim Yong                                                    0.00  \n",
       "                      Tampines GRC            Cheng Li Hui                                                    2.00  \n",
       "                                              Baey Yam Keng                                                   3.94  \n",
       "                      Jalan Besar GRC         Yaacob Ibrahim                                                  3.00  \n",
       "Workers' Party        Aljunied GRC            Low Thia Khiang                                                 2.17  \n",
       "People's Action Party Ang Mo Kio GRC          Gan Thiam Poh                                                   1.47  \n",
       "                                              Intan Azura Mokhtrar                                            2.00  \n",
       "                                              Darryl David                                                    2.10  \n",
       "                      Bishan-Toa Payoh GRC    Saktiandi Supaat                                                1.64  \n",
       "Workers' Party        Aljunied GRC            Muhamad Faisal Bin Abdul Manap                                  2.23  \n",
       "People's Action Party Bishan-Toa Payoh GRC    Chee Hong Tat                                                   3.05  \n",
       "                      Jalan Besar GRC         Heng Chee How                                                   8.93  \n",
       "                                              Lily Neo                                                        4.03  \n",
       "                      Marine Parade GRC       Seah Kian Peng                                                  2.12  \n",
       "                      Punggol East SMC        Charles Chong                                                   8.93  \n",
       "                      West Coast GRC          Foo Mee Har                                                     2.91  \n",
       "                      Sembawang GRC           Lim Wee Kiak                                                    2.58  \n",
       "                      West Coast GRC          Lim Hng Kiang                                                   8.86  \n",
       "                      MacPherson SMC          Tin Pei Ling                                                    2.34  \n",
       "                      Sembawang GRC           Amrin Amin                                                      2.10  \n",
       "                      Pasir Ris-Punggol GRC   Janil Puthucheary                                               2.34  \n",
       "                      Marine Parade GRC       Edwin Tong Chun Fai                                             3.08  \n",
       "                      Sembawang GRC           Ong Ye Kung                                                     0.00  \n",
       "                      Bukit Panjang SMC       Teo Ho Pin                                                      3.94  \n",
       "                      Chua Chu Kang GRC       Zaqy Mohamad                                                    1.88  \n",
       "                      Marine Parade GRC       Tan Chuan-Jin                                                   5.81  \n",
       "                      Sengkang West SMC       Lam Pin Min                                                     2.20  \n",
       "                      Holland-Bukit Timah GRC Sim Ann                                                         4.17  \n",
       "                      Nee Soon GRC            Kwek Hian Chuan Henry                                           2.12  \n",
       "                      Yuhua SMC               Grace Fu Hai Yien                                               0.00  \n",
       "                      Tanjong Pagar GRC       Chia Shi-Lu                                                     2.61  \n",
       "                      Fengshan SMC            Cheryl Chan Wei Ling                                            2.14  \n",
       "Workers' Party        Non-Constituency MPs    Daniel Goh Pei Siong                                            1.58  \n",
       "People's Action Party Pioneer SMC             Cedric Foo Chee Keng                                            4.00  \n",
       "Workers' Party        Aljunied GRC            Chen Show Mao                                                   3.72  \n",
       "People's Action Party Hong Kah North SMC      Amy Khor Lean Suan                                              2.09  \n",
       "                      Pasir Ris-Punggol GRC   Sun Xueling                                                     1.68  \n",
       "                                              Zainal Sapari                                                   1.80  \n",
       "                      Ang Mo Kio GRC          Koh Poh Koon                                                    3.47  \n",
       "                      Jurong GRC              Tharman Shanmugaratnam                                          0.00  \n",
       "                      Sembawang GRC           Khaw Boon Wan                                                   0.00  \n",
       "                      Pasir Ris-Punggol GRC   Ng Chee Meng                                                    0.00  \n",
       "                                              Teo Chee Hean                                                   0.00  \n",
       "                      Holland-Bukit Timah GRC Vivian Balakrishnan                                             0.00  \n",
       "                      East Coast GRC          Jessica Tan Soon Neo                                            2.61  \n",
       "                      Radin Mas SMC           Sam Tan Chin Siong                                              3.93  \n",
       "                      East Coast GRC          Lee Yi Shyan                                                   14.12  \n",
       "                      Pasir Ris-Punggol GRC   Teo Ser Luck                                                   18.67  \n",
       "                      Bishan-Toa Payoh GRC    Josephine Teo                                                   0.00  \n",
       "                                              Ng Eng Hen                                                      0.00  \n",
       "                      East Coast GRC          Mohamad Maliki Bin Osman                                        5.00  \n",
       "                      Tampines GRC            Heng Swee Keat                                                  0.00  \n",
       "                      Bukit Batok SMC         Murali Pillai                                                   1.54  \n",
       "                      Nee Soon GRC            K Shanmugam                                                     0.00  \n",
       "                      Tampines GRC            Masagos Zulkifli Bin Masagos Mohamad                            0.00  \n",
       "                      West Coast GRC          S Iswaran                                                       0.00  \n",
       "                      Marine Parade GRC       Fatimah Lateef                                                  2.16  \n",
       "                      East Coast GRC          Lim Swee Say                                                    4.32  \n",
       "Nominated MPs         Nominated MPs           Arasu Duraisamy                                                 4.08  \n",
       "                                              Mohamed Irshad                                                  1.96  \n",
       "                                              Anthea Ong                                                      1.17  \n",
       "                                              Terence Ho Wee San                                              3.43  \n",
       "                                              Dr Walter Theseira                                              1.17  \n",
       "                                              Lim Sun Sun                                                     2.25  \n",
       "                                              Irene Quay Siew Ching                                           1.91  \n",
       "                                              Douglas Foo                                                     3.17  \n",
       "                                              Yip Pin Xiu                                                     4.00  "
      ]
     },
     "execution_count": 60,
     "metadata": {},
     "output_type": "execute_result"
    }
   ],
   "source": [
    "individual_performance"
   ]
  },
  {
   "cell_type": "markdown",
   "metadata": {},
   "source": [
    "## Dashboard"
   ]
  },
  {
   "cell_type": "code",
   "execution_count": null,
   "metadata": {
    "ExecuteTime": {
     "start_time": "2020-06-24T13:25:43.757Z"
    }
   },
   "outputs": [],
   "source": [
    "fig = plt.figure(figsize=(25,13))\n",
    "gs = fig.add_gridspec(3,3, hspace=0.5, wspace=0.3)\n",
    "ax1 = fig.add_subplot(gs[0,0:])\n",
    "ax2 = fig.add_subplot(gs[1,0])\n",
    "ax3 = fig.add_subplot(gs[1,1])\n",
    "ax4 = fig.add_subplot(gs[1,2])\n",
    "ax5 = fig.add_subplot(gs[2,0])\n",
    "ax6 = fig.add_subplot(gs[2,1])\n",
    "ax7 = fig.add_subplot(gs[2,2])\n",
    "\n",
    "party_performance.plot(kind='barh', ax=ax1);\n",
    "pd.plotting.boxplot(constituency_performance.drop(['Percent of Sittings Spoken (Out of 131)',\n",
    "       'Spoke per meeting (Out of 131)'], axis=1), vert=False, by='Party', ax=ax2);\n",
    "pd.plotting.boxplot(constituency_performance.drop(['Percent of Sittings Attended (Out of 132)',\n",
    "       'Spoke per meeting (Out of 131)'], axis=1), vert=False, by='Party', ax=ax3);\n",
    "pd.plotting.boxplot(constituency_performance.drop(['Percent of Sittings Attended (Out of 132)',\n",
    "       'Percent of Sittings Spoken (Out of 131)'], axis=1), vert=False, by='Party', ax=ax4);\n",
    "pd.plotting.boxplot(individual_performance.drop(['Percent of Sittings Spoken (Out of 131)',\n",
    "       'Spoke per meeting (Out of 131)'], axis=1), vert=False, by='Party', ax=ax5);\n",
    "pd.plotting.boxplot(individual_performance.drop(['Percent of Sittings Attended (Out of 132)',\n",
    "       'Spoke per meeting (Out of 131)'], axis=1), vert=False, by='Party', ax=ax6);\n",
    "pd.plotting.boxplot(individual_performance.drop(['Percent of Sittings Attended (Out of 132)',\n",
    "       'Percent of Sittings Spoken (Out of 131)'], axis=1), vert=False, by='Party', ax=ax7);\n",
    "\n",
    "for ax in [ax2, ax3, ax4, ax5, ax6, ax7]:\n",
    "    ax.set_xlabel(None)\n",
    "    ax.label_outer()\n",
    "    ax.set_title(label=ax.title._text,fontsize=12)\n",
    "\n",
    "fig.suptitle('13th Parliament of Singapore attendance\\nattendance and speaking count', fontsize=20)\n",
    "ax1.set_title('Overall metrics', fontsize=15), ax1.set_ylabel(None), ax1.legend(fontsize='small')\n",
    "fig.text(0.03, 0.65, 'Group by Constituency', fontsize=15, backgroundcolor='lightgrey')\n",
    "fig.text(0.03, 0.37, 'Group by Individual', fontsize=15, backgroundcolor='lightgrey');\n",
    "\n",
    "fig.savefig('output/dashboard.png')"
   ]
  },
  {
   "cell_type": "markdown",
   "metadata": {},
   "source": [
    "# Remarks"
   ]
  },
  {
   "cell_type": "markdown",
   "metadata": {},
   "source": [
    "We note that cabinet members do not speak in sittings. Perhaps it's because parliament is an opporunity to hear alternate views on the bills been presented. But I'm not sure about the details of parliament sittings.\\\n",
    "As a result of the cabinet members, PAP's speaking percentage is an underestimated performance of the party."
   ]
  },
  {
   "cell_type": "code",
   "execution_count": null,
   "metadata": {
    "ExecuteTime": {
     "start_time": "2020-06-24T13:25:44.424Z"
    }
   },
   "outputs": [],
   "source": [
    "individual_performance[(individual_performance['Spoke per meeting (Out of 131)'] == 0)]"
   ]
  },
  {
   "cell_type": "code",
   "execution_count": null,
   "metadata": {
    "ExecuteTime": {
     "start_time": "2020-06-24T13:25:44.427Z"
    }
   },
   "outputs": [],
   "source": [
    "pd.set_option('display.max_rows', 10)"
   ]
  }
 ],
 "metadata": {
  "kernelspec": {
   "display_name": "Python 3",
   "language": "python",
   "name": "python3"
  },
  "language_info": {
   "codemirror_mode": {
    "name": "ipython",
    "version": 3
   },
   "file_extension": ".py",
   "mimetype": "text/x-python",
   "name": "python",
   "nbconvert_exporter": "python",
   "pygments_lexer": "ipython3",
   "version": "3.7.7"
  },
  "latex_envs": {
   "LaTeX_envs_menu_present": true,
   "autoclose": false,
   "autocomplete": true,
   "bibliofile": "biblio.bib",
   "cite_by": "apalike",
   "current_citInitial": 1,
   "eqLabelWithNumbers": true,
   "eqNumInitial": 1,
   "hotkeys": {
    "equation": "Ctrl-E",
    "itemize": "Ctrl-I"
   },
   "labels_anchors": false,
   "latex_user_defs": false,
   "report_style_numbering": false,
   "user_envs_cfg": false
  },
  "toc": {
   "base_numbering": 1,
   "nav_menu": {},
   "number_sections": true,
   "sideBar": true,
   "skip_h1_title": false,
   "title_cell": "Table of Contents",
   "title_sidebar": "Contents",
   "toc_cell": true,
   "toc_position": {
    "height": "calc(100% - 180px)",
    "left": "10px",
    "top": "150px",
    "width": "333.9130554199219px"
   },
   "toc_section_display": true,
   "toc_window_display": true
  }
 },
 "nbformat": 4,
 "nbformat_minor": 4
}
